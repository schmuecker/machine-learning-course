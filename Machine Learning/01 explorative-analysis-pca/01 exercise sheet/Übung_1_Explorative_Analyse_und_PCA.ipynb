{
  "nbformat": 4,
  "nbformat_minor": 5,
  "metadata": {
    "kernelspec": {
      "display_name": "Python 3",
      "language": "python",
      "name": "python3"
    },
    "language_info": {
      "codemirror_mode": {
        "name": "ipython",
        "version": 3
      },
      "file_extension": ".py",
      "mimetype": "text/x-python",
      "name": "python",
      "nbconvert_exporter": "python",
      "pygments_lexer": "ipython3",
      "version": "3.7.10"
    },
    "colab": {
      "name": "Übung 1 - Explorative_Analyse_und_PCA.ipynb",
      "provenance": [],
      "include_colab_link": true
    }
  },
  "cells": [
    {
      "cell_type": "markdown",
      "metadata": {
        "id": "view-in-github",
        "colab_type": "text"
      },
      "source": [
        "<a href=\"https://colab.research.google.com/github/schmuecker/machine-learning-course/blob/main/01%20explorative-analysis-pca/01%20exercise%20sheet/%C3%9Cbung_1_Explorative_Analyse_und_PCA.ipynb\" target=\"_parent\"><img src=\"https://colab.research.google.com/assets/colab-badge.svg\" alt=\"Open In Colab\"/></a>"
      ]
    },
    {
      "cell_type": "markdown",
      "metadata": {
        "id": "89f35b55"
      },
      "source": [
        "# Arbeitsblatt 1: Explorative Analyse und Hauptkomponentenanalyse\n",
        "\n",
        "## 1. Explorative Analyse des Datensatzes ''Boston Housing''\n",
        "\n",
        "*Boston Housing* ist ein berühmter Datensatz zur Evaluierung von Regressionsalgorithmen. Er enthält 506 Einträge mit jeweils 13 Variablen. Ziel ist es, den Hauspreis (`tgt`) aus den anderen Variablen vorherzusagen. Der Download dieses Datensatzes in einen Pandas-DataFrame wird folgendermaßen durchgeführt:"
      ],
      "id": "89f35b55"
    },
    {
      "cell_type": "code",
      "metadata": {
        "id": "a9fe9d40"
      },
      "source": [
        "import matplotlib.pyplot as plt\n",
        "import numpy as np\n",
        "import pandas as pd\n",
        "%matplotlib inline"
      ],
      "id": "a9fe9d40",
      "execution_count": null,
      "outputs": []
    },
    {
      "cell_type": "code",
      "metadata": {
        "id": "efbfe6ec"
      },
      "source": [
        "url = 'https://archive.ics.uci.edu/ml/machine-learning-databases/housing/housing.data'\n",
        "cols = ['CRIM','ZN','INDUS','CHAS','NOX','RM','AGE','DIS','RAD','TAX','PTRATIO','B',\n",
        "        'LSTAT','TGT']\n",
        "boston = pd.read_csv(url, sep=' ', skipinitialspace=True, header=None, names=cols, \n",
        "                     index_col=False)"
      ],
      "id": "efbfe6ec",
      "execution_count": null,
      "outputs": []
    },
    {
      "cell_type": "markdown",
      "metadata": {
        "id": "30546e2f"
      },
      "source": [
        "Wichtig für diese Übung ist eine grundlegende Vertrautheit mit den Python-Paketen Numpy und Pandas. Die Abgabe der Aufgabe erfolgt als fertiges IPython-Notebook mit Kommentaren in Markdown.\n",
        "\n",
        "Aufgaben:"
      ],
      "id": "30546e2f"
    },
    {
      "cell_type": "markdown",
      "metadata": {
        "id": "dea5563f"
      },
      "source": [
        "a) Führen Sie für diesen Datensatz eine explorative Analyse wie in der Vorlesung gezeigt mithilfe eines IPython-Notebooks und den Paketen Pandas und Numpy durch. \n",
        "\n",
        "Lösung: https://colab.research.google.com/drive/1c0DTrCcVRJtF9DNwHs9hilaxg9-HaRGy?usp=sharing"
      ],
      "id": "dea5563f"
    },
    {
      "cell_type": "markdown",
      "metadata": {
        "id": "c80f1524"
      },
      "source": [
        "b) Beantworten Sie anhand der Darstellung der Streumatrix folgende Fragen: \n",
        "\n",
        "Welche der Variablen sind kategorisch?\n",
        "- CHAS\n",
        "- RAD\n",
        "\n",
        "Welche der Variablen eignen sich gut zur Vorhersage des Hauspreises und warum?\n",
        "- LSTAT: je geringer der Anteil der sozial benachteiligten Bevölkerung, desto höher der Preis (TGT)\n",
        "- RM: je höher die Anzahl der Räume, desto höher der Preis \n",
        "- CRIM: je niedriger die Kriminalitätsrate, desto höher der Preis\n",
        "\n",
        "Welche dieser Variablen sind miteinander korreliert?\n",
        "- RM, TGT\n",
        "- RM, LSTAT\n",
        "- LSTAT, TGT\n",
        "- NOX, DIS\n",
        "- AGE, LSTAT\n",
        "- DIS, LSTAT\n",
        "- CRIM, TGT,\n",
        "- INDUS, NOX\n",
        "- NOX, RAD (korreliert wahrscheinlich, Sprünge in RAD)\n",
        "\n",
        "Welche sind daher Kandidaten, die man evtl. weglassen könnte? \n",
        "- ZN\n",
        "- CHAS\n",
        "- TAX\n",
        "- PTRATIO\n",
        "- B"
      ],
      "id": "c80f1524"
    },
    {
      "cell_type": "markdown",
      "metadata": {
        "id": "1dbd83b7"
      },
      "source": [
        "c) Die Dokumentation der eingesetzten Systemkonfiguration und Paketversionen erfolgt durch das Skript `version_information` von R. H. Johanson. Installation über"
      ],
      "id": "1dbd83b7"
    },
    {
      "cell_type": "code",
      "metadata": {
        "id": "2c6f8648",
        "colab": {
          "base_uri": "https://localhost:8080/"
        },
        "outputId": "39ff5a8b-2559-410d-837f-b690e8d8ce71"
      },
      "source": [
        "pip install version-information"
      ],
      "id": "2c6f8648",
      "execution_count": null,
      "outputs": [
        {
          "output_type": "stream",
          "name": "stdout",
          "text": [
            "Collecting version-information\n",
            "  Downloading version_information-1.0.4.tar.gz (3.8 kB)\n",
            "Building wheels for collected packages: version-information\n",
            "  Building wheel for version-information (setup.py) ... \u001b[?25l\u001b[?25hdone\n",
            "  Created wheel for version-information: filename=version_information-1.0.4-py3-none-any.whl size=3897 sha256=6630dd9979454a3feba51cff5bc41dd1147839756f739c96cee36c3823edbdd0\n",
            "  Stored in directory: /root/.cache/pip/wheels/4e/53/a7/dd2201446de224470b2e086457692a1565f2d98753aae0986d\n",
            "Successfully built version-information\n",
            "Installing collected packages: version-information\n",
            "Successfully installed version-information-1.0.4\n"
          ]
        }
      ]
    },
    {
      "cell_type": "markdown",
      "metadata": {
        "id": "fa39c877"
      },
      "source": [
        "Im Notebook-Header muss das Paket importiert werden über"
      ],
      "id": "fa39c877"
    },
    {
      "cell_type": "code",
      "metadata": {
        "id": "ed840117"
      },
      "source": [
        "%load_ext version_information"
      ],
      "id": "ed840117",
      "execution_count": null,
      "outputs": []
    },
    {
      "cell_type": "markdown",
      "metadata": {
        "id": "9830f458"
      },
      "source": [
        "Danach kann die Information über die Systemkonfiguration dargestellt werden durch"
      ],
      "id": "9830f458"
    },
    {
      "cell_type": "code",
      "metadata": {
        "id": "a3da8864",
        "colab": {
          "base_uri": "https://localhost:8080/",
          "height": 124
        },
        "outputId": "aa80086b-f9ab-406b-8c39-73b322118851"
      },
      "source": [
        "%version_information"
      ],
      "id": "a3da8864",
      "execution_count": null,
      "outputs": [
        {
          "output_type": "execute_result",
          "data": {
            "text/latex": "\\begin{tabular}{|l|l|}\\hline\n{\\bf Software} & {\\bf Version} \\\\ \\hline\\hline\nPython & 3.7.12 64bit [GCC 7.5.0] \\\\ \\hline\nIPython & 5.5.0 \\\\ \\hline\nOS & Linux 5.4.104+ x86\\_64 with Ubuntu 18.04 bionic \\\\ \\hline\n\\hline \\multicolumn{2}{|l|}{Tue Oct 19 16:11:10 2021 UTC} \\\\ \\hline\n\\end{tabular}\n",
            "application/json": {
              "Software versions": [
                {
                  "version": "3.7.12 64bit [GCC 7.5.0]",
                  "module": "Python"
                },
                {
                  "version": "5.5.0",
                  "module": "IPython"
                },
                {
                  "version": "Linux 5.4.104+ x86_64 with Ubuntu 18.04 bionic",
                  "module": "OS"
                }
              ]
            },
            "text/html": [
              "<table><tr><th>Software</th><th>Version</th></tr><tr><td>Python</td><td>3.7.12 64bit [GCC 7.5.0]</td></tr><tr><td>IPython</td><td>5.5.0</td></tr><tr><td>OS</td><td>Linux 5.4.104+ x86\\_64 with Ubuntu 18.04 bionic</td></tr><tr><td colspan='2'>Tue Oct 19 16:11:10 2021 UTC</td></tr></table>"
            ],
            "text/plain": [
              "Software versions\n",
              "Python 3.7.12 64bit [GCC 7.5.0]\n",
              "IPython 5.5.0\n",
              "OS Linux 5.4.104+ x86_64 with Ubuntu 18.04 bionic\n",
              "Tue Oct 19 16:11:10 2021 UTC"
            ]
          },
          "metadata": {},
          "execution_count": 3
        }
      ]
    },
    {
      "cell_type": "markdown",
      "metadata": {
        "id": "e983e99f"
      },
      "source": [
        "Sollen zusätzlich Versionsinformationen über die eingesetzten Pakete dargestellt werden, verwendet man (hier z.B. Numpy und Pandas)"
      ],
      "id": "e983e99f"
    },
    {
      "cell_type": "code",
      "metadata": {
        "id": "4ad71ed1",
        "colab": {
          "base_uri": "https://localhost:8080/",
          "height": 166
        },
        "outputId": "fc883fee-b3aa-4307-e966-076e0b77fab8"
      },
      "source": [
        "%version_information numpy, pandas"
      ],
      "id": "4ad71ed1",
      "execution_count": null,
      "outputs": [
        {
          "output_type": "execute_result",
          "data": {
            "text/latex": "\\begin{tabular}{|l|l|}\\hline\n{\\bf Software} & {\\bf Version} \\\\ \\hline\\hline\nPython & 3.7.12 64bit [GCC 7.5.0] \\\\ \\hline\nIPython & 5.5.0 \\\\ \\hline\nOS & Linux 5.4.104+ x86\\_64 with Ubuntu 18.04 bionic \\\\ \\hline\nnumpy & 1.19.5 \\\\ \\hline\npandas & 1.1.5 \\\\ \\hline\n\\hline \\multicolumn{2}{|l|}{Tue Oct 19 16:11:15 2021 UTC} \\\\ \\hline\n\\end{tabular}\n",
            "application/json": {
              "Software versions": [
                {
                  "version": "3.7.12 64bit [GCC 7.5.0]",
                  "module": "Python"
                },
                {
                  "version": "5.5.0",
                  "module": "IPython"
                },
                {
                  "version": "Linux 5.4.104+ x86_64 with Ubuntu 18.04 bionic",
                  "module": "OS"
                },
                {
                  "version": "1.19.5",
                  "module": "numpy"
                },
                {
                  "version": "1.1.5",
                  "module": "pandas"
                }
              ]
            },
            "text/html": [
              "<table><tr><th>Software</th><th>Version</th></tr><tr><td>Python</td><td>3.7.12 64bit [GCC 7.5.0]</td></tr><tr><td>IPython</td><td>5.5.0</td></tr><tr><td>OS</td><td>Linux 5.4.104+ x86\\_64 with Ubuntu 18.04 bionic</td></tr><tr><td>numpy</td><td>1.19.5</td></tr><tr><td>pandas</td><td>1.1.5</td></tr><tr><td colspan='2'>Tue Oct 19 16:11:15 2021 UTC</td></tr></table>"
            ],
            "text/plain": [
              "Software versions\n",
              "Python 3.7.12 64bit [GCC 7.5.0]\n",
              "IPython 5.5.0\n",
              "OS Linux 5.4.104+ x86_64 with Ubuntu 18.04 bionic\n",
              "numpy 1.19.5\n",
              "pandas 1.1.5\n",
              "Tue Oct 19 16:11:15 2021 UTC"
            ]
          },
          "metadata": {},
          "execution_count": 4
        }
      ]
    },
    {
      "cell_type": "markdown",
      "metadata": {
        "id": "ad7c89db"
      },
      "source": [
        "Diese Zeilen sollten immer am Ende des Notebooks aufgerufen werden, um ein Mindestmaß an Reproduzierbarkeit sicherzustellen."
      ],
      "id": "ad7c89db"
    },
    {
      "cell_type": "markdown",
      "metadata": {
        "id": "8e863242"
      },
      "source": [
        "## 2. Datenvorverarbeitung mit Pandas: Food Nutrient Database\n",
        "\n",
        "Diese Aufgabe befasst sich mit einer deutlich umfangreicheren Datenbank des *U.S. Department of Agriculture*, aufbereitet im Format JSON von A. Williams, zum Thema Nährstoffgehalt von Nahrungsmitteln. Sie enthält 6636 Einträge für Nahrungsmittel, alle in Form von JSON-Records, wie z.B.:\n",
        "\n",
        "```\n",
        "{\n",
        "    \"id\": 21441,\n",
        "    \"description\": \"KENTUCKY FRIED CHICKEN, Fried Chicken, EXTRA CRISPY, Wing,\n",
        "        meat and skin with breading\", \"tags\": [\"KFC\"],\n",
        "    \"manufacturer\": \"Kentucky Fried Chicken\", \"group\": \"Fast Foods\",\n",
        "    \"portions\": [ \n",
        "        {\n",
        "            \"amount\": 1,\n",
        "            \"unit\": \"wing , with skin\",\n",
        "            \"grams\": 68.0 \n",
        "        },\n",
        "        ...\n",
        "    ], \n",
        "    \"nutrients\": [\n",
        "        {\n",
        "            \"value\": 20.8,\n",
        "            \"units\": \"g\", \n",
        "            \"description\": \"Protein\",\n",
        "            \"group\": \"Composition\" \n",
        "        },\n",
        "        ... \n",
        "    ]\n",
        "}\n",
        "```\n",
        "\n",
        "Ziel der Analyse in dieser Übung ist es, eine explorative Analyse des Gehalts des Spurenelementes Zink in den verschiedenen Nahrungsmitteln zu durchzuführen. Notwendig dafür sind etwas aufwändigere, aber für die Datenanlyse typische Manipulationen mit Pandas sowie der\n",
        "Einsatz zusätzlicher Python-Standardbibliotheken zum Download und der Verarbeitung von Zip- und JSON-Dateien.\n",
        "\n",
        "Aufgaben:\n"
      ],
      "id": "8e863242"
    },
    {
      "cell_type": "markdown",
      "metadata": {
        "id": "49f56ba8"
      },
      "source": [
        "a) Laden Sie die Datenbank als zip-File aus Moodle herunter und lesen Sie dieses File direkt in ein neues Notebook ein. Die bisher verwendete Pandas-Methode `read_csv()` funktioniert für JSON-Files leider nicht. Das heruntergeladene File wird stattdessen mithilfe des Py- thonmoduls `zipfile` entpackt und dem Python-Befehl `open()` eingelesen. Die Umwandlung des JSON-Formates in ein geeignetes Python-Format erfolgt mit einem weiteren Modul der Python-Standardlibrary, `json`, hier mithilfe der Funktion `json.load()`. Lesen Sie dazu die zugehörigen, auf dem Web bzw. Stackoverflow verfügbaren Anleitungen."
      ],
      "id": "49f56ba8"
    },
    {
      "cell_type": "markdown",
      "metadata": {
        "id": "e24bee2f"
      },
      "source": [
        "b) Die Datenbank steht nun in Form einer Liste aus 6636 Python-Dictionaries zu Verfügung. Jedes Dictionary enthält Angaben zu einem Nahrungsmittel. Greifen Sie sich ein beliebiges Nahrungsmittel heraus und lassen sich die Namen der Einträge mit der Methode `dict.keys()` anzeigen. Einer der Einträge enthält die enthaltenen Nährstoffe (`nutrients`), ebenfalls als Dictionary. Lassen Sie sich wiederum einen beliebigen Eintrag der Nährstoffliste anzeigen. Es sollte auffallen, dass manche Feldnamen doppelt vorkommen.\n",
        "\n",
        "Teile dieser hierarchischen Struktur sollen nun in eine einheitliche Tabelle umgewandelt werden, um eine explorative Analyse durchführen zu können.\n",
        "\n",
        "Vorgehensweise:\n",
        "\n",
        "* Kopieren Sie zunächst die Felder `description`,`group`,`id`,`manufacturer` in einen eigenen DataFrame `info`, sowie alle Nährstofflisten in ein Array von DataFrames, wobei Sie an jeden DataFrame die entsprechende ID des Nahrungsmittels als eigene Spalte anhängen.\n",
        "* Dieses Array wird mithilfe der Funktion `pandas.concat()` zu einem großen DataFrame nutrients (389355 Einträge) vereinigt.\n",
        "* Entfernen Sie alle Duplikate aus diesem DataFrame.\n",
        "* Bevor beide DataFrames vereinigt werden können, gibt es noch ein Problem: beide enthalten Felder mit dem Namen `description` und `group` (s.o.). Benennen Sie diese daher mithilfe von DataFrame.rename() in eindeutige Namen um.\n",
        "* Vereinigen Sie beide DataFrames mit `pandas.merge(nutrients, info, on=’id’, how=’outer’)` anhand der Nahrungsmittel-ID.\n",
        "\n",
        "Überprüfen Sie das Ergebnis jeder Manipulation mit `DataFrame.head()``."
      ],
      "id": "e24bee2f"
    },
    {
      "cell_type": "markdown",
      "metadata": {
        "id": "907279ad"
      },
      "source": [
        "c) Nun sind die Daten bereit für die Untersuchung auf das Spurenelement Zink (Feldname: `Zinc, Zn`). Lesen Sie dazu alle Tabelleneinträge mithilfe einer geeigneten Indizierung in einen DataFrame aus, der nur Einträge zum Nährstoff Zink enthält. Daraus wählen Sie wiederum die Spalte mit dem Zinkgehalt in mg (`value`) aus und stellen dafür ein Histogramm und eine Liste deskriptiver Statistiken dar. Finden Sie in Ihrer Tabelle Edamer (`Cheese, edam`). Hat Edamer einen überdurchschnittlichen Zinkgehalt? Haben mehr als 75% aller Nahrungsmittel einen kleineren Zinkgehalt? Welches Nahrungsmittel hat den maximalen Zinkgehalt?"
      ],
      "id": "907279ad"
    },
    {
      "cell_type": "markdown",
      "metadata": {
        "id": "e9ce2f6a"
      },
      "source": [
        "## 3. Implementierung der Hauptkomponentenanalyse\n",
        "\n",
        "Wir beginnen zunächst mit einem schon bekannten Datensatz *Boston Housing*. Zur praktischen Berechnung der Hauptkomponentenanalyse gehen Sie folgt vor:\n",
        "\n",
        "1. Gegeben eine Menge von $n$ $d$-dimensionalen Datenpunkten $\\mathbf{x}_i$, berechnen Sie zuerst deren Mittelwert $\\boldsymbol{\\mu}_x = \\frac{1}{n} \\sum_{i=1}^n \\mathbf{x}_i$ für jedes einzelne Merkmal und ziehen ihn von allen Datenpunkten ab (Zentrierung).\n",
        "2. Normieren Sie dann alle Merkmale so, dass sie eine Varianz von 1 haben. Dieser Schritt ist optional, aber meist vorteilhaft.\n",
        "3. Kopieren Sie alle $\\mathbf{x}_i$ als Reihen in eine $n \\times d$-Matrix $X$, die sog. Daten- oder Designmatrix.\n",
        "4. Zur Lösung des Eigenwertproblens berechnen Sie die Singulärwertzerlegung von $X$ (z.B. mit `numpy.linalg.svd()`): $$ X = UDV^\\top $$\n",
        "Wer nicht weiß, was eine Singuärwertzerlegung ist oder macht, der lese bitte in den entsprechenden Wikipedia-Einträgen nach. Im Prinzip könnte man auch direkt die Eigenwerte der Kovarianzmatrix (s. Folie 12) berechnen (z.B. mit `numpy.linalg.eig()`), diese Methode ist aber meist aufwändiger und numerisch weniger stabil.\n",
        "5. Die ersten $r$ Basisvektoren $\\mathbf{q}_i$  (d.h die ersten $r$ Hauptkomponenten) sind die ersten $r$ Spalten der orthogonalen $d \\times d$-Matrix $V$.\n",
        "6. Die Projektionen $a_i$ der Daten $\\mathbf{x}_i$ auf die ersten $r$ Basisvektoren $\\mathbf{q}_i$ (d.h die neuen Variablenwerte im neuen Koordinatensystem) sind die die ersten $r$ Spalten der $n \\times d$-Matrix $UD$.\n",
        "7. Die Standardabweichungen entlang der Hauptkomponenten $\\mathbf{q}_i$ sind die Diagonalelemente der Diagonalmatrix $D$ geteilt durch $n − 1$.\n",
        "\n",
        "Aufgaben:"
      ],
      "id": "e9ce2f6a"
    },
    {
      "cell_type": "markdown",
      "metadata": {
        "id": "3e19cc61"
      },
      "source": [
        "a) Implementieren Sie ein Python-Modul, das eine Funktion zur Hauptkomponentenanalyse nach obigem Schema zur Verfügung stellt."
      ],
      "id": "3e19cc61"
    },
    {
      "cell_type": "markdown",
      "metadata": {
        "id": "24f57c01"
      },
      "source": [
        "b) Testen Sie Ihr Modul innerhalb eines IPython-Notebooks am Datensatz *Boston Housing*. Lassen Sie dabei die Variable `TGT` weg. Stellen Sie Ihre Ergebnisse in einer Tabelle mit den Eigenwerten der Kovarianzmatrix (Achtung: die Diagonalelemente von $D$ müssen dafür quadriert und durch $n − 1$ geteilt werden. Warum?), dem Anteil der zugehörigen Hauptkomponente an an der Gesamtvarianz (“erklärte Varianz”) und der kumulativen erklärten Varianz dar, d.h. welchen Varianzanteil die ersten $n$ Komponenten zusammen erklären. Wieviele Dimensionen können Sie weglassen, wenn Sie 10%, 5% und 1% Fehler bei der Dimensionsreduktion zulassen?"
      ],
      "id": "24f57c01"
    },
    {
      "cell_type": "markdown",
      "metadata": {
        "id": "c4e92aa8"
      },
      "source": [
        "c) Berechnen Sie die Matrix der Korrelationskoeffizienten für die transformierten Variablen und interpretieren Sie das Ergebnis."
      ],
      "id": "c4e92aa8"
    },
    {
      "cell_type": "markdown",
      "metadata": {
        "id": "886f4b48"
      },
      "source": [
        "d) Berechnen Sie den Korrelationskoeffizienten der Projektionen auf die ersten drei Hauptkomponenten mit den ursprünglichen Variablen. Interpretieren Sie Ihr Ergebnis."
      ],
      "id": "886f4b48"
    },
    {
      "cell_type": "markdown",
      "metadata": {
        "id": "267adfdb"
      },
      "source": [
        "e. Stellen Sie die ersten beiden der neuen Variablen als Scatterplot dar (am besten in Pandas-Dataframe importieren). Plotten Sie dabei alle Datenpunkte mit einem Hauspreis oberhalb des Medians aller Hauspreise in einer anderen Farbe als die Datenpunkte unterhalb. Eignen sich die beiden neuen Variablen zur Vorhersage des Hauspreises?"
      ],
      "id": "267adfdb"
    },
    {
      "cell_type": "code",
      "metadata": {
        "id": "e7a42406"
      },
      "source": [
        ""
      ],
      "id": "e7a42406",
      "execution_count": null,
      "outputs": []
    }
  ]
}