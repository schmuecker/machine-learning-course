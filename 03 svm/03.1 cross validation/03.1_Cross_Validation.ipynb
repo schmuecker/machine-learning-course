{
  "nbformat": 4,
  "nbformat_minor": 0,
  "metadata": {
    "orig_nbformat": 4,
    "colab": {
      "name": "03.1_Cross_Validation.ipynb",
      "provenance": [],
      "include_colab_link": true
    },
    "language_info": {
      "name": "python"
    },
    "kernelspec": {
      "name": "python3",
      "display_name": "Python 3"
    }
  },
  "cells": [
    {
      "cell_type": "markdown",
      "metadata": {
        "id": "view-in-github",
        "colab_type": "text"
      },
      "source": [
        "<a href=\"https://colab.research.google.com/github/schmuecker/machine-learning-course/blob/main/03%20svm/03.1%20cross%20validation/03.1_Cross_Validation.ipynb\" target=\"_parent\"><img src=\"https://colab.research.google.com/assets/colab-badge.svg\" alt=\"Open In Colab\"/></a>"
      ]
    },
    {
      "cell_type": "markdown",
      "metadata": {
        "id": "TMJ5HEIhiPE_"
      },
      "source": [
        "# Cross Validation"
      ]
    },
    {
      "cell_type": "markdown",
      "metadata": {
        "id": "eQ4L9w0Zmh8U"
      },
      "source": [
        "## 1 a)"
      ]
    },
    {
      "cell_type": "markdown",
      "metadata": {
        "id": "qbEOMMbqiwbr"
      },
      "source": [
        "**Handschrift-Datensatz laden**"
      ]
    },
    {
      "cell_type": "code",
      "metadata": {
        "id": "mYhQFf1JhxLP"
      },
      "source": [
        "import pandas as pd\n",
        "import numpy as np\n",
        "from sklearn import datasets\n",
        "digits = datasets.load_digits()"
      ],
      "execution_count": 1,
      "outputs": []
    },
    {
      "cell_type": "code",
      "metadata": {
        "colab": {
          "base_uri": "https://localhost:8080/",
          "height": 123
        },
        "id": "qJFo_po_iYTd",
        "outputId": "435d7509-0040-4a8a-c045-27ebb5e6565c"
      },
      "source": [
        "digits.DESCR"
      ],
      "execution_count": 2,
      "outputs": [
        {
          "output_type": "execute_result",
          "data": {
            "application/vnd.google.colaboratory.intrinsic+json": {
              "type": "string"
            },
            "text/plain": [
              "\".. _digits_dataset:\\n\\nOptical recognition of handwritten digits dataset\\n--------------------------------------------------\\n\\n**Data Set Characteristics:**\\n\\n    :Number of Instances: 1797\\n    :Number of Attributes: 64\\n    :Attribute Information: 8x8 image of integer pixels in the range 0..16.\\n    :Missing Attribute Values: None\\n    :Creator: E. Alpaydin (alpaydin '@' boun.edu.tr)\\n    :Date: July; 1998\\n\\nThis is a copy of the test set of the UCI ML hand-written digits datasets\\nhttps://archive.ics.uci.edu/ml/datasets/Optical+Recognition+of+Handwritten+Digits\\n\\nThe data set contains images of hand-written digits: 10 classes where\\neach class refers to a digit.\\n\\nPreprocessing programs made available by NIST were used to extract\\nnormalized bitmaps of handwritten digits from a preprinted form. From a\\ntotal of 43 people, 30 contributed to the training set and different 13\\nto the test set. 32x32 bitmaps are divided into nonoverlapping blocks of\\n4x4 and the number of on pixels are counted in each block. This generates\\nan input matrix of 8x8 where each element is an integer in the range\\n0..16. This reduces dimensionality and gives invariance to small\\ndistortions.\\n\\nFor info on NIST preprocessing routines, see M. D. Garris, J. L. Blue, G.\\nT. Candela, D. L. Dimmick, J. Geist, P. J. Grother, S. A. Janet, and C.\\nL. Wilson, NIST Form-Based Handprint Recognition System, NISTIR 5469,\\n1994.\\n\\n.. topic:: References\\n\\n  - C. Kaynak (1995) Methods of Combining Multiple Classifiers and Their\\n    Applications to Handwritten Digit Recognition, MSc Thesis, Institute of\\n    Graduate Studies in Science and Engineering, Bogazici University.\\n  - E. Alpaydin, C. Kaynak (1998) Cascading Classifiers, Kybernetika.\\n  - Ken Tang and Ponnuthurai N. Suganthan and Xi Yao and A. Kai Qin.\\n    Linear dimensionalityreduction using relevance weighted LDA. School of\\n    Electrical and Electronic Engineering Nanyang Technological University.\\n    2005.\\n  - Claudio Gentile. A New Approximate Maximal Margin Classification\\n    Algorithm. NIPS. 2000.\\n\""
            ]
          },
          "metadata": {},
          "execution_count": 2
        }
      ]
    },
    {
      "cell_type": "markdown",
      "metadata": {
        "id": "qO7EEiUqimev"
      },
      "source": [
        "**Merkmalsvektoren**"
      ]
    },
    {
      "cell_type": "code",
      "metadata": {
        "colab": {
          "base_uri": "https://localhost:8080/"
        },
        "id": "-jVSL1TXidoo",
        "outputId": "563e7b09-39fc-4f32-9153-31c343f090af"
      },
      "source": [
        "digits.data"
      ],
      "execution_count": 3,
      "outputs": [
        {
          "output_type": "execute_result",
          "data": {
            "text/plain": [
              "array([[ 0.,  0.,  5., ...,  0.,  0.,  0.],\n",
              "       [ 0.,  0.,  0., ..., 10.,  0.,  0.],\n",
              "       [ 0.,  0.,  0., ..., 16.,  9.,  0.],\n",
              "       ...,\n",
              "       [ 0.,  0.,  1., ...,  6.,  0.,  0.],\n",
              "       [ 0.,  0.,  2., ..., 12.,  0.,  0.],\n",
              "       [ 0.,  0., 10., ..., 12.,  1.,  0.]])"
            ]
          },
          "metadata": {},
          "execution_count": 3
        }
      ]
    },
    {
      "cell_type": "code",
      "metadata": {
        "colab": {
          "base_uri": "https://localhost:8080/",
          "height": 317
        },
        "id": "Oxvce6I2jRsJ",
        "outputId": "0aabad66-e879-4015-acd9-f1b693f5016c"
      },
      "source": [
        "features_df = pd.DataFrame(digits.data)\n",
        "features_df.describe()"
      ],
      "execution_count": 4,
      "outputs": [
        {
          "output_type": "execute_result",
          "data": {
            "text/html": [
              "<div>\n",
              "<style scoped>\n",
              "    .dataframe tbody tr th:only-of-type {\n",
              "        vertical-align: middle;\n",
              "    }\n",
              "\n",
              "    .dataframe tbody tr th {\n",
              "        vertical-align: top;\n",
              "    }\n",
              "\n",
              "    .dataframe thead th {\n",
              "        text-align: right;\n",
              "    }\n",
              "</style>\n",
              "<table border=\"1\" class=\"dataframe\">\n",
              "  <thead>\n",
              "    <tr style=\"text-align: right;\">\n",
              "      <th></th>\n",
              "      <th>0</th>\n",
              "      <th>1</th>\n",
              "      <th>2</th>\n",
              "      <th>3</th>\n",
              "      <th>4</th>\n",
              "      <th>5</th>\n",
              "      <th>6</th>\n",
              "      <th>7</th>\n",
              "      <th>8</th>\n",
              "      <th>9</th>\n",
              "      <th>10</th>\n",
              "      <th>11</th>\n",
              "      <th>12</th>\n",
              "      <th>13</th>\n",
              "      <th>14</th>\n",
              "      <th>15</th>\n",
              "      <th>16</th>\n",
              "      <th>17</th>\n",
              "      <th>18</th>\n",
              "      <th>19</th>\n",
              "      <th>20</th>\n",
              "      <th>21</th>\n",
              "      <th>22</th>\n",
              "      <th>23</th>\n",
              "      <th>24</th>\n",
              "      <th>25</th>\n",
              "      <th>26</th>\n",
              "      <th>27</th>\n",
              "      <th>28</th>\n",
              "      <th>29</th>\n",
              "      <th>30</th>\n",
              "      <th>31</th>\n",
              "      <th>32</th>\n",
              "      <th>33</th>\n",
              "      <th>34</th>\n",
              "      <th>35</th>\n",
              "      <th>36</th>\n",
              "      <th>37</th>\n",
              "      <th>38</th>\n",
              "      <th>39</th>\n",
              "      <th>40</th>\n",
              "      <th>41</th>\n",
              "      <th>42</th>\n",
              "      <th>43</th>\n",
              "      <th>44</th>\n",
              "      <th>45</th>\n",
              "      <th>46</th>\n",
              "      <th>47</th>\n",
              "      <th>48</th>\n",
              "      <th>49</th>\n",
              "      <th>50</th>\n",
              "      <th>51</th>\n",
              "      <th>52</th>\n",
              "      <th>53</th>\n",
              "      <th>54</th>\n",
              "      <th>55</th>\n",
              "      <th>56</th>\n",
              "      <th>57</th>\n",
              "      <th>58</th>\n",
              "      <th>59</th>\n",
              "      <th>60</th>\n",
              "      <th>61</th>\n",
              "      <th>62</th>\n",
              "      <th>63</th>\n",
              "    </tr>\n",
              "  </thead>\n",
              "  <tbody>\n",
              "    <tr>\n",
              "      <th>count</th>\n",
              "      <td>1797.0</td>\n",
              "      <td>1797.000000</td>\n",
              "      <td>1797.000000</td>\n",
              "      <td>1797.000000</td>\n",
              "      <td>1797.000000</td>\n",
              "      <td>1797.000000</td>\n",
              "      <td>1797.000000</td>\n",
              "      <td>1797.000000</td>\n",
              "      <td>1797.000000</td>\n",
              "      <td>1797.000000</td>\n",
              "      <td>1797.000000</td>\n",
              "      <td>1797.000000</td>\n",
              "      <td>1797.000000</td>\n",
              "      <td>1797.000000</td>\n",
              "      <td>1797.000000</td>\n",
              "      <td>1797.000000</td>\n",
              "      <td>1797.000000</td>\n",
              "      <td>1797.000000</td>\n",
              "      <td>1797.000000</td>\n",
              "      <td>1797.000000</td>\n",
              "      <td>1797.000000</td>\n",
              "      <td>1797.000000</td>\n",
              "      <td>1797.000000</td>\n",
              "      <td>1797.000000</td>\n",
              "      <td>1797.000000</td>\n",
              "      <td>1797.000000</td>\n",
              "      <td>1797.000000</td>\n",
              "      <td>1797.000000</td>\n",
              "      <td>1797.000000</td>\n",
              "      <td>1797.000000</td>\n",
              "      <td>1797.000000</td>\n",
              "      <td>1797.000000</td>\n",
              "      <td>1797.0</td>\n",
              "      <td>1797.000000</td>\n",
              "      <td>1797.000000</td>\n",
              "      <td>1797.000000</td>\n",
              "      <td>1797.000000</td>\n",
              "      <td>1797.000000</td>\n",
              "      <td>1797.000000</td>\n",
              "      <td>1797.0</td>\n",
              "      <td>1797.000000</td>\n",
              "      <td>1797.000000</td>\n",
              "      <td>1797.000000</td>\n",
              "      <td>1797.000000</td>\n",
              "      <td>1797.000000</td>\n",
              "      <td>1797.000000</td>\n",
              "      <td>1797.000000</td>\n",
              "      <td>1797.000000</td>\n",
              "      <td>1797.000000</td>\n",
              "      <td>1797.000000</td>\n",
              "      <td>1797.000000</td>\n",
              "      <td>1797.000000</td>\n",
              "      <td>1797.000000</td>\n",
              "      <td>1797.000000</td>\n",
              "      <td>1797.000000</td>\n",
              "      <td>1797.000000</td>\n",
              "      <td>1797.000000</td>\n",
              "      <td>1797.000000</td>\n",
              "      <td>1797.000000</td>\n",
              "      <td>1797.000000</td>\n",
              "      <td>1797.000000</td>\n",
              "      <td>1797.000000</td>\n",
              "      <td>1797.000000</td>\n",
              "      <td>1797.000000</td>\n",
              "    </tr>\n",
              "    <tr>\n",
              "      <th>mean</th>\n",
              "      <td>0.0</td>\n",
              "      <td>0.303840</td>\n",
              "      <td>5.204786</td>\n",
              "      <td>11.835838</td>\n",
              "      <td>11.848080</td>\n",
              "      <td>5.781859</td>\n",
              "      <td>1.362270</td>\n",
              "      <td>0.129661</td>\n",
              "      <td>0.005565</td>\n",
              "      <td>1.993879</td>\n",
              "      <td>10.382304</td>\n",
              "      <td>11.979410</td>\n",
              "      <td>10.279354</td>\n",
              "      <td>8.175849</td>\n",
              "      <td>1.846411</td>\n",
              "      <td>0.107958</td>\n",
              "      <td>0.002782</td>\n",
              "      <td>2.601558</td>\n",
              "      <td>9.903172</td>\n",
              "      <td>6.992766</td>\n",
              "      <td>7.097941</td>\n",
              "      <td>7.806344</td>\n",
              "      <td>1.788536</td>\n",
              "      <td>0.050083</td>\n",
              "      <td>0.001113</td>\n",
              "      <td>2.469672</td>\n",
              "      <td>9.091263</td>\n",
              "      <td>8.821369</td>\n",
              "      <td>9.927101</td>\n",
              "      <td>7.551475</td>\n",
              "      <td>2.317752</td>\n",
              "      <td>0.002226</td>\n",
              "      <td>0.0</td>\n",
              "      <td>2.339455</td>\n",
              "      <td>7.667223</td>\n",
              "      <td>9.071786</td>\n",
              "      <td>10.301614</td>\n",
              "      <td>8.744018</td>\n",
              "      <td>2.909293</td>\n",
              "      <td>0.0</td>\n",
              "      <td>0.008904</td>\n",
              "      <td>1.583751</td>\n",
              "      <td>6.881469</td>\n",
              "      <td>7.228158</td>\n",
              "      <td>7.672231</td>\n",
              "      <td>8.236505</td>\n",
              "      <td>3.456316</td>\n",
              "      <td>0.027268</td>\n",
              "      <td>0.007234</td>\n",
              "      <td>0.704508</td>\n",
              "      <td>7.506956</td>\n",
              "      <td>9.539232</td>\n",
              "      <td>9.416249</td>\n",
              "      <td>8.758486</td>\n",
              "      <td>3.725097</td>\n",
              "      <td>0.206455</td>\n",
              "      <td>0.000556</td>\n",
              "      <td>0.279354</td>\n",
              "      <td>5.557596</td>\n",
              "      <td>12.089037</td>\n",
              "      <td>11.809126</td>\n",
              "      <td>6.764051</td>\n",
              "      <td>2.067891</td>\n",
              "      <td>0.364496</td>\n",
              "    </tr>\n",
              "    <tr>\n",
              "      <th>std</th>\n",
              "      <td>0.0</td>\n",
              "      <td>0.907192</td>\n",
              "      <td>4.754826</td>\n",
              "      <td>4.248842</td>\n",
              "      <td>4.287388</td>\n",
              "      <td>5.666418</td>\n",
              "      <td>3.325775</td>\n",
              "      <td>1.037383</td>\n",
              "      <td>0.094222</td>\n",
              "      <td>3.196160</td>\n",
              "      <td>5.421456</td>\n",
              "      <td>3.977543</td>\n",
              "      <td>4.782681</td>\n",
              "      <td>6.052960</td>\n",
              "      <td>3.586321</td>\n",
              "      <td>0.827915</td>\n",
              "      <td>0.062368</td>\n",
              "      <td>3.576301</td>\n",
              "      <td>5.690767</td>\n",
              "      <td>5.802662</td>\n",
              "      <td>6.175729</td>\n",
              "      <td>6.197322</td>\n",
              "      <td>3.259870</td>\n",
              "      <td>0.438597</td>\n",
              "      <td>0.033352</td>\n",
              "      <td>3.146532</td>\n",
              "      <td>6.192038</td>\n",
              "      <td>5.882936</td>\n",
              "      <td>6.152093</td>\n",
              "      <td>5.872556</td>\n",
              "      <td>3.686456</td>\n",
              "      <td>0.047140</td>\n",
              "      <td>0.0</td>\n",
              "      <td>3.480372</td>\n",
              "      <td>6.324687</td>\n",
              "      <td>6.268391</td>\n",
              "      <td>5.933490</td>\n",
              "      <td>5.870648</td>\n",
              "      <td>3.537283</td>\n",
              "      <td>0.0</td>\n",
              "      <td>0.145185</td>\n",
              "      <td>2.981816</td>\n",
              "      <td>6.537955</td>\n",
              "      <td>6.441378</td>\n",
              "      <td>6.259511</td>\n",
              "      <td>5.695527</td>\n",
              "      <td>4.330951</td>\n",
              "      <td>0.307356</td>\n",
              "      <td>0.204223</td>\n",
              "      <td>1.746153</td>\n",
              "      <td>5.644496</td>\n",
              "      <td>5.226948</td>\n",
              "      <td>5.302048</td>\n",
              "      <td>6.031154</td>\n",
              "      <td>4.919406</td>\n",
              "      <td>0.984401</td>\n",
              "      <td>0.023590</td>\n",
              "      <td>0.934302</td>\n",
              "      <td>5.103019</td>\n",
              "      <td>4.374694</td>\n",
              "      <td>4.933947</td>\n",
              "      <td>5.900623</td>\n",
              "      <td>4.090548</td>\n",
              "      <td>1.860122</td>\n",
              "    </tr>\n",
              "    <tr>\n",
              "      <th>min</th>\n",
              "      <td>0.0</td>\n",
              "      <td>0.000000</td>\n",
              "      <td>0.000000</td>\n",
              "      <td>0.000000</td>\n",
              "      <td>0.000000</td>\n",
              "      <td>0.000000</td>\n",
              "      <td>0.000000</td>\n",
              "      <td>0.000000</td>\n",
              "      <td>0.000000</td>\n",
              "      <td>0.000000</td>\n",
              "      <td>0.000000</td>\n",
              "      <td>0.000000</td>\n",
              "      <td>0.000000</td>\n",
              "      <td>0.000000</td>\n",
              "      <td>0.000000</td>\n",
              "      <td>0.000000</td>\n",
              "      <td>0.000000</td>\n",
              "      <td>0.000000</td>\n",
              "      <td>0.000000</td>\n",
              "      <td>0.000000</td>\n",
              "      <td>0.000000</td>\n",
              "      <td>0.000000</td>\n",
              "      <td>0.000000</td>\n",
              "      <td>0.000000</td>\n",
              "      <td>0.000000</td>\n",
              "      <td>0.000000</td>\n",
              "      <td>0.000000</td>\n",
              "      <td>0.000000</td>\n",
              "      <td>0.000000</td>\n",
              "      <td>0.000000</td>\n",
              "      <td>0.000000</td>\n",
              "      <td>0.000000</td>\n",
              "      <td>0.0</td>\n",
              "      <td>0.000000</td>\n",
              "      <td>0.000000</td>\n",
              "      <td>0.000000</td>\n",
              "      <td>0.000000</td>\n",
              "      <td>0.000000</td>\n",
              "      <td>0.000000</td>\n",
              "      <td>0.0</td>\n",
              "      <td>0.000000</td>\n",
              "      <td>0.000000</td>\n",
              "      <td>0.000000</td>\n",
              "      <td>0.000000</td>\n",
              "      <td>0.000000</td>\n",
              "      <td>0.000000</td>\n",
              "      <td>0.000000</td>\n",
              "      <td>0.000000</td>\n",
              "      <td>0.000000</td>\n",
              "      <td>0.000000</td>\n",
              "      <td>0.000000</td>\n",
              "      <td>0.000000</td>\n",
              "      <td>0.000000</td>\n",
              "      <td>0.000000</td>\n",
              "      <td>0.000000</td>\n",
              "      <td>0.000000</td>\n",
              "      <td>0.000000</td>\n",
              "      <td>0.000000</td>\n",
              "      <td>0.000000</td>\n",
              "      <td>0.000000</td>\n",
              "      <td>0.000000</td>\n",
              "      <td>0.000000</td>\n",
              "      <td>0.000000</td>\n",
              "      <td>0.000000</td>\n",
              "    </tr>\n",
              "    <tr>\n",
              "      <th>25%</th>\n",
              "      <td>0.0</td>\n",
              "      <td>0.000000</td>\n",
              "      <td>1.000000</td>\n",
              "      <td>10.000000</td>\n",
              "      <td>10.000000</td>\n",
              "      <td>0.000000</td>\n",
              "      <td>0.000000</td>\n",
              "      <td>0.000000</td>\n",
              "      <td>0.000000</td>\n",
              "      <td>0.000000</td>\n",
              "      <td>6.000000</td>\n",
              "      <td>9.000000</td>\n",
              "      <td>7.000000</td>\n",
              "      <td>2.000000</td>\n",
              "      <td>0.000000</td>\n",
              "      <td>0.000000</td>\n",
              "      <td>0.000000</td>\n",
              "      <td>0.000000</td>\n",
              "      <td>5.000000</td>\n",
              "      <td>1.000000</td>\n",
              "      <td>1.000000</td>\n",
              "      <td>0.000000</td>\n",
              "      <td>0.000000</td>\n",
              "      <td>0.000000</td>\n",
              "      <td>0.000000</td>\n",
              "      <td>0.000000</td>\n",
              "      <td>3.000000</td>\n",
              "      <td>3.000000</td>\n",
              "      <td>4.000000</td>\n",
              "      <td>1.000000</td>\n",
              "      <td>0.000000</td>\n",
              "      <td>0.000000</td>\n",
              "      <td>0.0</td>\n",
              "      <td>0.000000</td>\n",
              "      <td>0.000000</td>\n",
              "      <td>3.000000</td>\n",
              "      <td>6.000000</td>\n",
              "      <td>3.000000</td>\n",
              "      <td>0.000000</td>\n",
              "      <td>0.0</td>\n",
              "      <td>0.000000</td>\n",
              "      <td>0.000000</td>\n",
              "      <td>0.000000</td>\n",
              "      <td>0.000000</td>\n",
              "      <td>1.000000</td>\n",
              "      <td>3.000000</td>\n",
              "      <td>0.000000</td>\n",
              "      <td>0.000000</td>\n",
              "      <td>0.000000</td>\n",
              "      <td>0.000000</td>\n",
              "      <td>2.000000</td>\n",
              "      <td>5.000000</td>\n",
              "      <td>5.000000</td>\n",
              "      <td>2.000000</td>\n",
              "      <td>0.000000</td>\n",
              "      <td>0.000000</td>\n",
              "      <td>0.000000</td>\n",
              "      <td>0.000000</td>\n",
              "      <td>1.000000</td>\n",
              "      <td>11.000000</td>\n",
              "      <td>10.000000</td>\n",
              "      <td>0.000000</td>\n",
              "      <td>0.000000</td>\n",
              "      <td>0.000000</td>\n",
              "    </tr>\n",
              "    <tr>\n",
              "      <th>50%</th>\n",
              "      <td>0.0</td>\n",
              "      <td>0.000000</td>\n",
              "      <td>4.000000</td>\n",
              "      <td>13.000000</td>\n",
              "      <td>13.000000</td>\n",
              "      <td>4.000000</td>\n",
              "      <td>0.000000</td>\n",
              "      <td>0.000000</td>\n",
              "      <td>0.000000</td>\n",
              "      <td>0.000000</td>\n",
              "      <td>12.000000</td>\n",
              "      <td>13.000000</td>\n",
              "      <td>11.000000</td>\n",
              "      <td>9.000000</td>\n",
              "      <td>0.000000</td>\n",
              "      <td>0.000000</td>\n",
              "      <td>0.000000</td>\n",
              "      <td>1.000000</td>\n",
              "      <td>12.000000</td>\n",
              "      <td>6.000000</td>\n",
              "      <td>6.000000</td>\n",
              "      <td>8.000000</td>\n",
              "      <td>0.000000</td>\n",
              "      <td>0.000000</td>\n",
              "      <td>0.000000</td>\n",
              "      <td>1.000000</td>\n",
              "      <td>11.000000</td>\n",
              "      <td>10.000000</td>\n",
              "      <td>12.000000</td>\n",
              "      <td>7.000000</td>\n",
              "      <td>0.000000</td>\n",
              "      <td>0.000000</td>\n",
              "      <td>0.0</td>\n",
              "      <td>0.000000</td>\n",
              "      <td>8.000000</td>\n",
              "      <td>10.000000</td>\n",
              "      <td>13.000000</td>\n",
              "      <td>10.000000</td>\n",
              "      <td>1.000000</td>\n",
              "      <td>0.0</td>\n",
              "      <td>0.000000</td>\n",
              "      <td>0.000000</td>\n",
              "      <td>6.000000</td>\n",
              "      <td>7.000000</td>\n",
              "      <td>8.000000</td>\n",
              "      <td>9.000000</td>\n",
              "      <td>1.000000</td>\n",
              "      <td>0.000000</td>\n",
              "      <td>0.000000</td>\n",
              "      <td>0.000000</td>\n",
              "      <td>8.000000</td>\n",
              "      <td>10.000000</td>\n",
              "      <td>10.000000</td>\n",
              "      <td>10.000000</td>\n",
              "      <td>1.000000</td>\n",
              "      <td>0.000000</td>\n",
              "      <td>0.000000</td>\n",
              "      <td>0.000000</td>\n",
              "      <td>4.000000</td>\n",
              "      <td>13.000000</td>\n",
              "      <td>14.000000</td>\n",
              "      <td>6.000000</td>\n",
              "      <td>0.000000</td>\n",
              "      <td>0.000000</td>\n",
              "    </tr>\n",
              "    <tr>\n",
              "      <th>75%</th>\n",
              "      <td>0.0</td>\n",
              "      <td>0.000000</td>\n",
              "      <td>9.000000</td>\n",
              "      <td>15.000000</td>\n",
              "      <td>15.000000</td>\n",
              "      <td>11.000000</td>\n",
              "      <td>0.000000</td>\n",
              "      <td>0.000000</td>\n",
              "      <td>0.000000</td>\n",
              "      <td>3.000000</td>\n",
              "      <td>15.000000</td>\n",
              "      <td>16.000000</td>\n",
              "      <td>15.000000</td>\n",
              "      <td>14.000000</td>\n",
              "      <td>2.000000</td>\n",
              "      <td>0.000000</td>\n",
              "      <td>0.000000</td>\n",
              "      <td>4.000000</td>\n",
              "      <td>15.000000</td>\n",
              "      <td>12.000000</td>\n",
              "      <td>13.000000</td>\n",
              "      <td>14.000000</td>\n",
              "      <td>3.000000</td>\n",
              "      <td>0.000000</td>\n",
              "      <td>0.000000</td>\n",
              "      <td>4.000000</td>\n",
              "      <td>15.000000</td>\n",
              "      <td>15.000000</td>\n",
              "      <td>16.000000</td>\n",
              "      <td>13.000000</td>\n",
              "      <td>4.000000</td>\n",
              "      <td>0.000000</td>\n",
              "      <td>0.0</td>\n",
              "      <td>4.000000</td>\n",
              "      <td>14.000000</td>\n",
              "      <td>16.000000</td>\n",
              "      <td>16.000000</td>\n",
              "      <td>14.000000</td>\n",
              "      <td>6.000000</td>\n",
              "      <td>0.0</td>\n",
              "      <td>0.000000</td>\n",
              "      <td>2.000000</td>\n",
              "      <td>14.000000</td>\n",
              "      <td>14.000000</td>\n",
              "      <td>14.000000</td>\n",
              "      <td>13.000000</td>\n",
              "      <td>7.000000</td>\n",
              "      <td>0.000000</td>\n",
              "      <td>0.000000</td>\n",
              "      <td>0.000000</td>\n",
              "      <td>13.000000</td>\n",
              "      <td>14.000000</td>\n",
              "      <td>15.000000</td>\n",
              "      <td>15.000000</td>\n",
              "      <td>7.000000</td>\n",
              "      <td>0.000000</td>\n",
              "      <td>0.000000</td>\n",
              "      <td>0.000000</td>\n",
              "      <td>10.000000</td>\n",
              "      <td>16.000000</td>\n",
              "      <td>16.000000</td>\n",
              "      <td>12.000000</td>\n",
              "      <td>2.000000</td>\n",
              "      <td>0.000000</td>\n",
              "    </tr>\n",
              "    <tr>\n",
              "      <th>max</th>\n",
              "      <td>0.0</td>\n",
              "      <td>8.000000</td>\n",
              "      <td>16.000000</td>\n",
              "      <td>16.000000</td>\n",
              "      <td>16.000000</td>\n",
              "      <td>16.000000</td>\n",
              "      <td>16.000000</td>\n",
              "      <td>15.000000</td>\n",
              "      <td>2.000000</td>\n",
              "      <td>16.000000</td>\n",
              "      <td>16.000000</td>\n",
              "      <td>16.000000</td>\n",
              "      <td>16.000000</td>\n",
              "      <td>16.000000</td>\n",
              "      <td>16.000000</td>\n",
              "      <td>12.000000</td>\n",
              "      <td>2.000000</td>\n",
              "      <td>16.000000</td>\n",
              "      <td>16.000000</td>\n",
              "      <td>16.000000</td>\n",
              "      <td>16.000000</td>\n",
              "      <td>16.000000</td>\n",
              "      <td>16.000000</td>\n",
              "      <td>8.000000</td>\n",
              "      <td>1.000000</td>\n",
              "      <td>15.000000</td>\n",
              "      <td>16.000000</td>\n",
              "      <td>16.000000</td>\n",
              "      <td>16.000000</td>\n",
              "      <td>16.000000</td>\n",
              "      <td>15.000000</td>\n",
              "      <td>1.000000</td>\n",
              "      <td>0.0</td>\n",
              "      <td>14.000000</td>\n",
              "      <td>16.000000</td>\n",
              "      <td>16.000000</td>\n",
              "      <td>16.000000</td>\n",
              "      <td>16.000000</td>\n",
              "      <td>14.000000</td>\n",
              "      <td>0.0</td>\n",
              "      <td>4.000000</td>\n",
              "      <td>16.000000</td>\n",
              "      <td>16.000000</td>\n",
              "      <td>16.000000</td>\n",
              "      <td>16.000000</td>\n",
              "      <td>16.000000</td>\n",
              "      <td>16.000000</td>\n",
              "      <td>6.000000</td>\n",
              "      <td>8.000000</td>\n",
              "      <td>16.000000</td>\n",
              "      <td>16.000000</td>\n",
              "      <td>16.000000</td>\n",
              "      <td>16.000000</td>\n",
              "      <td>16.000000</td>\n",
              "      <td>16.000000</td>\n",
              "      <td>13.000000</td>\n",
              "      <td>1.000000</td>\n",
              "      <td>9.000000</td>\n",
              "      <td>16.000000</td>\n",
              "      <td>16.000000</td>\n",
              "      <td>16.000000</td>\n",
              "      <td>16.000000</td>\n",
              "      <td>16.000000</td>\n",
              "      <td>16.000000</td>\n",
              "    </tr>\n",
              "  </tbody>\n",
              "</table>\n",
              "</div>"
            ],
            "text/plain": [
              "           0            1            2   ...           61           62           63\n",
              "count  1797.0  1797.000000  1797.000000  ...  1797.000000  1797.000000  1797.000000\n",
              "mean      0.0     0.303840     5.204786  ...     6.764051     2.067891     0.364496\n",
              "std       0.0     0.907192     4.754826  ...     5.900623     4.090548     1.860122\n",
              "min       0.0     0.000000     0.000000  ...     0.000000     0.000000     0.000000\n",
              "25%       0.0     0.000000     1.000000  ...     0.000000     0.000000     0.000000\n",
              "50%       0.0     0.000000     4.000000  ...     6.000000     0.000000     0.000000\n",
              "75%       0.0     0.000000     9.000000  ...    12.000000     2.000000     0.000000\n",
              "max       0.0     8.000000    16.000000  ...    16.000000    16.000000    16.000000\n",
              "\n",
              "[8 rows x 64 columns]"
            ]
          },
          "metadata": {},
          "execution_count": 4
        }
      ]
    },
    {
      "cell_type": "markdown",
      "metadata": {
        "id": "i-ho8Cj1ijoW"
      },
      "source": [
        "**Labels**"
      ]
    },
    {
      "cell_type": "code",
      "metadata": {
        "colab": {
          "base_uri": "https://localhost:8080/"
        },
        "id": "8T8HbVp4ifSy",
        "outputId": "f27ce6b8-7ce4-43e2-dd63-57a321e29384"
      },
      "source": [
        "digits.target"
      ],
      "execution_count": 5,
      "outputs": [
        {
          "output_type": "execute_result",
          "data": {
            "text/plain": [
              "array([0, 1, 2, ..., 8, 9, 8])"
            ]
          },
          "metadata": {},
          "execution_count": 5
        }
      ]
    },
    {
      "cell_type": "code",
      "metadata": {
        "colab": {
          "base_uri": "https://localhost:8080/",
          "height": 297
        },
        "id": "4XiWZUqZi5fI",
        "outputId": "2518c3a4-bf8b-49c3-92f3-f242414463c2"
      },
      "source": [
        "labels_df = pd.DataFrame(digits.target)\n",
        "labels_df.describe()"
      ],
      "execution_count": 6,
      "outputs": [
        {
          "output_type": "execute_result",
          "data": {
            "text/html": [
              "<div>\n",
              "<style scoped>\n",
              "    .dataframe tbody tr th:only-of-type {\n",
              "        vertical-align: middle;\n",
              "    }\n",
              "\n",
              "    .dataframe tbody tr th {\n",
              "        vertical-align: top;\n",
              "    }\n",
              "\n",
              "    .dataframe thead th {\n",
              "        text-align: right;\n",
              "    }\n",
              "</style>\n",
              "<table border=\"1\" class=\"dataframe\">\n",
              "  <thead>\n",
              "    <tr style=\"text-align: right;\">\n",
              "      <th></th>\n",
              "      <th>0</th>\n",
              "    </tr>\n",
              "  </thead>\n",
              "  <tbody>\n",
              "    <tr>\n",
              "      <th>count</th>\n",
              "      <td>1797.000000</td>\n",
              "    </tr>\n",
              "    <tr>\n",
              "      <th>mean</th>\n",
              "      <td>4.490818</td>\n",
              "    </tr>\n",
              "    <tr>\n",
              "      <th>std</th>\n",
              "      <td>2.865304</td>\n",
              "    </tr>\n",
              "    <tr>\n",
              "      <th>min</th>\n",
              "      <td>0.000000</td>\n",
              "    </tr>\n",
              "    <tr>\n",
              "      <th>25%</th>\n",
              "      <td>2.000000</td>\n",
              "    </tr>\n",
              "    <tr>\n",
              "      <th>50%</th>\n",
              "      <td>4.000000</td>\n",
              "    </tr>\n",
              "    <tr>\n",
              "      <th>75%</th>\n",
              "      <td>7.000000</td>\n",
              "    </tr>\n",
              "    <tr>\n",
              "      <th>max</th>\n",
              "      <td>9.000000</td>\n",
              "    </tr>\n",
              "  </tbody>\n",
              "</table>\n",
              "</div>"
            ],
            "text/plain": [
              "                 0\n",
              "count  1797.000000\n",
              "mean      4.490818\n",
              "std       2.865304\n",
              "min       0.000000\n",
              "25%       2.000000\n",
              "50%       4.000000\n",
              "75%       7.000000\n",
              "max       9.000000"
            ]
          },
          "metadata": {},
          "execution_count": 6
        }
      ]
    },
    {
      "cell_type": "markdown",
      "metadata": {
        "id": "CGsaW-XwjyHL"
      },
      "source": [
        "**Sample images**"
      ]
    },
    {
      "cell_type": "code",
      "metadata": {
        "colab": {
          "base_uri": "https://localhost:8080/",
          "height": 377
        },
        "id": "K4jytgHHjzns",
        "outputId": "2f108a44-1cd8-4e03-be21-54673f439e97"
      },
      "source": [
        "import matplotlib.pyplot as plt\n",
        "import random\n",
        "\n",
        "n_images = len(digits.data)\n",
        "fig = plt.figure(figsize=(20, 6))\n",
        "\n",
        "for idx in range(10):\n",
        "  image_idx = random.randint(0, n_images)\n",
        "\n",
        "  image = digits.data[image_idx]\n",
        "  label = digits.target[image_idx]\n",
        "\n",
        "  ax = fig.add_subplot(2, 5, idx + 1, xticks=[], yticks=[])\n",
        "  ax.set_title(label)\n",
        "  image_2d = np.reshape(image, (8, 8))\n",
        "  ax.imshow(image_2d)\n",
        "\n",
        "plt.show()"
      ],
      "execution_count": 7,
      "outputs": [
        {
          "output_type": "display_data",
          "data": {
            "image/png": "[encoded data removed]",
            "text/plain": [
              "<Figure size 1440x432 with 10 Axes>"
            ]
          },
          "metadata": {}
        }
      ]
    },
    {
      "cell_type": "markdown",
      "metadata": {
        "id": "ViOUIPy7me_K"
      },
      "source": [
        "## 1 b)"
      ]
    },
    {
      "cell_type": "markdown",
      "metadata": {
        "id": "F0gro_z6nbtf"
      },
      "source": [
        "**Split training and test set (75/25)**"
      ]
    },
    {
      "cell_type": "code",
      "metadata": {
        "id": "oXfYoN4Gmmyk"
      },
      "source": [
        "from sklearn.model_selection import train_test_split\n",
        "\n",
        "X_train, X_test, y_train, y_test = train_test_split(\n",
        "    digits.data, digits.target, test_size=0.25, random_state=0)\n"
      ],
      "execution_count": 8,
      "outputs": []
    },
    {
      "cell_type": "markdown",
      "metadata": {
        "id": "KAC1IGcangax"
      },
      "source": [
        "**Traing SVM**"
      ]
    },
    {
      "cell_type": "code",
      "metadata": {
        "colab": {
          "base_uri": "https://localhost:8080/"
        },
        "id": "1vNXeUqRnbNj",
        "outputId": "cd3a2bea-9199-49f3-8c3b-59c05a9efb71"
      },
      "source": [
        "from sklearn import svm\n",
        "\n",
        "clf = svm.SVC(gamma=0.015, C=1.0)\n",
        "clf.fit(X_train, y_train)\n",
        "\n",
        "print('Accuracy on training set:', clf.score(X_train, y_train))\n",
        "print('Accuracy on test set:', clf.score(X_test, y_test))\n",
        "\n",
        "# => Overfitting"
      ],
      "execution_count": 9,
      "outputs": [
        {
          "output_type": "stream",
          "name": "stdout",
          "text": [
            "Accuracy on training set: 1.0\n",
            "Accuracy on test set: 0.5155555555555555\n"
          ]
        }
      ]
    },
    {
      "cell_type": "code",
      "metadata": {
        "colab": {
          "base_uri": "https://localhost:8080/"
        },
        "id": "IEB5QOQDoqSp",
        "outputId": "4ddb6c1c-0446-43a8-b69c-3a01a49da48f"
      },
      "source": [
        "clf = svm.SVC(gamma=0.001, C=100.)\n",
        "clf.fit(X_train, y_train)\n",
        "\n",
        "print('Accuracy on training set:', clf.score(X_train, y_train))\n",
        "print('Accuracy on test set:', clf.score(X_test, y_test))\n",
        "\n",
        "# => Better fit"
      ],
      "execution_count": 10,
      "outputs": [
        {
          "output_type": "stream",
          "name": "stdout",
          "text": [
            "Accuracy on training set: 1.0\n",
            "Accuracy on test set: 0.9933333333333333\n"
          ]
        }
      ]
    },
    {
      "cell_type": "markdown",
      "metadata": {
        "id": "z0GX2ZvDpMdL"
      },
      "source": [
        "**Alternative split**"
      ]
    },
    {
      "cell_type": "code",
      "metadata": {
        "id": "fK0TcuUxpL0J"
      },
      "source": [
        "X_train, X_test, y_train, y_test = train_test_split(\n",
        "    digits.data, digits.target, test_size=0.25, random_state=23452345)"
      ],
      "execution_count": 11,
      "outputs": []
    },
    {
      "cell_type": "code",
      "metadata": {
        "colab": {
          "base_uri": "https://localhost:8080/"
        },
        "id": "wg3WYb86pV7R",
        "outputId": "d6c90479-18b3-40c3-e37d-6e8639a813b7"
      },
      "source": [
        "from sklearn import svm\n",
        "\n",
        "clf = svm.SVC(gamma=0.015, C=1.0)\n",
        "clf.fit(X_train, y_train)\n",
        "\n",
        "print('Accuracy on training set:', clf.score(X_train, y_train))\n",
        "print('Accuracy on test set:', clf.score(X_test, y_test))\n",
        "\n",
        "# => Same accuracy on training data. Accuracy is 0.08 higher on test set."
      ],
      "execution_count": 12,
      "outputs": [
        {
          "output_type": "stream",
          "name": "stdout",
          "text": [
            "Accuracy on training set: 1.0\n",
            "Accuracy on test set: 0.5244444444444445\n"
          ]
        }
      ]
    },
    {
      "cell_type": "code",
      "metadata": {
        "colab": {
          "base_uri": "https://localhost:8080/"
        },
        "id": "ObmFAy84pYYV",
        "outputId": "9cf196e0-037b-4480-996e-9f4b367bf888"
      },
      "source": [
        "clf = svm.SVC(gamma=0.001, C=100.)\n",
        "clf.fit(X_train, y_train)\n",
        "\n",
        "print('Accuracy on training set:', clf.score(X_train, y_train))\n",
        "print('Accuracy on test set:', clf.score(X_test, y_test))\n",
        "\n",
        "# => Same accuracy on training data. Accuracy is 0.004 higher on test set."
      ],
      "execution_count": 13,
      "outputs": [
        {
          "output_type": "stream",
          "name": "stdout",
          "text": [
            "Accuracy on training set: 1.0\n",
            "Accuracy on test set: 0.9955555555555555\n"
          ]
        }
      ]
    },
    {
      "cell_type": "markdown",
      "metadata": {
        "id": "HgIZX4rfqDmK"
      },
      "source": [
        "## 2 a)"
      ]
    },
    {
      "cell_type": "code",
      "metadata": {
        "colab": {
          "base_uri": "https://localhost:8080/"
        },
        "id": "kFkBisg3qGdz",
        "outputId": "a90ae714-a42a-4532-b0e4-321ade7d5255"
      },
      "source": [
        "from sklearn.model_selection import ShuffleSplit\n",
        "\n",
        "rs = ShuffleSplit(n_splits=3, test_size=.25, random_state=0)\n",
        "\n",
        "for counter, (train_index, test_index) in enumerate(rs.split(digits.data)):\n",
        "\n",
        "  X_train = []\n",
        "  y_train = []\n",
        "  for idx in train_index:\n",
        "    X_train.append(digits.data[idx])\n",
        "    y_train.append(digits.target[idx])\n",
        "\n",
        "  X_test = []\n",
        "  y_test = []\n",
        "  for idx in test_index:\n",
        "    X_test.append(digits.data[idx])\n",
        "    y_test.append(digits.target[idx])\n",
        "\n",
        "  clf = svm.SVC(gamma=0.001, C=1.)\n",
        "  clf.fit(X_train, y_train)\n",
        "\n",
        "  print('\\nSet no.', counter)\n",
        "  print('Accuracy on training set:', clf.score(X_train, y_train))\n",
        "  print('Accuracy on test set:', clf.score(X_test, y_test))"
      ],
      "execution_count": 14,
      "outputs": [
        {
          "output_type": "stream",
          "name": "stdout",
          "text": [
            "\n",
            "Set no. 0\n",
            "Accuracy on training set: 0.9992576095025983\n",
            "Accuracy on test set: 0.9955555555555555\n",
            "\n",
            "Set no. 1\n",
            "Accuracy on training set: 0.9985152190051967\n",
            "Accuracy on test set: 0.9955555555555555\n",
            "\n",
            "Set no. 2\n",
            "Accuracy on training set: 0.9992576095025983\n",
            "Accuracy on test set: 0.9933333333333333\n"
          ]
        }
      ]
    },
    {
      "cell_type": "markdown",
      "metadata": {
        "id": "GqCCRkMaulpO"
      },
      "source": [
        "## b)"
      ]
    },
    {
      "cell_type": "code",
      "metadata": {
        "colab": {
          "base_uri": "https://localhost:8080/"
        },
        "id": "FObsj8mnupc2",
        "outputId": "edb16f7f-7e25-40a4-fd1a-0e8abac3d928"
      },
      "source": [
        "from sklearn.model_selection import ShuffleSplit, cross_val_score\n",
        "\n",
        "clf = svm.SVC(gamma=0.001, C=1.)\n",
        "\n",
        "acc = cross_val_score(clf, digits.data, digits.target, cv=10)\n",
        "mean_acc = np.mean(acc)\n",
        "std_acc = np.std(acc)\n",
        "\n",
        "print('\\n Accuracy:\\n', acc)\n",
        "print('\\n Mean accuracy:', mean_acc)\n",
        "print('\\n Standard deviation:', std_acc)"
      ],
      "execution_count": 15,
      "outputs": [
        {
          "output_type": "stream",
          "name": "stdout",
          "text": [
            "\n",
            " Accuracy:\n",
            " [0.95       1.         0.95       0.98333333 0.98888889 0.98888889\n",
            " 0.99444444 0.99441341 0.96648045 0.96648045]\n",
            "\n",
            " Mean accuracy: 0.9782929857231533\n",
            "\n",
            " Standard deviation: 0.01766901739189916\n"
          ]
        }
      ]
    },
    {
      "cell_type": "markdown",
      "metadata": {
        "id": "tqjFoKHuyPsK"
      },
      "source": [
        "## c)"
      ]
    },
    {
      "cell_type": "code",
      "metadata": {
        "colab": {
          "base_uri": "https://localhost:8080/"
        },
        "id": "xfIJy1AZyRCT",
        "outputId": "e9e06813-baa4-4121-a843-ee09afe9f571"
      },
      "source": [
        "C = 10.\n",
        "gammas = np.logspace(-7, -1, 10)\n",
        "\n",
        "scores_train_2d = []\n",
        "scores_test_2d = []\n",
        "\n",
        "rs = ShuffleSplit(n_splits=5, train_size=500, test_size=500, random_state=0)\n",
        "\n",
        "\n",
        "for counter, (train_index, test_index) in enumerate(rs.split(digits.data)):\n",
        "\n",
        "  scores_train = []\n",
        "  scores_test = []\n",
        "\n",
        "  for g in gammas:\n",
        "\n",
        "    X_train = []\n",
        "    y_train = []\n",
        "    for idx in train_index:\n",
        "      X_train.append(digits.data[idx])\n",
        "      y_train.append(digits.target[idx])\n",
        "\n",
        "    X_test = []\n",
        "    y_test = []\n",
        "    for idx in test_index:\n",
        "      X_test.append(digits.data[idx])\n",
        "      y_test.append(digits.target[idx])\n",
        "\n",
        "    clf = svm.SVC(gamma=g, C=C)\n",
        "    clf.fit(X_train, y_train)\n",
        "\n",
        "    score_train = clf.score(X_train, y_train)\n",
        "    score_test = clf.score(X_test, y_test)\n",
        "\n",
        "    scores_train.append(score_train)\n",
        "    scores_test.append(score_test)\n",
        "\n",
        "  scores_train_2d.append(scores_train)\n",
        "  scores_test_2d.append(scores_test)\n",
        "\n",
        "print(scores_train_2d)\n",
        "print(scores_test_2d)\n",
        "\n"
      ],
      "execution_count": 20,
      "outputs": [
        {
          "output_type": "stream",
          "name": "stdout",
          "text": [
            "[[0.128, 0.128, 0.88, 0.966, 0.99, 1.0, 1.0, 1.0, 1.0, 1.0], [0.22, 0.22, 0.904, 0.962, 0.99, 1.0, 1.0, 1.0, 1.0, 1.0], [0.122, 0.122, 0.9, 0.968, 0.99, 1.0, 1.0, 1.0, 1.0, 1.0], [0.12, 0.172, 0.83, 0.962, 0.988, 1.0, 1.0, 1.0, 1.0, 1.0], [0.12, 0.12, 0.872, 0.962, 0.994, 1.0, 1.0, 1.0, 1.0, 1.0]]\n",
            "[[0.108, 0.108, 0.844, 0.946, 0.964, 0.978, 0.984, 0.886, 0.126, 0.108], [0.184, 0.184, 0.882, 0.946, 0.972, 0.986, 0.986, 0.948, 0.17, 0.104], [0.078, 0.078, 0.876, 0.954, 0.976, 0.982, 0.984, 0.916, 0.108, 0.078], [0.08, 0.116, 0.768, 0.946, 0.97, 0.966, 0.98, 0.93, 0.104, 0.082], [0.086, 0.088, 0.794, 0.922, 0.942, 0.962, 0.972, 0.926, 0.126, 0.086]]\n"
          ]
        }
      ]
    },
    {
      "cell_type": "code",
      "metadata": {
        "colab": {
          "base_uri": "https://localhost:8080/",
          "height": 273
        },
        "id": "SE2n0ZTq0TZQ",
        "outputId": "0641226c-50cb-4819-e8ee-9e39f2e314ec"
      },
      "source": [
        "\n",
        "  \n",
        "plt.xscale('log')\n",
        "plt.ylim(0,1.0)\n",
        "plt.grid()\n",
        "\n",
        "for split in scores_train_2d:\n",
        "  plt.plot(gammas, split, label = \"train\", color='blue')\n",
        "\n",
        "for split in scores_test_2d:\n",
        "  plt.plot(gammas, split, label = \"test\", color='green')\n",
        "\n",
        "plt.show()\n",
        "\n",
        "# Von 10e-7 bis 10e-5 Underfitting\n",
        "# Von 10e-2 bis 10e-1 Overfitting\n",
        "\n",
        "# Ideales Gamma: zwischen 10e-4 und 10e-3\n"
      ],
      "execution_count": 40,
      "outputs": [
        {
          "output_type": "display_data",
          "data": {
            "image/png": "[encoded data removed]",
            "text/plain": [
              "<Figure size 432x288 with 1 Axes>"
            ]
          },
          "metadata": {
            "needs_background": "light"
          }
        }
      ]
    },
    {
      "cell_type": "markdown",
      "metadata": {
        "id": "A1OKMIS9zeaR"
      },
      "source": [
        "## d)"
      ]
    },
    {
      "cell_type": "code",
      "metadata": {
        "id": "oBHVIPLxzc1G",
        "outputId": "6b9544d1-d0d8-4a71-a8b6-b3937e74c877",
        "colab": {
          "base_uri": "https://localhost:8080/"
        }
      },
      "source": [
        "from sklearn.model_selection import GridSearchCV\n",
        "\n",
        "svc_params = {\n",
        "    'C': np.logspace(-1, 2, 4),\n",
        "    'gamma': np.logspace(-4, 0, 5), \n",
        "}\n",
        "\n",
        "clf = svm.SVC()\n",
        "\n",
        "gs = GridSearchCV(clf, param_grid=svc_params, cv=3)\n",
        "gs.fit(digits.data[:500], digits.target[:500])\n",
        "gs.best_params_"
      ],
      "execution_count": 56,
      "outputs": [
        {
          "output_type": "execute_result",
          "data": {
            "text/plain": [
              "{'C': 100.0, 'gamma': 0.0001}"
            ]
          },
          "metadata": {},
          "execution_count": 56
        }
      ]
    },
    {
      "cell_type": "code",
      "metadata": {
        "id": "JR2hdItO04n0",
        "outputId": "b7642063-e2a7-4503-f55c-414153fd480b",
        "colab": {
          "base_uri": "https://localhost:8080/"
        }
      },
      "source": [
        "gs.best_score_"
      ],
      "execution_count": 52,
      "outputs": [
        {
          "output_type": "execute_result",
          "data": {
            "text/plain": [
              "0.9683891454965359"
            ]
          },
          "metadata": {},
          "execution_count": 52
        }
      ]
    },
    {
      "cell_type": "code",
      "metadata": {
        "id": "JWR0hfH51XIS",
        "outputId": "965436f6-9979-4be8-c6a2-cc1633a4080d",
        "colab": {
          "base_uri": "https://localhost:8080/",
          "height": 286
        }
      },
      "source": [
        "y = digits.target[500:]\n",
        "y_pred = gs.predict(digits.data[500:])\n",
        "\n",
        "diff = y - y_pred\n",
        "\n",
        "plt.xscale('linear')\n",
        "plt.ylim(0,max(diff))\n",
        "plt.grid()\n",
        "\n",
        "for idx, label in enumerate(diff):\n",
        "  plt.scatter(idx, label, label = \"diff\", color='blue')\n",
        "\n",
        "\n",
        "plt.show()\n"
      ],
      "execution_count": 73,
      "outputs": [
        {
          "output_type": "display_data",
          "data": {
            "image/png": "[encoded data removed]",
            "text/plain": [
              "<Figure size 432x288 with 1 Axes>"
            ]
          },
          "metadata": {
            "needs_background": "light"
          }
        },
        {
          "output_type": "stream",
          "name": "stdout",
          "text": [
            "Error rate is 0.02158828064764842\n"
          ]
        }
      ]
    },
    {
      "cell_type": "code",
      "metadata": {
        "id": "WdfPgF7K5er8",
        "outputId": "dc645870-2a8d-41f8-89fc-87f823bff0b3",
        "colab": {
          "base_uri": "https://localhost:8080/"
        }
      },
      "source": [
        "error_rate = sum(diff>0) / len(diff)\n",
        "print('Error rate is', error_rate)"
      ],
      "execution_count": 74,
      "outputs": [
        {
          "output_type": "stream",
          "name": "stdout",
          "text": [
            "Error rate is 0.02158828064764842\n"
          ]
        }
      ]
    }
  ]
}