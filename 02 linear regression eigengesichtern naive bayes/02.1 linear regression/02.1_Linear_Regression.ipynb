{
  "nbformat": 4,
  "nbformat_minor": 0,
  "metadata": {
    "colab": {
      "name": "Linear_Regression.ipynb",
      "provenance": [],
      "collapsed_sections": [],
      "include_colab_link": true
    },
    "kernelspec": {
      "display_name": "Python 3",
      "language": "python",
      "name": "python3"
    },
    "language_info": {
      "codemirror_mode": {
        "name": "ipython",
        "version": 3
      },
      "file_extension": ".py",
      "mimetype": "text/x-python",
      "name": "python",
      "nbconvert_exporter": "python",
      "pygments_lexer": "ipython3",
      "version": "3.7.10"
    }
  },
  "cells": [
    {
      "cell_type": "markdown",
      "metadata": {
        "id": "view-in-github",
        "colab_type": "text"
      },
      "source": [
        "<a href=\"https://colab.research.google.com/github/schmuecker/machine-learning-course/blob/main/02%20linear%20regression%20eigengesichtern%20naive%20bayes/02.1%20linear%20regression/02.1_Linear_Regression.ipynb\" target=\"_parent\"><img src=\"https://colab.research.google.com/assets/colab-badge.svg\" alt=\"Open In Colab\"/></a>"
      ]
    },
    {
      "cell_type": "markdown",
      "metadata": {
        "id": "IBv3cn1kP3Jj"
      },
      "source": [
        "# Arbeitsblatt 2: Lineare Regression, Eigengesichter und Bayes-Klassifikator"
      ]
    },
    {
      "cell_type": "markdown",
      "metadata": {
        "id": "EIolRLmR2tJc"
      },
      "source": [
        "## 1. Linear Regression on Fish Data\n",
        "\n",
        "The following data-set contains the number of fish groups of camper caught in a state park (taken from https://stats.idre.ucla.edu/r/dae/zip/). Your task here is to predict the number of fish caught by a fishing party from the following information: \n",
        "\n",
        "* how many people are in the group\n",
        "* the number children in the group\n",
        "* the use of live bait\n",
        "* whether the group came with a camper to the park. \n",
        "\n",
        "We have a small data set, of 250 groups, which visited a state park and provided. For comparison the data set is already split into a training set and testset."
      ]
    },
    {
      "cell_type": "code",
      "metadata": {
        "id": "YsAt_vDL3jFG"
      },
      "source": [
        "import math\n",
        "import matplotlib.pyplot as plt\n",
        "import numpy as np\n",
        "import pandas as pd\n",
        "%matplotlib inline"
      ],
      "execution_count": 1,
      "outputs": []
    },
    {
      "cell_type": "code",
      "metadata": {
        "colab": {
          "base_uri": "https://localhost:8080/"
        },
        "id": "2FQJjRm32sVc",
        "outputId": "e3120f9b-2160-4843-9b67-262c6ab26359"
      },
      "source": [
        "# The Fish Data Set\n",
        "# See example 2 from https://stats.idre.ucla.edu/r/dae/zip/ \n",
        "#\"nofish\",\"livebait\",\"camper\",\"persons\",\"child\",\"xb\",\"zg\",\"count\"\n",
        "import os\n",
        "from urllib.request import urlretrieve\n",
        "if not os.path.isfile('fishing.npz'):\n",
        "    print(\"Downloading\")\n",
        "    urlretrieve('http://www-home.htwg-konstanz.de/~oduerr/data/fishing.npz',filename = 'fishing.npz')\n",
        "d = np.load('fishing.npz')\n",
        "\n",
        "Xt = d['Xt'] #\"livebait\",\"camper\",\"persons\",\"child\"\n",
        "Xte = d['Xte']\n",
        "yt = d['yt']\n",
        "yte = d['yte']\n",
        "\n",
        "df_t = pd.DataFrame(Xt)\n",
        "df_t.insert(0, 'Intercept',np.ones((200,1)))\n",
        "print('training set')\n",
        "print(df_t.describe())\n",
        "\n",
        "df_te = pd.DataFrame(Xte)\n",
        "df_te.insert(0, 'Intercept',np.ones((50,1)))\n",
        "print('test set')\n",
        "print(df_te.describe())"
      ],
      "execution_count": 2,
      "outputs": [
        {
          "output_type": "stream",
          "name": "stdout",
          "text": [
            "Downloading\n",
            "training set\n",
            "       Intercept           0           1           2           3\n",
            "count      200.0  200.000000  200.000000  200.000000  200.000000\n",
            "mean         1.0    0.855000    0.600000    2.540000    0.705000\n",
            "std          0.0    0.352984    0.491127    1.133501    0.889907\n",
            "min          1.0    0.000000    0.000000    1.000000    0.000000\n",
            "25%          1.0    1.000000    0.000000    2.000000    0.000000\n",
            "50%          1.0    1.000000    1.000000    3.000000    0.000000\n",
            "75%          1.0    1.000000    1.000000    4.000000    1.000000\n",
            "max          1.0    1.000000    1.000000    4.000000    3.000000\n",
            "test set\n",
            "       Intercept          0          1          2          3\n",
            "count       50.0  50.000000  50.000000  50.000000  50.000000\n",
            "mean         1.0   0.900000   0.540000   2.480000   0.600000\n",
            "std          0.0   0.303046   0.503458   1.034901   0.670059\n",
            "min          1.0   0.000000   0.000000   1.000000   0.000000\n",
            "25%          1.0   1.000000   0.000000   2.000000   0.000000\n",
            "50%          1.0   1.000000   1.000000   2.000000   0.500000\n",
            "75%          1.0   1.000000   1.000000   3.000000   1.000000\n",
            "max          1.0   1.000000   1.000000   4.000000   2.000000\n"
          ]
        }
      ]
    },
    {
      "cell_type": "code",
      "metadata": {
        "colab": {
          "base_uri": "https://localhost:8080/",
          "height": 323
        },
        "id": "WkmOCSmSa7Q2",
        "outputId": "a8b60065-b091-4c12-c1eb-640d81b7e43d"
      },
      "source": [
        "pd.DataFrame(yt).describe()"
      ],
      "execution_count": 3,
      "outputs": [
        {
          "output_type": "execute_result",
          "data": {
            "text/html": [
              "<div>\n",
              "<style scoped>\n",
              "    .dataframe tbody tr th:only-of-type {\n",
              "        vertical-align: middle;\n",
              "    }\n",
              "\n",
              "    .dataframe tbody tr th {\n",
              "        vertical-align: top;\n",
              "    }\n",
              "\n",
              "    .dataframe thead th {\n",
              "        text-align: right;\n",
              "    }\n",
              "</style>\n",
              "<table border=\"1\" class=\"dataframe\">\n",
              "  <thead>\n",
              "    <tr style=\"text-align: right;\">\n",
              "      <th></th>\n",
              "      <th>0</th>\n",
              "    </tr>\n",
              "  </thead>\n",
              "  <tbody>\n",
              "    <tr>\n",
              "      <th>count</th>\n",
              "      <td>200.000000</td>\n",
              "    </tr>\n",
              "    <tr>\n",
              "      <th>mean</th>\n",
              "      <td>3.355000</td>\n",
              "    </tr>\n",
              "    <tr>\n",
              "      <th>std</th>\n",
              "      <td>11.984872</td>\n",
              "    </tr>\n",
              "    <tr>\n",
              "      <th>min</th>\n",
              "      <td>0.000000</td>\n",
              "    </tr>\n",
              "    <tr>\n",
              "      <th>25%</th>\n",
              "      <td>0.000000</td>\n",
              "    </tr>\n",
              "    <tr>\n",
              "      <th>50%</th>\n",
              "      <td>0.000000</td>\n",
              "    </tr>\n",
              "    <tr>\n",
              "      <th>75%</th>\n",
              "      <td>2.000000</td>\n",
              "    </tr>\n",
              "    <tr>\n",
              "      <th>max</th>\n",
              "      <td>149.000000</td>\n",
              "    </tr>\n",
              "  </tbody>\n",
              "</table>\n",
              "</div>"
            ],
            "text/plain": [
              "                0\n",
              "count  200.000000\n",
              "mean     3.355000\n",
              "std     11.984872\n",
              "min      0.000000\n",
              "25%      0.000000\n",
              "50%      0.000000\n",
              "75%      2.000000\n",
              "max    149.000000"
            ]
          },
          "metadata": {},
          "execution_count": 3
        }
      ]
    },
    {
      "cell_type": "markdown",
      "metadata": {
        "id": "rIaw-4LgK0zz"
      },
      "source": [
        "a) Do a linear regression by creating a design matrix with the intercept term and use the fomulae given in the lecture to determine the coefficients on the training set."
      ]
    },
    {
      "cell_type": "code",
      "metadata": {
        "colab": {
          "base_uri": "https://localhost:8080/"
        },
        "id": "jnPQQ6b0WAHt",
        "outputId": "ba67815a-ccb1-4a34-9bbf-2b83b544e635"
      },
      "source": [
        "\n",
        "y = np.asmatrix(yt)[0].T\n",
        "X = np.asmatrix(df_t.iloc[:,0:5])\n",
        "N = y.shape[0] #200\n",
        "print(X[0:5])\n",
        "y.shape, X.shape"
      ],
      "execution_count": 4,
      "outputs": [
        {
          "output_type": "stream",
          "name": "stdout",
          "text": [
            "[[1. 1. 0. 4. 0.]\n",
            " [1. 1. 1. 2. 0.]\n",
            " [1. 1. 1. 3. 0.]\n",
            " [1. 1. 1. 3. 2.]\n",
            " [1. 1. 1. 4. 1.]]\n"
          ]
        },
        {
          "output_type": "execute_result",
          "data": {
            "text/plain": [
              "((200, 1), (200, 5))"
            ]
          },
          "metadata": {},
          "execution_count": 4
        }
      ]
    },
    {
      "cell_type": "code",
      "metadata": {
        "colab": {
          "base_uri": "https://localhost:8080/"
        },
        "id": "H-uNa8laZmqI",
        "outputId": "3cb3490d-1ddb-4487-f41c-60c208225528"
      },
      "source": [
        "w = np.ones((5)) #Setting w = 1 just for demonstration w is not trained\n",
        "d = np.matmul(X,w)\n",
        "d[:,1:10]"
      ],
      "execution_count": 5,
      "outputs": [
        {
          "output_type": "execute_result",
          "data": {
            "text/plain": [
              "matrix([[5., 6., 8., 8., 3., 6., 5., 8., 6.]])"
            ]
          },
          "metadata": {},
          "execution_count": 5
        }
      ]
    },
    {
      "cell_type": "markdown",
      "metadata": {
        "id": "uqkQ47t-bc2Q"
      },
      "source": [
        "**\"By Hand\"**"
      ]
    },
    {
      "cell_type": "code",
      "metadata": {
        "colab": {
          "base_uri": "https://localhost:8080/"
        },
        "id": "Cva8OVK-Zx9_",
        "outputId": "330a7402-0d5c-43f2-8dba-0ccae0eb7022"
      },
      "source": [
        "XTX = np.matmul(X.T,X)\n",
        "XTXI = np.linalg.inv(XTX)\n",
        "XTXIXT = np.matmul(XTXI, X.T)\n",
        "w = np.matmul(XTXIXT,y)\n",
        "w"
      ],
      "execution_count": 6,
      "outputs": [
        {
          "output_type": "execute_result",
          "data": {
            "text/plain": [
              "matrix([[-8.49222821],\n",
              "        [ 2.4822138 ],\n",
              "        [ 2.95430727],\n",
              "        [ 4.64953914],\n",
              "        [-5.47160051]])"
            ]
          },
          "metadata": {},
          "execution_count": 6
        }
      ]
    },
    {
      "cell_type": "code",
      "metadata": {
        "colab": {
          "base_uri": "https://localhost:8080/"
        },
        "id": "TjNNikJ-aJos",
        "outputId": "b2dd9629-d351-4b2a-84f7-5017764fcced"
      },
      "source": [
        "np.mean(np.square((np.matmul(X,w).flatten() - y.flatten()))) # The MSE"
      ],
      "execution_count": 7,
      "outputs": [
        {
          "output_type": "execute_result",
          "data": {
            "text/plain": [
              "117.26947782687193"
            ]
          },
          "metadata": {},
          "execution_count": 7
        }
      ]
    },
    {
      "cell_type": "code",
      "metadata": {
        "colab": {
          "base_uri": "https://localhost:8080/",
          "height": 317
        },
        "id": "AGJp14qgawPT",
        "outputId": "b9e4debf-bde3-4fac-8de9-8d945bb709e0"
      },
      "source": [
        "y_pred = np.matmul(X,w)\n",
        "plt.scatter([y_pred[:,0]], [y[:,0]])\n",
        "plt.xlabel('Predicted Catches')\n",
        "plt.ylabel('True Catches')\n",
        "\n",
        "np.mean(np.square((y_pred[:,0] - y[:,0]))) # The MSE"
      ],
      "execution_count": 8,
      "outputs": [
        {
          "output_type": "execute_result",
          "data": {
            "text/plain": [
              "117.26947782687193"
            ]
          },
          "metadata": {},
          "execution_count": 8
        },
        {
          "output_type": "display_data",
          "data": {
            "image/png": "[encoded data removed]",
            "text/plain": [
              "<Figure size 432x288 with 1 Axes>"
            ]
          },
          "metadata": {
            "needs_background": "light"
          }
        }
      ]
    },
    {
      "cell_type": "markdown",
      "metadata": {
        "id": "4-uaG92sPBXg"
      },
      "source": [
        "b) Repeat a) but this time with `LinearRegression` from `sklearn.linear_model`"
      ]
    },
    {
      "cell_type": "markdown",
      "metadata": {
        "id": "vOJ0z9C7bMuO"
      },
      "source": [
        "**Using sklearn**"
      ]
    },
    {
      "cell_type": "code",
      "metadata": {
        "colab": {
          "base_uri": "https://localhost:8080/"
        },
        "id": "sjAOqY0LbLfV",
        "outputId": "c44d675b-9228-4147-c432-08dabdc01447"
      },
      "source": [
        "from sklearn.linear_model import LinearRegression\n",
        "model_skl = LinearRegression(fit_intercept=False) #We have an extended X\n",
        "model_skl.fit(X,y)\n",
        "model_skl.coef_"
      ],
      "execution_count": 9,
      "outputs": [
        {
          "output_type": "execute_result",
          "data": {
            "text/plain": [
              "array([[-8.49222821,  2.4822138 ,  2.95430727,  4.64953914, -5.47160051]])"
            ]
          },
          "metadata": {},
          "execution_count": 9
        }
      ]
    },
    {
      "cell_type": "markdown",
      "metadata": {
        "id": "z3B_4QkjP3Jp"
      },
      "source": [
        "Result: array([-8.49222821,  2.4822138 ,  2.95430727,  4.64953914, -5.47160051])\n",
        "Don't forget the intercept, you should have 5 numbers!"
      ]
    },
    {
      "cell_type": "markdown",
      "metadata": {
        "id": "pNIUUugxPmSZ"
      },
      "source": [
        "c) Determine the Root Mean Square Error (RMSE) and the average negative log-likelihood (NLL) on the testset. For NLL we assume that the conditional probability distrubution (CPD) $p(y|x)$ is given by the density of a Gaussian with constant variance $\\sigma^2$. Estimate $\\sigma^2$ using the variance of the residuals. Use the variance estimation with $1/N$. \n",
        "\n",
        "Result: $ RMSE \\approx 8.58812$, $\\hat \\sigma^2 \\approx 73.7559$, $\\tt{NLL} \\approx 3.569$"
      ]
    },
    {
      "cell_type": "code",
      "metadata": {
        "colab": {
          "base_uri": "https://localhost:8080/"
        },
        "id": "zHJqsrnTbyIA",
        "outputId": "34a93bfb-d898-451d-f08b-df324457aed8"
      },
      "source": [
        "from sklearn.metrics import mean_squared_error\n",
        "\n",
        "y_te = np.asmatrix(yte)[0].T\n",
        "X_te = np.asmatrix(df_te.iloc[:,0:5])\n",
        "XTX_te = np.matmul(X_te.T,X_te)\n",
        "XTXI_te = np.linalg.inv(XTX_te)\n",
        "XTXIXT_te = np.matmul(XTXI_te, X_te.T)\n",
        "w_te = np.matmul(XTXIXT_te,y_te)\n",
        "\n",
        "# with scikit\n",
        "rms = np.sqrt(np.mean(np.square((y_te_pred[:,0] - y_te[:,0]))))\n",
        "\n",
        "#mean_squared_error(y_te, np.matmul(X_te,w_te), squared=False)\n",
        "\n",
        "mse = rms ** 2\n",
        "nll = mse / (len(y)-1)\n",
        "print('Root Mean Squared Error (RMSE)', rms)\n",
        "print('Mean Squared Error (MSE)', mse)\n",
        "print('NLL', nll)"
      ],
      "execution_count": 29,
      "outputs": [
        {
          "output_type": "stream",
          "name": "stdout",
          "text": [
            "Root Mean Squared Error (RMSE) 8.43753743477762\n",
            "Mean Squared Error (MSE) 71.19203796327372\n",
            "NLL 0.3577489344888127\n"
          ]
        }
      ]
    },
    {
      "cell_type": "markdown",
      "metadata": {
        "id": "nCJHxadORefq"
      },
      "source": [
        "d) For the testset: plot the predicted mean number of fish caught ($\\mu$) against observed number of fish caught. Further include the 2.5 and 97.5 precentile of p(y|x), the conditional predictive distribution (CPD) of $y$ for a given $x$. Why is a Gaussian not ideal for that kind of data? \n",
        "\n",
        "Hint: For the Gaussian the 2.5% and the 97.5% percentile is approximatiy given by $\\mu \\pm 1.96*\\sigma$"
      ]
    },
    {
      "cell_type": "code",
      "metadata": {
        "id": "a7-yMA2Rg5Ce",
        "colab": {
          "base_uri": "https://localhost:8080/",
          "height": 317
        },
        "outputId": "74aaf13d-c8fd-4efa-d30c-99b9573a3381"
      },
      "source": [
        "y_te_pred = np.matmul(X_te,w_te)\n",
        "plt.scatter([y_te_pred[:,0]], [y_te[:,0]])\n",
        "plt.xlabel('Predicted Catches')\n",
        "plt.ylabel('True Catches')"
      ],
      "execution_count": 14,
      "outputs": [
        {
          "output_type": "execute_result",
          "data": {
            "text/plain": [
              "Text(0, 0.5, 'True Catches')"
            ]
          },
          "metadata": {},
          "execution_count": 14
        },
        {
          "output_type": "display_data",
          "data": {
            "image/png": "[encoded data removed]",
            "text/plain": [
              "<Figure size 432x288 with 1 Axes>"
            ]
          },
          "metadata": {
            "needs_background": "light"
          }
        }
      ]
    },
    {
      "cell_type": "markdown",
      "metadata": {
        "id": "-wo5FcZ_VHIw"
      },
      "source": [
        "e) This data is count data. Count data has only positive values and also the distribution is discrete. You cannot catch 0.5 fish and that the CPD has probability density > 0 on negative number of fish is wrong too. A Gaussian as a CPD is therefore not ideal. \n",
        "\n",
        "Now use a Poissonian as CPD. If we assume a Poissonian then the probability to catch $k$ fish is given by \n",
        "$$\n",
        "  p(k) = \\exp(-\\mu) \\frac{\\mu^k}{k!}\n",
        "$$\n",
        "\n",
        "and the NLL is thus by:\n",
        "\n",
        "$$\n",
        " log(p(k)) = -\\mu  + k \\cdot \\log(\\mu) - log(k!)\n",
        "$$\n",
        "\n",
        "with $\\mu$ being the expectation. In our case the average number of fish expected.\n",
        "\n",
        "In the case of the probabilistic interpretation of the linear regression, $y_i$ for a given $x_i$ is distributed like a Gaussian. The paramter $\\mu_i$ from $N(\\mu_i,\\sigma^2)$ has been determined from $x_i$ via $\\mu_i= \\beta^T \\cdot x_i$ by minimizing the NLL. \n",
        "\n",
        "A small additional detail: For the Poissonian case, $\\mu_i$ needs to be positive. We therefore do not use $\\beta^T \\cdot x_i$ directly but \"pipe it through\" an exponential first to make it positive and thus link $\\mu_i=exp(\\beta^T \\cdot x_i)$ to the data.\n",
        "\n",
        "Use a gradient descent approach on the NLL to find the solution for the parameters. Calculate the RMSE and the NLL on the test set and compare with c).\n",
        "\n",
        "Hint: On the trainingset for the parameter values (1,1,1,1,1) the NLL should be approx 1508 and the gradient (1518.61, 1403.99, 1171.02, 5701.91, 3258.7). For the NLL a good learning rate would be 0.001 and training should be done for at least 5000 epochs."
      ]
    },
    {
      "cell_type": "markdown",
      "metadata": {
        "id": "CteXLd5AP3Jq"
      },
      "source": [
        "f) Do the same plot as in d) but this time with a Poisson CPD. Hint you can use scipy.stats.poisson to calculate the percentiles."
      ]
    }
  ]
}