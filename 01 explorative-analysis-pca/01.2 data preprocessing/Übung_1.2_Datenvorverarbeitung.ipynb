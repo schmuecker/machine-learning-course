{
  "nbformat": 4,
  "nbformat_minor": 0,
  "metadata": {
    "colab": {
      "name": "Übung 1.2 - Datenvorverarbeitung (Food Nutrient Database).ipynb",
      "provenance": [],
      "collapsed_sections": [],
      "include_colab_link": true
    },
    "kernelspec": {
      "name": "python3",
      "display_name": "Python 3"
    },
    "language_info": {
      "name": "python"
    }
  },
  "cells": [
    {
      "cell_type": "markdown",
      "metadata": {
        "id": "view-in-github",
        "colab_type": "text"
      },
      "source": [
        "<a href=\"https://colab.research.google.com/github/schmuecker/machine-learning-course/blob/main/01%20explorative-analysis-pca/01.2%20data%20preprocessing/%C3%9Cbung_1.2_Datenvorverarbeitung.ipynb\" target=\"_parent\"><img src=\"https://colab.research.google.com/assets/colab-badge.svg\" alt=\"Open In Colab\"/></a>"
      ]
    },
    {
      "cell_type": "markdown",
      "metadata": {
        "id": "8cJMD5NGVUAL"
      },
      "source": [
        "# 2. Datenvorverarbeitung mit Pandas: Food Nutrient Database"
      ]
    },
    {
      "cell_type": "markdown",
      "metadata": {
        "id": "dA7CgDiWVaVr"
      },
      "source": [
        "## Einbinden von packages\n",
        "Import zweier Standardpakete für die Datenanalyse: Numpy für mehrdimensionale Arrays, Pandas für Datenanalyse in Tabellen."
      ]
    },
    {
      "cell_type": "code",
      "metadata": {
        "colab": {
          "base_uri": "https://localhost:8080/"
        },
        "id": "F6QwyygzVPNd",
        "outputId": "e3318072-6830-4167-8ba8-750a24fcac19"
      },
      "source": [
        "import json\n",
        "import zipfile\n",
        "import urllib.request\n",
        "import pandas as pd\n",
        "import numpy as np\n",
        "\n",
        "json.__version__, np.__version__, pd.__version__"
      ],
      "execution_count": null,
      "outputs": [
        {
          "output_type": "execute_result",
          "data": {
            "text/plain": [
              "('2.0.9', '1.19.5', '1.1.5')"
            ]
          },
          "metadata": {},
          "execution_count": 20
        }
      ]
    },
    {
      "cell_type": "markdown",
      "metadata": {
        "id": "f0ZivIQYVxx1"
      },
      "source": [
        "## a) Einlesen der Data\n",
        "\n",
        "Idealerweise sind die Noteboks standalone. Im ersten Schritt werden die Daten eingelesen.\n",
        "\n",
        "#### Direkter Download\n",
        "Direkter Download der Food Nutrient Database, Abruf des Downloaddatums, automatischer Import in Pandas-Dataframe. "
      ]
    },
    {
      "cell_type": "code",
      "metadata": {
        "colab": {
          "base_uri": "https://localhost:8080/"
        },
        "id": "VXxt0CRcImU2",
        "outputId": "0bfd630d-d9d4-4cfd-b40b-29349a400925"
      },
      "source": [
        "fileUrl = 'https://github.com/schmuecker/machine-learning-course/blob/main/01%20explorative-analysis-pca/01.2%20data%20preprocessing/data/foods-2011-10-03.json.zip?raw=true'\n",
        "fileName = 'foods-2011-10-03.json.zip'\n",
        "urllib.request.urlretrieve(fileUrl, fileName)\n"
      ],
      "execution_count": null,
      "outputs": [
        {
          "output_type": "execute_result",
          "data": {
            "text/plain": [
              "('foods-2011-10-03.json.zip', <http.client.HTTPMessage at 0x7fc9a1392190>)"
            ]
          },
          "metadata": {},
          "execution_count": 21
        }
      ]
    },
    {
      "cell_type": "code",
      "metadata": {
        "colab": {
          "base_uri": "https://localhost:8080/"
        },
        "id": "NpYwlTNSWap0",
        "outputId": "4ee2ba37-ddfd-4ecf-e98b-1b94e68e1738"
      },
      "source": [
        "with zipfile.ZipFile(fileName) as file:\n",
        "    with file.open('foods-2011-10-03.json') as jsonFile:\n",
        "        data = json.load(jsonFile)\n",
        "        # Print the type of data variable\n",
        "        print(\"Type:\", type(data))\n",
        "        print(data[0])\n",
        "        print(data[0].keys())\n"
      ],
      "execution_count": null,
      "outputs": [
        {
          "output_type": "stream",
          "name": "stdout",
          "text": [
            "Type: <class 'list'>\n",
            "{'id': 1008, 'description': 'Cheese, caraway', 'tags': [], 'manufacturer': '', 'group': 'Dairy and Egg Products', 'portions': [{'amount': 1, 'unit': 'oz', 'grams': 28.35}], 'nutrients': [{'value': 25.18, 'units': 'g', 'description': 'Protein', 'group': 'Composition'}, {'value': 29.2, 'units': 'g', 'description': 'Total lipid (fat)', 'group': 'Composition'}, {'value': 3.06, 'units': 'g', 'description': 'Carbohydrate, by difference', 'group': 'Composition'}, {'value': 3.28, 'units': 'g', 'description': 'Ash', 'group': 'Other'}, {'value': 376.0, 'units': 'kcal', 'description': 'Energy', 'group': 'Energy'}, {'value': 39.28, 'units': 'g', 'description': 'Water', 'group': 'Composition'}, {'value': 1573.0, 'units': 'kJ', 'description': 'Energy', 'group': 'Energy'}, {'value': 0.0, 'units': 'g', 'description': 'Fiber, total dietary', 'group': 'Composition'}, {'value': 673.0, 'units': 'mg', 'description': 'Calcium, Ca', 'group': 'Elements'}, {'value': 0.64, 'units': 'mg', 'description': 'Iron, Fe', 'group': 'Elements'}, {'value': 22.0, 'units': 'mg', 'description': 'Magnesium, Mg', 'group': 'Elements'}, {'value': 490.0, 'units': 'mg', 'description': 'Phosphorus, P', 'group': 'Elements'}, {'value': 93.0, 'units': 'mg', 'description': 'Potassium, K', 'group': 'Elements'}, {'value': 690.0, 'units': 'mg', 'description': 'Sodium, Na', 'group': 'Elements'}, {'value': 2.94, 'units': 'mg', 'description': 'Zinc, Zn', 'group': 'Elements'}, {'value': 0.024, 'units': 'mg', 'description': 'Copper, Cu', 'group': 'Elements'}, {'value': 0.021, 'units': 'mg', 'description': 'Manganese, Mn', 'group': 'Elements'}, {'value': 14.5, 'units': 'mcg', 'description': 'Selenium, Se', 'group': 'Elements'}, {'value': 1054.0, 'units': 'IU', 'description': 'Vitamin A, IU', 'group': 'Vitamins'}, {'value': 262.0, 'units': 'mcg', 'description': 'Retinol', 'group': 'Vitamins'}, {'value': 271.0, 'units': 'mcg_RAE', 'description': 'Vitamin A, RAE', 'group': 'Vitamins'}, {'value': 0.0, 'units': 'mg', 'description': 'Vitamin C, total ascorbic acid', 'group': 'Vitamins'}, {'value': 0.031, 'units': 'mg', 'description': 'Thiamin', 'group': 'Vitamins'}, {'value': 0.45, 'units': 'mg', 'description': 'Riboflavin', 'group': 'Vitamins'}, {'value': 0.18, 'units': 'mg', 'description': 'Niacin', 'group': 'Vitamins'}, {'value': 0.19, 'units': 'mg', 'description': 'Pantothenic acid', 'group': 'Vitamins'}, {'value': 0.074, 'units': 'mg', 'description': 'Vitamin B-6', 'group': 'Vitamins'}, {'value': 18.0, 'units': 'mcg', 'description': 'Folate, total', 'group': 'Vitamins'}, {'value': 0.27, 'units': 'mcg', 'description': 'Vitamin B-12', 'group': 'Vitamins'}, {'value': 0.0, 'units': 'mcg', 'description': 'Folic acid', 'group': 'Vitamins'}, {'value': 18.0, 'units': 'mcg', 'description': 'Folate, food', 'group': 'Vitamins'}, {'value': 18.0, 'units': 'mcg_DFE', 'description': 'Folate, DFE', 'group': 'Vitamins'}, {'value': 93.0, 'units': 'mg', 'description': 'Cholesterol', 'group': 'Other'}, {'value': 18.584, 'units': 'g', 'description': 'Fatty acids, total saturated', 'group': 'Other'}, {'value': 8.275, 'units': 'g', 'description': 'Fatty acids, total monounsaturated', 'group': 'Other'}, {'value': 0.83, 'units': 'g', 'description': 'Fatty acids, total polyunsaturated', 'group': 'Other'}, {'value': 0.324, 'units': 'g', 'description': 'Tryptophan', 'group': 'Amino Acids'}, {'value': 0.896, 'units': 'g', 'description': 'Threonine', 'group': 'Amino Acids'}, {'value': 1.563, 'units': 'g', 'description': 'Isoleucine', 'group': 'Amino Acids'}, {'value': 2.412, 'units': 'g', 'description': 'Leucine', 'group': 'Amino Acids'}, {'value': 2.095, 'units': 'g', 'description': 'Lysine', 'group': 'Amino Acids'}, {'value': 0.659, 'units': 'g', 'description': 'Methionine', 'group': 'Amino Acids'}, {'value': 0.126, 'units': 'g', 'description': 'Cystine', 'group': 'Amino Acids'}, {'value': 1.326, 'units': 'g', 'description': 'Phenylalanine', 'group': 'Amino Acids'}, {'value': 1.216, 'units': 'g', 'description': 'Tyrosine', 'group': 'Amino Acids'}, {'value': 1.682, 'units': 'g', 'description': 'Valine', 'group': 'Amino Acids'}, {'value': 0.952, 'units': 'g', 'description': 'Arginine', 'group': 'Amino Acids'}, {'value': 0.884, 'units': 'g', 'description': 'Histidine', 'group': 'Amino Acids'}, {'value': 0.711, 'units': 'g', 'description': 'Alanine', 'group': 'Amino Acids'}, {'value': 1.618, 'units': 'g', 'description': 'Aspartic acid', 'group': 'Amino Acids'}, {'value': 6.16, 'units': 'g', 'description': 'Glutamic acid', 'group': 'Amino Acids'}, {'value': 0.439, 'units': 'g', 'description': 'Glycine', 'group': 'Amino Acids'}, {'value': 2.838, 'units': 'g', 'description': 'Proline', 'group': 'Amino Acids'}, {'value': 1.472, 'units': 'g', 'description': 'Serine', 'group': 'Amino Acids'}, {'value': 25.18, 'units': 'g', 'description': 'Protein', 'group': 'Composition'}, {'value': 29.2, 'units': 'g', 'description': 'Total lipid (fat)', 'group': 'Composition'}, {'value': 3.06, 'units': 'g', 'description': 'Carbohydrate, by difference', 'group': 'Composition'}, {'value': 3.28, 'units': 'g', 'description': 'Ash', 'group': 'Other'}, {'value': 376.0, 'units': 'kcal', 'description': 'Energy', 'group': 'Energy'}, {'value': 39.28, 'units': 'g', 'description': 'Water', 'group': 'Composition'}, {'value': 1573.0, 'units': 'kJ', 'description': 'Energy', 'group': 'Energy'}, {'value': 0.0, 'units': 'g', 'description': 'Fiber, total dietary', 'group': 'Composition'}, {'value': 673.0, 'units': 'mg', 'description': 'Calcium, Ca', 'group': 'Elements'}, {'value': 0.64, 'units': 'mg', 'description': 'Iron, Fe', 'group': 'Elements'}, {'value': 22.0, 'units': 'mg', 'description': 'Magnesium, Mg', 'group': 'Elements'}, {'value': 490.0, 'units': 'mg', 'description': 'Phosphorus, P', 'group': 'Elements'}, {'value': 93.0, 'units': 'mg', 'description': 'Potassium, K', 'group': 'Elements'}, {'value': 690.0, 'units': 'mg', 'description': 'Sodium, Na', 'group': 'Elements'}, {'value': 2.94, 'units': 'mg', 'description': 'Zinc, Zn', 'group': 'Elements'}, {'value': 0.024, 'units': 'mg', 'description': 'Copper, Cu', 'group': 'Elements'}, {'value': 0.021, 'units': 'mg', 'description': 'Manganese, Mn', 'group': 'Elements'}, {'value': 14.5, 'units': 'mcg', 'description': 'Selenium, Se', 'group': 'Elements'}, {'value': 1054.0, 'units': 'IU', 'description': 'Vitamin A, IU', 'group': 'Vitamins'}, {'value': 262.0, 'units': 'mcg', 'description': 'Retinol', 'group': 'Vitamins'}, {'value': 271.0, 'units': 'mcg_RAE', 'description': 'Vitamin A, RAE', 'group': 'Vitamins'}, {'value': 0.0, 'units': 'mg', 'description': 'Vitamin C, total ascorbic acid', 'group': 'Vitamins'}, {'value': 0.031, 'units': 'mg', 'description': 'Thiamin', 'group': 'Vitamins'}, {'value': 0.45, 'units': 'mg', 'description': 'Riboflavin', 'group': 'Vitamins'}, {'value': 0.18, 'units': 'mg', 'description': 'Niacin', 'group': 'Vitamins'}, {'value': 0.19, 'units': 'mg', 'description': 'Pantothenic acid', 'group': 'Vitamins'}, {'value': 0.074, 'units': 'mg', 'description': 'Vitamin B-6', 'group': 'Vitamins'}, {'value': 18.0, 'units': 'mcg', 'description': 'Folate, total', 'group': 'Vitamins'}, {'value': 0.27, 'units': 'mcg', 'description': 'Vitamin B-12', 'group': 'Vitamins'}, {'value': 0.0, 'units': 'mcg', 'description': 'Folic acid', 'group': 'Vitamins'}, {'value': 18.0, 'units': 'mcg', 'description': 'Folate, food', 'group': 'Vitamins'}, {'value': 18.0, 'units': 'mcg_DFE', 'description': 'Folate, DFE', 'group': 'Vitamins'}, {'value': 0.324, 'units': 'g', 'description': 'Tryptophan', 'group': 'Amino Acids'}, {'value': 0.896, 'units': 'g', 'description': 'Threonine', 'group': 'Amino Acids'}, {'value': 1.563, 'units': 'g', 'description': 'Isoleucine', 'group': 'Amino Acids'}, {'value': 2.412, 'units': 'g', 'description': 'Leucine', 'group': 'Amino Acids'}, {'value': 2.095, 'units': 'g', 'description': 'Lysine', 'group': 'Amino Acids'}, {'value': 0.659, 'units': 'g', 'description': 'Methionine', 'group': 'Amino Acids'}, {'value': 0.126, 'units': 'g', 'description': 'Cystine', 'group': 'Amino Acids'}, {'value': 1.326, 'units': 'g', 'description': 'Phenylalanine', 'group': 'Amino Acids'}, {'value': 1.216, 'units': 'g', 'description': 'Tyrosine', 'group': 'Amino Acids'}, {'value': 1.682, 'units': 'g', 'description': 'Valine', 'group': 'Amino Acids'}, {'value': 0.952, 'units': 'g', 'description': 'Arginine', 'group': 'Amino Acids'}, {'value': 0.884, 'units': 'g', 'description': 'Histidine', 'group': 'Amino Acids'}, {'value': 0.711, 'units': 'g', 'description': 'Alanine', 'group': 'Amino Acids'}, {'value': 1.618, 'units': 'g', 'description': 'Aspartic acid', 'group': 'Amino Acids'}, {'value': 6.16, 'units': 'g', 'description': 'Glutamic acid', 'group': 'Amino Acids'}, {'value': 0.439, 'units': 'g', 'description': 'Glycine', 'group': 'Amino Acids'}, {'value': 2.838, 'units': 'g', 'description': 'Proline', 'group': 'Amino Acids'}, {'value': 1.472, 'units': 'g', 'description': 'Serine', 'group': 'Amino Acids'}, {'value': 93.0, 'units': 'mg', 'description': 'Cholesterol', 'group': 'Other'}, {'value': 18.584, 'units': 'g', 'description': 'Fatty acids, total saturated', 'group': 'Other'}, {'value': 8.275, 'units': 'g', 'description': 'Fatty acids, total monounsaturated', 'group': 'Other'}, {'value': 0.83, 'units': 'g', 'description': 'Fatty acids, total polyunsaturated', 'group': 'Other'}, {'value': 25.18, 'units': 'g', 'description': 'Protein', 'group': 'Composition'}, {'value': 29.2, 'units': 'g', 'description': 'Total lipid (fat)', 'group': 'Composition'}, {'value': 3.06, 'units': 'g', 'description': 'Carbohydrate, by difference', 'group': 'Composition'}, {'value': 3.28, 'units': 'g', 'description': 'Ash', 'group': 'Other'}, {'value': 376.0, 'units': 'kcal', 'description': 'Energy', 'group': 'Energy'}, {'value': 39.28, 'units': 'g', 'description': 'Water', 'group': 'Composition'}, {'value': 1573.0, 'units': 'kJ', 'description': 'Energy', 'group': 'Energy'}, {'value': 0.0, 'units': 'g', 'description': 'Fiber, total dietary', 'group': 'Composition'}, {'value': 673.0, 'units': 'mg', 'description': 'Calcium, Ca', 'group': 'Elements'}, {'value': 0.64, 'units': 'mg', 'description': 'Iron, Fe', 'group': 'Elements'}, {'value': 22.0, 'units': 'mg', 'description': 'Magnesium, Mg', 'group': 'Elements'}, {'value': 490.0, 'units': 'mg', 'description': 'Phosphorus, P', 'group': 'Elements'}, {'value': 93.0, 'units': 'mg', 'description': 'Potassium, K', 'group': 'Elements'}, {'value': 690.0, 'units': 'mg', 'description': 'Sodium, Na', 'group': 'Elements'}, {'value': 2.94, 'units': 'mg', 'description': 'Zinc, Zn', 'group': 'Elements'}, {'value': 0.024, 'units': 'mg', 'description': 'Copper, Cu', 'group': 'Elements'}, {'value': 0.021, 'units': 'mg', 'description': 'Manganese, Mn', 'group': 'Elements'}, {'value': 14.5, 'units': 'mcg', 'description': 'Selenium, Se', 'group': 'Elements'}, {'value': 1054.0, 'units': 'IU', 'description': 'Vitamin A, IU', 'group': 'Vitamins'}, {'value': 262.0, 'units': 'mcg', 'description': 'Retinol', 'group': 'Vitamins'}, {'value': 271.0, 'units': 'mcg_RAE', 'description': 'Vitamin A, RAE', 'group': 'Vitamins'}, {'value': 0.0, 'units': 'mg', 'description': 'Vitamin C, total ascorbic acid', 'group': 'Vitamins'}, {'value': 0.031, 'units': 'mg', 'description': 'Thiamin', 'group': 'Vitamins'}, {'value': 0.45, 'units': 'mg', 'description': 'Riboflavin', 'group': 'Vitamins'}, {'value': 0.18, 'units': 'mg', 'description': 'Niacin', 'group': 'Vitamins'}, {'value': 0.19, 'units': 'mg', 'description': 'Pantothenic acid', 'group': 'Vitamins'}, {'value': 0.074, 'units': 'mg', 'description': 'Vitamin B-6', 'group': 'Vitamins'}, {'value': 18.0, 'units': 'mcg', 'description': 'Folate, total', 'group': 'Vitamins'}, {'value': 0.27, 'units': 'mcg', 'description': 'Vitamin B-12', 'group': 'Vitamins'}, {'value': 0.0, 'units': 'mcg', 'description': 'Folic acid', 'group': 'Vitamins'}, {'value': 18.0, 'units': 'mcg', 'description': 'Folate, food', 'group': 'Vitamins'}, {'value': 18.0, 'units': 'mcg_DFE', 'description': 'Folate, DFE', 'group': 'Vitamins'}, {'value': 0.324, 'units': 'g', 'description': 'Tryptophan', 'group': 'Amino Acids'}, {'value': 0.896, 'units': 'g', 'description': 'Threonine', 'group': 'Amino Acids'}, {'value': 1.563, 'units': 'g', 'description': 'Isoleucine', 'group': 'Amino Acids'}, {'value': 2.412, 'units': 'g', 'description': 'Leucine', 'group': 'Amino Acids'}, {'value': 2.095, 'units': 'g', 'description': 'Lysine', 'group': 'Amino Acids'}, {'value': 0.659, 'units': 'g', 'description': 'Methionine', 'group': 'Amino Acids'}, {'value': 0.126, 'units': 'g', 'description': 'Cystine', 'group': 'Amino Acids'}, {'value': 1.326, 'units': 'g', 'description': 'Phenylalanine', 'group': 'Amino Acids'}, {'value': 1.216, 'units': 'g', 'description': 'Tyrosine', 'group': 'Amino Acids'}, {'value': 1.682, 'units': 'g', 'description': 'Valine', 'group': 'Amino Acids'}, {'value': 0.952, 'units': 'g', 'description': 'Arginine', 'group': 'Amino Acids'}, {'value': 0.884, 'units': 'g', 'description': 'Histidine', 'group': 'Amino Acids'}, {'value': 0.711, 'units': 'g', 'description': 'Alanine', 'group': 'Amino Acids'}, {'value': 1.618, 'units': 'g', 'description': 'Aspartic acid', 'group': 'Amino Acids'}, {'value': 6.16, 'units': 'g', 'description': 'Glutamic acid', 'group': 'Amino Acids'}, {'value': 0.439, 'units': 'g', 'description': 'Glycine', 'group': 'Amino Acids'}, {'value': 2.838, 'units': 'g', 'description': 'Proline', 'group': 'Amino Acids'}, {'value': 1.472, 'units': 'g', 'description': 'Serine', 'group': 'Amino Acids'}, {'value': 93.0, 'units': 'mg', 'description': 'Cholesterol', 'group': 'Other'}, {'value': 18.584, 'units': 'g', 'description': 'Fatty acids, total saturated', 'group': 'Other'}, {'value': 8.275, 'units': 'g', 'description': 'Fatty acids, total monounsaturated', 'group': 'Other'}, {'value': 0.83, 'units': 'g', 'description': 'Fatty acids, total polyunsaturated', 'group': 'Other'}]}\n",
            "dict_keys(['id', 'description', 'tags', 'manufacturer', 'group', 'portions', 'nutrients'])\n"
          ]
        }
      ]
    },
    {
      "cell_type": "markdown",
      "metadata": {
        "id": "XfkBItrRb-SZ"
      },
      "source": [
        "## b)"
      ]
    },
    {
      "cell_type": "markdown",
      "metadata": {
        "id": "WH199FF0dznn"
      },
      "source": [
        "### Beispiel Datensatz"
      ]
    },
    {
      "cell_type": "code",
      "metadata": {
        "colab": {
          "base_uri": "https://localhost:8080/"
        },
        "id": "MPboszkJb65s",
        "outputId": "3f765ab1-a901-4eca-c6e4-fcdd2842e18e"
      },
      "source": [
        "sampleFood = data[0]\n",
        "print(sampleFood)"
      ],
      "execution_count": null,
      "outputs": [
        {
          "output_type": "stream",
          "name": "stdout",
          "text": [
            "{'id': 1008, 'description': 'Cheese, caraway', 'tags': [], 'manufacturer': '', 'group': 'Dairy and Egg Products', 'portions': [{'amount': 1, 'unit': 'oz', 'grams': 28.35}], 'nutrients': [{'value': 25.18, 'units': 'g', 'description': 'Protein', 'group': 'Composition'}, {'value': 29.2, 'units': 'g', 'description': 'Total lipid (fat)', 'group': 'Composition'}, {'value': 3.06, 'units': 'g', 'description': 'Carbohydrate, by difference', 'group': 'Composition'}, {'value': 3.28, 'units': 'g', 'description': 'Ash', 'group': 'Other'}, {'value': 376.0, 'units': 'kcal', 'description': 'Energy', 'group': 'Energy'}, {'value': 39.28, 'units': 'g', 'description': 'Water', 'group': 'Composition'}, {'value': 1573.0, 'units': 'kJ', 'description': 'Energy', 'group': 'Energy'}, {'value': 0.0, 'units': 'g', 'description': 'Fiber, total dietary', 'group': 'Composition'}, {'value': 673.0, 'units': 'mg', 'description': 'Calcium, Ca', 'group': 'Elements'}, {'value': 0.64, 'units': 'mg', 'description': 'Iron, Fe', 'group': 'Elements'}, {'value': 22.0, 'units': 'mg', 'description': 'Magnesium, Mg', 'group': 'Elements'}, {'value': 490.0, 'units': 'mg', 'description': 'Phosphorus, P', 'group': 'Elements'}, {'value': 93.0, 'units': 'mg', 'description': 'Potassium, K', 'group': 'Elements'}, {'value': 690.0, 'units': 'mg', 'description': 'Sodium, Na', 'group': 'Elements'}, {'value': 2.94, 'units': 'mg', 'description': 'Zinc, Zn', 'group': 'Elements'}, {'value': 0.024, 'units': 'mg', 'description': 'Copper, Cu', 'group': 'Elements'}, {'value': 0.021, 'units': 'mg', 'description': 'Manganese, Mn', 'group': 'Elements'}, {'value': 14.5, 'units': 'mcg', 'description': 'Selenium, Se', 'group': 'Elements'}, {'value': 1054.0, 'units': 'IU', 'description': 'Vitamin A, IU', 'group': 'Vitamins'}, {'value': 262.0, 'units': 'mcg', 'description': 'Retinol', 'group': 'Vitamins'}, {'value': 271.0, 'units': 'mcg_RAE', 'description': 'Vitamin A, RAE', 'group': 'Vitamins'}, {'value': 0.0, 'units': 'mg', 'description': 'Vitamin C, total ascorbic acid', 'group': 'Vitamins'}, {'value': 0.031, 'units': 'mg', 'description': 'Thiamin', 'group': 'Vitamins'}, {'value': 0.45, 'units': 'mg', 'description': 'Riboflavin', 'group': 'Vitamins'}, {'value': 0.18, 'units': 'mg', 'description': 'Niacin', 'group': 'Vitamins'}, {'value': 0.19, 'units': 'mg', 'description': 'Pantothenic acid', 'group': 'Vitamins'}, {'value': 0.074, 'units': 'mg', 'description': 'Vitamin B-6', 'group': 'Vitamins'}, {'value': 18.0, 'units': 'mcg', 'description': 'Folate, total', 'group': 'Vitamins'}, {'value': 0.27, 'units': 'mcg', 'description': 'Vitamin B-12', 'group': 'Vitamins'}, {'value': 0.0, 'units': 'mcg', 'description': 'Folic acid', 'group': 'Vitamins'}, {'value': 18.0, 'units': 'mcg', 'description': 'Folate, food', 'group': 'Vitamins'}, {'value': 18.0, 'units': 'mcg_DFE', 'description': 'Folate, DFE', 'group': 'Vitamins'}, {'value': 93.0, 'units': 'mg', 'description': 'Cholesterol', 'group': 'Other'}, {'value': 18.584, 'units': 'g', 'description': 'Fatty acids, total saturated', 'group': 'Other'}, {'value': 8.275, 'units': 'g', 'description': 'Fatty acids, total monounsaturated', 'group': 'Other'}, {'value': 0.83, 'units': 'g', 'description': 'Fatty acids, total polyunsaturated', 'group': 'Other'}, {'value': 0.324, 'units': 'g', 'description': 'Tryptophan', 'group': 'Amino Acids'}, {'value': 0.896, 'units': 'g', 'description': 'Threonine', 'group': 'Amino Acids'}, {'value': 1.563, 'units': 'g', 'description': 'Isoleucine', 'group': 'Amino Acids'}, {'value': 2.412, 'units': 'g', 'description': 'Leucine', 'group': 'Amino Acids'}, {'value': 2.095, 'units': 'g', 'description': 'Lysine', 'group': 'Amino Acids'}, {'value': 0.659, 'units': 'g', 'description': 'Methionine', 'group': 'Amino Acids'}, {'value': 0.126, 'units': 'g', 'description': 'Cystine', 'group': 'Amino Acids'}, {'value': 1.326, 'units': 'g', 'description': 'Phenylalanine', 'group': 'Amino Acids'}, {'value': 1.216, 'units': 'g', 'description': 'Tyrosine', 'group': 'Amino Acids'}, {'value': 1.682, 'units': 'g', 'description': 'Valine', 'group': 'Amino Acids'}, {'value': 0.952, 'units': 'g', 'description': 'Arginine', 'group': 'Amino Acids'}, {'value': 0.884, 'units': 'g', 'description': 'Histidine', 'group': 'Amino Acids'}, {'value': 0.711, 'units': 'g', 'description': 'Alanine', 'group': 'Amino Acids'}, {'value': 1.618, 'units': 'g', 'description': 'Aspartic acid', 'group': 'Amino Acids'}, {'value': 6.16, 'units': 'g', 'description': 'Glutamic acid', 'group': 'Amino Acids'}, {'value': 0.439, 'units': 'g', 'description': 'Glycine', 'group': 'Amino Acids'}, {'value': 2.838, 'units': 'g', 'description': 'Proline', 'group': 'Amino Acids'}, {'value': 1.472, 'units': 'g', 'description': 'Serine', 'group': 'Amino Acids'}, {'value': 25.18, 'units': 'g', 'description': 'Protein', 'group': 'Composition'}, {'value': 29.2, 'units': 'g', 'description': 'Total lipid (fat)', 'group': 'Composition'}, {'value': 3.06, 'units': 'g', 'description': 'Carbohydrate, by difference', 'group': 'Composition'}, {'value': 3.28, 'units': 'g', 'description': 'Ash', 'group': 'Other'}, {'value': 376.0, 'units': 'kcal', 'description': 'Energy', 'group': 'Energy'}, {'value': 39.28, 'units': 'g', 'description': 'Water', 'group': 'Composition'}, {'value': 1573.0, 'units': 'kJ', 'description': 'Energy', 'group': 'Energy'}, {'value': 0.0, 'units': 'g', 'description': 'Fiber, total dietary', 'group': 'Composition'}, {'value': 673.0, 'units': 'mg', 'description': 'Calcium, Ca', 'group': 'Elements'}, {'value': 0.64, 'units': 'mg', 'description': 'Iron, Fe', 'group': 'Elements'}, {'value': 22.0, 'units': 'mg', 'description': 'Magnesium, Mg', 'group': 'Elements'}, {'value': 490.0, 'units': 'mg', 'description': 'Phosphorus, P', 'group': 'Elements'}, {'value': 93.0, 'units': 'mg', 'description': 'Potassium, K', 'group': 'Elements'}, {'value': 690.0, 'units': 'mg', 'description': 'Sodium, Na', 'group': 'Elements'}, {'value': 2.94, 'units': 'mg', 'description': 'Zinc, Zn', 'group': 'Elements'}, {'value': 0.024, 'units': 'mg', 'description': 'Copper, Cu', 'group': 'Elements'}, {'value': 0.021, 'units': 'mg', 'description': 'Manganese, Mn', 'group': 'Elements'}, {'value': 14.5, 'units': 'mcg', 'description': 'Selenium, Se', 'group': 'Elements'}, {'value': 1054.0, 'units': 'IU', 'description': 'Vitamin A, IU', 'group': 'Vitamins'}, {'value': 262.0, 'units': 'mcg', 'description': 'Retinol', 'group': 'Vitamins'}, {'value': 271.0, 'units': 'mcg_RAE', 'description': 'Vitamin A, RAE', 'group': 'Vitamins'}, {'value': 0.0, 'units': 'mg', 'description': 'Vitamin C, total ascorbic acid', 'group': 'Vitamins'}, {'value': 0.031, 'units': 'mg', 'description': 'Thiamin', 'group': 'Vitamins'}, {'value': 0.45, 'units': 'mg', 'description': 'Riboflavin', 'group': 'Vitamins'}, {'value': 0.18, 'units': 'mg', 'description': 'Niacin', 'group': 'Vitamins'}, {'value': 0.19, 'units': 'mg', 'description': 'Pantothenic acid', 'group': 'Vitamins'}, {'value': 0.074, 'units': 'mg', 'description': 'Vitamin B-6', 'group': 'Vitamins'}, {'value': 18.0, 'units': 'mcg', 'description': 'Folate, total', 'group': 'Vitamins'}, {'value': 0.27, 'units': 'mcg', 'description': 'Vitamin B-12', 'group': 'Vitamins'}, {'value': 0.0, 'units': 'mcg', 'description': 'Folic acid', 'group': 'Vitamins'}, {'value': 18.0, 'units': 'mcg', 'description': 'Folate, food', 'group': 'Vitamins'}, {'value': 18.0, 'units': 'mcg_DFE', 'description': 'Folate, DFE', 'group': 'Vitamins'}, {'value': 0.324, 'units': 'g', 'description': 'Tryptophan', 'group': 'Amino Acids'}, {'value': 0.896, 'units': 'g', 'description': 'Threonine', 'group': 'Amino Acids'}, {'value': 1.563, 'units': 'g', 'description': 'Isoleucine', 'group': 'Amino Acids'}, {'value': 2.412, 'units': 'g', 'description': 'Leucine', 'group': 'Amino Acids'}, {'value': 2.095, 'units': 'g', 'description': 'Lysine', 'group': 'Amino Acids'}, {'value': 0.659, 'units': 'g', 'description': 'Methionine', 'group': 'Amino Acids'}, {'value': 0.126, 'units': 'g', 'description': 'Cystine', 'group': 'Amino Acids'}, {'value': 1.326, 'units': 'g', 'description': 'Phenylalanine', 'group': 'Amino Acids'}, {'value': 1.216, 'units': 'g', 'description': 'Tyrosine', 'group': 'Amino Acids'}, {'value': 1.682, 'units': 'g', 'description': 'Valine', 'group': 'Amino Acids'}, {'value': 0.952, 'units': 'g', 'description': 'Arginine', 'group': 'Amino Acids'}, {'value': 0.884, 'units': 'g', 'description': 'Histidine', 'group': 'Amino Acids'}, {'value': 0.711, 'units': 'g', 'description': 'Alanine', 'group': 'Amino Acids'}, {'value': 1.618, 'units': 'g', 'description': 'Aspartic acid', 'group': 'Amino Acids'}, {'value': 6.16, 'units': 'g', 'description': 'Glutamic acid', 'group': 'Amino Acids'}, {'value': 0.439, 'units': 'g', 'description': 'Glycine', 'group': 'Amino Acids'}, {'value': 2.838, 'units': 'g', 'description': 'Proline', 'group': 'Amino Acids'}, {'value': 1.472, 'units': 'g', 'description': 'Serine', 'group': 'Amino Acids'}, {'value': 93.0, 'units': 'mg', 'description': 'Cholesterol', 'group': 'Other'}, {'value': 18.584, 'units': 'g', 'description': 'Fatty acids, total saturated', 'group': 'Other'}, {'value': 8.275, 'units': 'g', 'description': 'Fatty acids, total monounsaturated', 'group': 'Other'}, {'value': 0.83, 'units': 'g', 'description': 'Fatty acids, total polyunsaturated', 'group': 'Other'}, {'value': 25.18, 'units': 'g', 'description': 'Protein', 'group': 'Composition'}, {'value': 29.2, 'units': 'g', 'description': 'Total lipid (fat)', 'group': 'Composition'}, {'value': 3.06, 'units': 'g', 'description': 'Carbohydrate, by difference', 'group': 'Composition'}, {'value': 3.28, 'units': 'g', 'description': 'Ash', 'group': 'Other'}, {'value': 376.0, 'units': 'kcal', 'description': 'Energy', 'group': 'Energy'}, {'value': 39.28, 'units': 'g', 'description': 'Water', 'group': 'Composition'}, {'value': 1573.0, 'units': 'kJ', 'description': 'Energy', 'group': 'Energy'}, {'value': 0.0, 'units': 'g', 'description': 'Fiber, total dietary', 'group': 'Composition'}, {'value': 673.0, 'units': 'mg', 'description': 'Calcium, Ca', 'group': 'Elements'}, {'value': 0.64, 'units': 'mg', 'description': 'Iron, Fe', 'group': 'Elements'}, {'value': 22.0, 'units': 'mg', 'description': 'Magnesium, Mg', 'group': 'Elements'}, {'value': 490.0, 'units': 'mg', 'description': 'Phosphorus, P', 'group': 'Elements'}, {'value': 93.0, 'units': 'mg', 'description': 'Potassium, K', 'group': 'Elements'}, {'value': 690.0, 'units': 'mg', 'description': 'Sodium, Na', 'group': 'Elements'}, {'value': 2.94, 'units': 'mg', 'description': 'Zinc, Zn', 'group': 'Elements'}, {'value': 0.024, 'units': 'mg', 'description': 'Copper, Cu', 'group': 'Elements'}, {'value': 0.021, 'units': 'mg', 'description': 'Manganese, Mn', 'group': 'Elements'}, {'value': 14.5, 'units': 'mcg', 'description': 'Selenium, Se', 'group': 'Elements'}, {'value': 1054.0, 'units': 'IU', 'description': 'Vitamin A, IU', 'group': 'Vitamins'}, {'value': 262.0, 'units': 'mcg', 'description': 'Retinol', 'group': 'Vitamins'}, {'value': 271.0, 'units': 'mcg_RAE', 'description': 'Vitamin A, RAE', 'group': 'Vitamins'}, {'value': 0.0, 'units': 'mg', 'description': 'Vitamin C, total ascorbic acid', 'group': 'Vitamins'}, {'value': 0.031, 'units': 'mg', 'description': 'Thiamin', 'group': 'Vitamins'}, {'value': 0.45, 'units': 'mg', 'description': 'Riboflavin', 'group': 'Vitamins'}, {'value': 0.18, 'units': 'mg', 'description': 'Niacin', 'group': 'Vitamins'}, {'value': 0.19, 'units': 'mg', 'description': 'Pantothenic acid', 'group': 'Vitamins'}, {'value': 0.074, 'units': 'mg', 'description': 'Vitamin B-6', 'group': 'Vitamins'}, {'value': 18.0, 'units': 'mcg', 'description': 'Folate, total', 'group': 'Vitamins'}, {'value': 0.27, 'units': 'mcg', 'description': 'Vitamin B-12', 'group': 'Vitamins'}, {'value': 0.0, 'units': 'mcg', 'description': 'Folic acid', 'group': 'Vitamins'}, {'value': 18.0, 'units': 'mcg', 'description': 'Folate, food', 'group': 'Vitamins'}, {'value': 18.0, 'units': 'mcg_DFE', 'description': 'Folate, DFE', 'group': 'Vitamins'}, {'value': 0.324, 'units': 'g', 'description': 'Tryptophan', 'group': 'Amino Acids'}, {'value': 0.896, 'units': 'g', 'description': 'Threonine', 'group': 'Amino Acids'}, {'value': 1.563, 'units': 'g', 'description': 'Isoleucine', 'group': 'Amino Acids'}, {'value': 2.412, 'units': 'g', 'description': 'Leucine', 'group': 'Amino Acids'}, {'value': 2.095, 'units': 'g', 'description': 'Lysine', 'group': 'Amino Acids'}, {'value': 0.659, 'units': 'g', 'description': 'Methionine', 'group': 'Amino Acids'}, {'value': 0.126, 'units': 'g', 'description': 'Cystine', 'group': 'Amino Acids'}, {'value': 1.326, 'units': 'g', 'description': 'Phenylalanine', 'group': 'Amino Acids'}, {'value': 1.216, 'units': 'g', 'description': 'Tyrosine', 'group': 'Amino Acids'}, {'value': 1.682, 'units': 'g', 'description': 'Valine', 'group': 'Amino Acids'}, {'value': 0.952, 'units': 'g', 'description': 'Arginine', 'group': 'Amino Acids'}, {'value': 0.884, 'units': 'g', 'description': 'Histidine', 'group': 'Amino Acids'}, {'value': 0.711, 'units': 'g', 'description': 'Alanine', 'group': 'Amino Acids'}, {'value': 1.618, 'units': 'g', 'description': 'Aspartic acid', 'group': 'Amino Acids'}, {'value': 6.16, 'units': 'g', 'description': 'Glutamic acid', 'group': 'Amino Acids'}, {'value': 0.439, 'units': 'g', 'description': 'Glycine', 'group': 'Amino Acids'}, {'value': 2.838, 'units': 'g', 'description': 'Proline', 'group': 'Amino Acids'}, {'value': 1.472, 'units': 'g', 'description': 'Serine', 'group': 'Amino Acids'}, {'value': 93.0, 'units': 'mg', 'description': 'Cholesterol', 'group': 'Other'}, {'value': 18.584, 'units': 'g', 'description': 'Fatty acids, total saturated', 'group': 'Other'}, {'value': 8.275, 'units': 'g', 'description': 'Fatty acids, total monounsaturated', 'group': 'Other'}, {'value': 0.83, 'units': 'g', 'description': 'Fatty acids, total polyunsaturated', 'group': 'Other'}]}\n"
          ]
        }
      ]
    },
    {
      "cell_type": "markdown",
      "metadata": {
        "id": "jalkxpDTd5o3"
      },
      "source": [
        "### Beispiel Nährstoff"
      ]
    },
    {
      "cell_type": "code",
      "metadata": {
        "colab": {
          "base_uri": "https://localhost:8080/"
        },
        "id": "fAQ46RV5d7Wo",
        "outputId": "8ea57f72-5d36-44c7-e31d-1f73b33f9185"
      },
      "source": [
        "nutrient = sampleFood['nutrients'][0]\n",
        "print(nutrient.keys())\n"
      ],
      "execution_count": null,
      "outputs": [
        {
          "output_type": "stream",
          "name": "stdout",
          "text": [
            "dict_keys(['value', 'units', 'description', 'group'])\n"
          ]
        }
      ]
    },
    {
      "cell_type": "markdown",
      "metadata": {
        "id": "1vNUe2wqiDGA"
      },
      "source": [
        "### Erstellen des Nahrungsmittel-DataFrames"
      ]
    },
    {
      "cell_type": "code",
      "metadata": {
        "colab": {
          "base_uri": "https://localhost:8080/",
          "height": 238
        },
        "id": "QOCKz7ThfIRM",
        "outputId": "a7bb5b01-ef05-437d-908c-54e35caf0f14"
      },
      "source": [
        "\n",
        "def transformFood(food):\n",
        "    return { 'description': food['description'], 'group': food['group'], 'id': food['id'], 'manufacturer': food['manufacturer'] }\n",
        "  \n",
        "result = map(transformFood, data)\n",
        "info = pd.DataFrame(list(result))\n",
        "\n",
        "print(\"Info type:\", type(info))\n",
        "print(len(info), 'entries')\n",
        "info.head()"
      ],
      "execution_count": null,
      "outputs": [
        {
          "output_type": "stream",
          "name": "stdout",
          "text": [
            "Info type: <class 'pandas.core.frame.DataFrame'>\n",
            "6636 entries\n"
          ]
        },
        {
          "output_type": "execute_result",
          "data": {
            "text/html": [
              "<div>\n",
              "<style scoped>\n",
              "    .dataframe tbody tr th:only-of-type {\n",
              "        vertical-align: middle;\n",
              "    }\n",
              "\n",
              "    .dataframe tbody tr th {\n",
              "        vertical-align: top;\n",
              "    }\n",
              "\n",
              "    .dataframe thead th {\n",
              "        text-align: right;\n",
              "    }\n",
              "</style>\n",
              "<table border=\"1\" class=\"dataframe\">\n",
              "  <thead>\n",
              "    <tr style=\"text-align: right;\">\n",
              "      <th></th>\n",
              "      <th>description</th>\n",
              "      <th>group</th>\n",
              "      <th>id</th>\n",
              "      <th>manufacturer</th>\n",
              "    </tr>\n",
              "  </thead>\n",
              "  <tbody>\n",
              "    <tr>\n",
              "      <th>0</th>\n",
              "      <td>Cheese, caraway</td>\n",
              "      <td>Dairy and Egg Products</td>\n",
              "      <td>1008</td>\n",
              "      <td></td>\n",
              "    </tr>\n",
              "    <tr>\n",
              "      <th>1</th>\n",
              "      <td>Cheese, cheddar</td>\n",
              "      <td>Dairy and Egg Products</td>\n",
              "      <td>1009</td>\n",
              "      <td></td>\n",
              "    </tr>\n",
              "    <tr>\n",
              "      <th>2</th>\n",
              "      <td>Cheese, edam</td>\n",
              "      <td>Dairy and Egg Products</td>\n",
              "      <td>1018</td>\n",
              "      <td></td>\n",
              "    </tr>\n",
              "    <tr>\n",
              "      <th>3</th>\n",
              "      <td>Cheese, feta</td>\n",
              "      <td>Dairy and Egg Products</td>\n",
              "      <td>1019</td>\n",
              "      <td></td>\n",
              "    </tr>\n",
              "    <tr>\n",
              "      <th>4</th>\n",
              "      <td>Cheese, mozzarella, part skim milk</td>\n",
              "      <td>Dairy and Egg Products</td>\n",
              "      <td>1028</td>\n",
              "      <td></td>\n",
              "    </tr>\n",
              "  </tbody>\n",
              "</table>\n",
              "</div>"
            ],
            "text/plain": [
              "                          description  ... manufacturer\n",
              "0                     Cheese, caraway  ...             \n",
              "1                     Cheese, cheddar  ...             \n",
              "2                        Cheese, edam  ...             \n",
              "3                        Cheese, feta  ...             \n",
              "4  Cheese, mozzarella, part skim milk  ...             \n",
              "\n",
              "[5 rows x 4 columns]"
            ]
          },
          "metadata": {},
          "execution_count": 33
        }
      ]
    },
    {
      "cell_type": "markdown",
      "metadata": {
        "id": "Gm3rycu0iVZo"
      },
      "source": [
        "### Erstellen des Nährstoff-DataFrames"
      ]
    },
    {
      "cell_type": "code",
      "metadata": {
        "colab": {
          "base_uri": "https://localhost:8080/"
        },
        "id": "k89zua9Eib48",
        "outputId": "3e689c4d-eb2f-40ec-8a28-099f55e7dd2a"
      },
      "source": [
        "def getNutrients(food):\n",
        "  #n = { 'id': food['id'], 'nutrients': food['nutrients'] }\n",
        "  df = pd.DataFrame(food['nutrients'])\n",
        "  #wenn Dict an Dataframe Constructor, dann werden Keys zu Column-Names\n",
        "  df[\"id\"]=food['id']\n",
        "  return df\n",
        "  \n",
        "result = map(getNutrients, data)\n",
        "nutrients = list(result)\n",
        "\n",
        "print(\"Nutrients type:\", type(nutrients))\n",
        "print(len(nutrients), 'entries')"
      ],
      "execution_count": null,
      "outputs": [
        {
          "output_type": "stream",
          "name": "stdout",
          "text": [
            "Nutrients type: <class 'list'>\n",
            "6636 entries\n"
          ]
        }
      ]
    },
    {
      "cell_type": "code",
      "metadata": {
        "colab": {
          "base_uri": "https://localhost:8080/",
          "height": 419
        },
        "id": "oKaaHuZJk4UR",
        "outputId": "8bdcd7f6-2aee-4980-ea5c-1da6d6b8b5e6"
      },
      "source": [
        "nutrientsDF = pd.concat(nutrients)\n",
        "nutrientsDF"
      ],
      "execution_count": null,
      "outputs": [
        {
          "output_type": "execute_result",
          "data": {
            "text/html": [
              "<div>\n",
              "<style scoped>\n",
              "    .dataframe tbody tr th:only-of-type {\n",
              "        vertical-align: middle;\n",
              "    }\n",
              "\n",
              "    .dataframe tbody tr th {\n",
              "        vertical-align: top;\n",
              "    }\n",
              "\n",
              "    .dataframe thead th {\n",
              "        text-align: right;\n",
              "    }\n",
              "</style>\n",
              "<table border=\"1\" class=\"dataframe\">\n",
              "  <thead>\n",
              "    <tr style=\"text-align: right;\">\n",
              "      <th></th>\n",
              "      <th>value</th>\n",
              "      <th>units</th>\n",
              "      <th>description</th>\n",
              "      <th>group</th>\n",
              "      <th>id</th>\n",
              "    </tr>\n",
              "  </thead>\n",
              "  <tbody>\n",
              "    <tr>\n",
              "      <th>0</th>\n",
              "      <td>25.180</td>\n",
              "      <td>g</td>\n",
              "      <td>Protein</td>\n",
              "      <td>Composition</td>\n",
              "      <td>1008</td>\n",
              "    </tr>\n",
              "    <tr>\n",
              "      <th>1</th>\n",
              "      <td>29.200</td>\n",
              "      <td>g</td>\n",
              "      <td>Total lipid (fat)</td>\n",
              "      <td>Composition</td>\n",
              "      <td>1008</td>\n",
              "    </tr>\n",
              "    <tr>\n",
              "      <th>2</th>\n",
              "      <td>3.060</td>\n",
              "      <td>g</td>\n",
              "      <td>Carbohydrate, by difference</td>\n",
              "      <td>Composition</td>\n",
              "      <td>1008</td>\n",
              "    </tr>\n",
              "    <tr>\n",
              "      <th>3</th>\n",
              "      <td>3.280</td>\n",
              "      <td>g</td>\n",
              "      <td>Ash</td>\n",
              "      <td>Other</td>\n",
              "      <td>1008</td>\n",
              "    </tr>\n",
              "    <tr>\n",
              "      <th>4</th>\n",
              "      <td>376.000</td>\n",
              "      <td>kcal</td>\n",
              "      <td>Energy</td>\n",
              "      <td>Energy</td>\n",
              "      <td>1008</td>\n",
              "    </tr>\n",
              "    <tr>\n",
              "      <th>...</th>\n",
              "      <td>...</td>\n",
              "      <td>...</td>\n",
              "      <td>...</td>\n",
              "      <td>...</td>\n",
              "      <td>...</td>\n",
              "    </tr>\n",
              "    <tr>\n",
              "      <th>45</th>\n",
              "      <td>0.000</td>\n",
              "      <td>mcg</td>\n",
              "      <td>Vitamin B-12, added</td>\n",
              "      <td>Vitamins</td>\n",
              "      <td>43546</td>\n",
              "    </tr>\n",
              "    <tr>\n",
              "      <th>46</th>\n",
              "      <td>0.000</td>\n",
              "      <td>mg</td>\n",
              "      <td>Cholesterol</td>\n",
              "      <td>Other</td>\n",
              "      <td>43546</td>\n",
              "    </tr>\n",
              "    <tr>\n",
              "      <th>47</th>\n",
              "      <td>0.072</td>\n",
              "      <td>g</td>\n",
              "      <td>Fatty acids, total saturated</td>\n",
              "      <td>Other</td>\n",
              "      <td>43546</td>\n",
              "    </tr>\n",
              "    <tr>\n",
              "      <th>48</th>\n",
              "      <td>0.028</td>\n",
              "      <td>g</td>\n",
              "      <td>Fatty acids, total monounsaturated</td>\n",
              "      <td>Other</td>\n",
              "      <td>43546</td>\n",
              "    </tr>\n",
              "    <tr>\n",
              "      <th>49</th>\n",
              "      <td>0.041</td>\n",
              "      <td>g</td>\n",
              "      <td>Fatty acids, total polyunsaturated</td>\n",
              "      <td>Other</td>\n",
              "      <td>43546</td>\n",
              "    </tr>\n",
              "  </tbody>\n",
              "</table>\n",
              "<p>389355 rows × 5 columns</p>\n",
              "</div>"
            ],
            "text/plain": [
              "      value units                         description        group     id\n",
              "0    25.180     g                             Protein  Composition   1008\n",
              "1    29.200     g                   Total lipid (fat)  Composition   1008\n",
              "2     3.060     g         Carbohydrate, by difference  Composition   1008\n",
              "3     3.280     g                                 Ash        Other   1008\n",
              "4   376.000  kcal                              Energy       Energy   1008\n",
              "..      ...   ...                                 ...          ...    ...\n",
              "45    0.000   mcg                 Vitamin B-12, added     Vitamins  43546\n",
              "46    0.000    mg                         Cholesterol        Other  43546\n",
              "47    0.072     g        Fatty acids, total saturated        Other  43546\n",
              "48    0.028     g  Fatty acids, total monounsaturated        Other  43546\n",
              "49    0.041     g  Fatty acids, total polyunsaturated        Other  43546\n",
              "\n",
              "[389355 rows x 5 columns]"
            ]
          },
          "metadata": {},
          "execution_count": 25
        }
      ]
    },
    {
      "cell_type": "markdown",
      "metadata": {
        "id": "_wNKZanHqEtp"
      },
      "source": [
        "### Duplikate entfernen"
      ]
    },
    {
      "cell_type": "code",
      "metadata": {
        "id": "AA_SechZqGqk",
        "colab": {
          "base_uri": "https://localhost:8080/"
        },
        "outputId": "808a0110-7008-465e-a69d-99f9b23bf968"
      },
      "source": [
        "nutrientsDF.drop_duplicates(inplace=True)\n",
        "print(len(nutrientsDF))\n",
        "print(nutrientsDF.head())"
      ],
      "execution_count": null,
      "outputs": [
        {
          "output_type": "stream",
          "name": "stdout",
          "text": [
            "375176\n",
            "    value units                  description        group    id\n",
            "0   25.18     g                      Protein  Composition  1008\n",
            "1   29.20     g            Total lipid (fat)  Composition  1008\n",
            "2    3.06     g  Carbohydrate, by difference  Composition  1008\n",
            "3    3.28     g                          Ash        Other  1008\n",
            "4  376.00  kcal                       Energy       Energy  1008\n"
          ]
        }
      ]
    },
    {
      "cell_type": "code",
      "metadata": {
        "id": "KhPT9RqaKUc8",
        "colab": {
          "base_uri": "https://localhost:8080/"
        },
        "outputId": "94be34f5-c716-4a9a-b703-5ae7017b09a4"
      },
      "source": [
        "nutrientsDF.rename(inplace=True, axis=1, mapper={\"description\":\"nu_desc\", \"group\":\"nu_group\"})\n",
        "print(nutrientsDF.head())"
      ],
      "execution_count": null,
      "outputs": [
        {
          "output_type": "stream",
          "name": "stdout",
          "text": [
            "    value units                      nu_desc     nu_group    id\n",
            "0   25.18     g                      Protein  Composition  1008\n",
            "1   29.20     g            Total lipid (fat)  Composition  1008\n",
            "2    3.06     g  Carbohydrate, by difference  Composition  1008\n",
            "3    3.28     g                          Ash        Other  1008\n",
            "4  376.00  kcal                       Energy       Energy  1008\n"
          ]
        }
      ]
    },
    {
      "cell_type": "code",
      "metadata": {
        "id": "SfRxyfyWKFgk"
      },
      "source": [
        "df = pd.merge(nutrientsDF, info, on=\"id\", how=\"outer\")\n",
        "#merge ähnlich wie Join in SQL"
      ],
      "execution_count": null,
      "outputs": []
    },
    {
      "cell_type": "code",
      "metadata": {
        "colab": {
          "base_uri": "https://localhost:8080/",
          "height": 204
        },
        "id": "98r5s5IlLjUM",
        "outputId": "7c407915-a4a2-46f5-f87b-b7ed504f3b84"
      },
      "source": [
        "df.head()"
      ],
      "execution_count": null,
      "outputs": [
        {
          "output_type": "execute_result",
          "data": {
            "text/html": [
              "<div>\n",
              "<style scoped>\n",
              "    .dataframe tbody tr th:only-of-type {\n",
              "        vertical-align: middle;\n",
              "    }\n",
              "\n",
              "    .dataframe tbody tr th {\n",
              "        vertical-align: top;\n",
              "    }\n",
              "\n",
              "    .dataframe thead th {\n",
              "        text-align: right;\n",
              "    }\n",
              "</style>\n",
              "<table border=\"1\" class=\"dataframe\">\n",
              "  <thead>\n",
              "    <tr style=\"text-align: right;\">\n",
              "      <th></th>\n",
              "      <th>value</th>\n",
              "      <th>units</th>\n",
              "      <th>nu_desc</th>\n",
              "      <th>nu_group</th>\n",
              "      <th>id</th>\n",
              "      <th>description</th>\n",
              "      <th>group</th>\n",
              "      <th>manufacturer</th>\n",
              "    </tr>\n",
              "  </thead>\n",
              "  <tbody>\n",
              "    <tr>\n",
              "      <th>0</th>\n",
              "      <td>25.18</td>\n",
              "      <td>g</td>\n",
              "      <td>Protein</td>\n",
              "      <td>Composition</td>\n",
              "      <td>1008</td>\n",
              "      <td>Cheese, caraway</td>\n",
              "      <td>Dairy and Egg Products</td>\n",
              "      <td></td>\n",
              "    </tr>\n",
              "    <tr>\n",
              "      <th>1</th>\n",
              "      <td>29.20</td>\n",
              "      <td>g</td>\n",
              "      <td>Total lipid (fat)</td>\n",
              "      <td>Composition</td>\n",
              "      <td>1008</td>\n",
              "      <td>Cheese, caraway</td>\n",
              "      <td>Dairy and Egg Products</td>\n",
              "      <td></td>\n",
              "    </tr>\n",
              "    <tr>\n",
              "      <th>2</th>\n",
              "      <td>3.06</td>\n",
              "      <td>g</td>\n",
              "      <td>Carbohydrate, by difference</td>\n",
              "      <td>Composition</td>\n",
              "      <td>1008</td>\n",
              "      <td>Cheese, caraway</td>\n",
              "      <td>Dairy and Egg Products</td>\n",
              "      <td></td>\n",
              "    </tr>\n",
              "    <tr>\n",
              "      <th>3</th>\n",
              "      <td>3.28</td>\n",
              "      <td>g</td>\n",
              "      <td>Ash</td>\n",
              "      <td>Other</td>\n",
              "      <td>1008</td>\n",
              "      <td>Cheese, caraway</td>\n",
              "      <td>Dairy and Egg Products</td>\n",
              "      <td></td>\n",
              "    </tr>\n",
              "    <tr>\n",
              "      <th>4</th>\n",
              "      <td>376.00</td>\n",
              "      <td>kcal</td>\n",
              "      <td>Energy</td>\n",
              "      <td>Energy</td>\n",
              "      <td>1008</td>\n",
              "      <td>Cheese, caraway</td>\n",
              "      <td>Dairy and Egg Products</td>\n",
              "      <td></td>\n",
              "    </tr>\n",
              "  </tbody>\n",
              "</table>\n",
              "</div>"
            ],
            "text/plain": [
              "    value units  ...                   group manufacturer\n",
              "0   25.18     g  ...  Dairy and Egg Products             \n",
              "1   29.20     g  ...  Dairy and Egg Products             \n",
              "2    3.06     g  ...  Dairy and Egg Products             \n",
              "3    3.28     g  ...  Dairy and Egg Products             \n",
              "4  376.00  kcal  ...  Dairy and Egg Products             \n",
              "\n",
              "[5 rows x 8 columns]"
            ]
          },
          "metadata": {},
          "execution_count": 37
        }
      ]
    },
    {
      "cell_type": "code",
      "metadata": {
        "colab": {
          "base_uri": "https://localhost:8080/",
          "height": 282
        },
        "id": "3rf-TIR4L17c",
        "outputId": "3e8b19a1-c15f-487c-f493-4263d24f5951"
      },
      "source": [
        "zinc = df[df['nu_desc']==\"Zinc, Zn\"]\n",
        "zinc_values = zinc[\"value\"]\n",
        "zinc_values.hist()"
      ],
      "execution_count": null,
      "outputs": [
        {
          "output_type": "execute_result",
          "data": {
            "text/plain": [
              "<matplotlib.axes._subplots.AxesSubplot at 0x7fc99903cdd0>"
            ]
          },
          "metadata": {},
          "execution_count": 35
        },
        {
          "output_type": "display_data",
          "data": {
            "image/png": "[encoded data removed]",
            "text/plain": [
              "<Figure size 432x288 with 1 Axes>"
            ]
          },
          "metadata": {
            "needs_background": "light"
          }
        }
      ]
    },
    {
      "cell_type": "code",
      "metadata": {
        "colab": {
          "base_uri": "https://localhost:8080/"
        },
        "id": "rMVhau3MMPHh",
        "outputId": "d424f849-6f98-4c97-dcee-3526e4a8b365"
      },
      "source": [
        "zinc_values.describe()"
      ],
      "execution_count": null,
      "outputs": [
        {
          "output_type": "execute_result",
          "data": {
            "text/plain": [
              "count    6137.000000\n",
              "mean        2.228589\n",
              "std         3.975321\n",
              "min         0.000000\n",
              "25%         0.340000\n",
              "50%         0.980000\n",
              "75%         2.980000\n",
              "max        90.950000\n",
              "Name: value, dtype: float64"
            ]
          },
          "metadata": {},
          "execution_count": 36
        }
      ]
    },
    {
      "cell_type": "code",
      "metadata": {
        "colab": {
          "base_uri": "https://localhost:8080/"
        },
        "id": "Sf8Nw2gmM3M6",
        "outputId": "f99f84e6-021e-4047-943f-afb0183469a7"
      },
      "source": [
        "#Edamer hat überdurchschnittlichen Zinkgehalt\n",
        "edamer_zinc = zinc[zinc[\"description\"]==\"Cheese, edam\"][\"value\"].values[0]\n",
        "# .values gibt eine Python List anstatt einer Pandas Series\n",
        "edamer_zinc > zinc_values.mean()"
      ],
      "execution_count": null,
      "outputs": [
        {
          "output_type": "execute_result",
          "data": {
            "text/plain": [
              "True"
            ]
          },
          "metadata": {},
          "execution_count": 37
        }
      ]
    },
    {
      "cell_type": "code",
      "metadata": {
        "colab": {
          "base_uri": "https://localhost:8080/"
        },
        "id": "qSqVCexpN6K6",
        "outputId": "ecdb2940-3c57-4835-a25f-bba2716ba116"
      },
      "source": [
        "#Über 70 % haben kleineren Zinkgehalt\n",
        "sum(zinc_values<edamer_zinc) / len(zinc_values)"
      ],
      "execution_count": null,
      "outputs": [
        {
          "output_type": "execute_result",
          "data": {
            "text/plain": [
              "0.8062571288903373"
            ]
          },
          "metadata": {},
          "execution_count": 38
        }
      ]
    },
    {
      "cell_type": "code",
      "metadata": {
        "colab": {
          "base_uri": "https://localhost:8080/"
        },
        "id": "ZozOLQkyOmbM",
        "outputId": "5eeb32f0-e072-4241-e03b-9a06239b187d"
      },
      "source": [
        "#Höchster Zinkgehalt\n",
        "zinc.loc[zinc[\"value\"].idxmax()]"
      ],
      "execution_count": null,
      "outputs": [
        {
          "output_type": "execute_result",
          "data": {
            "text/plain": [
              "value                                       90.95\n",
              "units                                          mg\n",
              "nu_desc                                  Zinc, Zn\n",
              "nu_group                                 Elements\n",
              "id                                          15170\n",
              "description     Mollusks, oyster, eastern, canned\n",
              "group              Finfish and Shellfish Products\n",
              "manufacturer                                     \n",
              "Name: 333726, dtype: object"
            ]
          },
          "metadata": {},
          "execution_count": 39
        }
      ]
    }
  ]
}