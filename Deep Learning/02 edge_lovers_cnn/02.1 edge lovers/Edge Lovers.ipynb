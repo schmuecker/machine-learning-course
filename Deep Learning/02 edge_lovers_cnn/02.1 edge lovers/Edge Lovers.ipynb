{
 "cells": [
  {
   "cell_type": "markdown",
   "metadata": {},
   "source": [
    "## Simple CNN for Edgelovers\n",
    "\n",
    "\n",
    "In this notebook you train a very simple CNN with only 1 kernel to discriminate images containing vertical (y=0) from those containing horizontal stripes (y=1). You can use keras for the solution.\n",
    "\n",
    "![](./assets/kernel.png)\n",
    "\n",
    "### a)  Generation of the data\n",
    "Write a function which creates an artficially dataset of greyscale images (50x50 pixel) with 10 vertical or horizontal bars (10 pixel long). Use this function to create a training and validation dataset of 1000 examples each.\n"
   ]
  },
  {
   "cell_type": "markdown",
   "metadata": {},
   "source": [
    "#### Image Generator"
   ]
  },
  {
   "cell_type": "code",
   "execution_count": 80,
   "metadata": {},
   "outputs": [],
   "source": [
    "import random\n",
    "import numpy as np\n",
    "import pandas as pd\n",
    "\n",
    "def generate(n_images = 1, width = 50, height = 50, n_lines = 10, line_length = 10):\n",
    "    images = []\n",
    "    directions = []\n",
    "    for i_idx in range(0,n_images):\n",
    "\n",
    "        # Generate pixels with random background color\n",
    "        # bg_color = round(random.uniform(0,1), 2)\n",
    "        bg_color = 0\n",
    "\n",
    "        # Pixels with shape (columns, rows)\n",
    "        pixels = np.full((width,height), bg_color)\n",
    "\n",
    "        # Generate lines with random direction\n",
    "        lines = []\n",
    "\n",
    "        # Contrast of 50% between line and background \n",
    "        # line_color = abs(bg_color - 0.5) \n",
    "        line_color = 1\n",
    "\n",
    "        # Random direction\n",
    "        line_direction = random.choice([(0,1), (1,0)])\n",
    "\n",
    "        for l_idx in range(0,n_lines):\n",
    "\n",
    "            # Random starting point\n",
    "            px_start = [random.randint(0, width - 1 - line_length), random.randint(0, height - 1 - line_length)]\n",
    "\n",
    "            # xy for every pixel of the line\n",
    "            line_pixels = [px_start]\n",
    "\n",
    "            for px_idx in range(1,line_length):\n",
    "                xy = []\n",
    "                if line_direction == (0,1):\n",
    "                    xy = [px_start[0]+px_idx,px_start[1]]\n",
    "                if line_direction == (1,0):\n",
    "                    xy = [px_start[0],px_start[1]+px_idx]\n",
    "                line_pixels.append(xy)\n",
    "            lines.append(line_pixels)\n",
    "        \n",
    "        # Color the lines on the image\n",
    "        for line in lines:\n",
    "            for xy in line:\n",
    "                x = xy[0]\n",
    "                y = xy[1]\n",
    "                pixels[x][y] = line_color\n",
    "\n",
    "        # Flatten from shape (50,50) to (2500)\n",
    "        # pixels = np.array(pixels).reshape((width*height))\n",
    "        pixels = np.array(pixels).reshape((width,height,1))\n",
    "\n",
    "        # Output images and their line directions\n",
    "        images.append(pixels)\n",
    "        directions.append(line_direction)\n",
    "\n",
    "    return np.array(images), np.array(directions)"
   ]
  },
  {
   "cell_type": "markdown",
   "metadata": {},
   "source": [
    "#### Generate data"
   ]
  },
  {
   "cell_type": "code",
   "execution_count": 81,
   "metadata": {},
   "outputs": [
    {
     "name": "stdout",
     "output_type": "stream",
     "text": [
      "X_train (1000, 50, 50, 1)\n",
      "y_train (1000, 2)\n"
     ]
    }
   ],
   "source": [
    "X_train, y_train = generate(1000, 50, 50, 10, 10)\n",
    "X_val, y_val = generate(1000, 50, 50, 10, 10)\n",
    "\n",
    "print('X_train', X_train.shape)\n",
    "print('y_train', y_train.shape)"
   ]
  },
  {
   "cell_type": "markdown",
   "metadata": {},
   "source": [
    "\n",
    "### b) Build the simplest possible CNN\n",
    "Make a CNN with one convolution (5x5, haveing two outputs (one for horizontal, one for vertical). Train the CNN on the data from a). You should have no more than 30 trainable parameters in the network. \n",
    "* Plot the learning curves: (epochs vs training loss and validation loss) and epochs vs accuracy.You should get an accuracy of approximatly 1.\n",
    "\n",
    "Hint: Use the max-pooling operation in a clever way.\n",
    "\n"
   ]
  },
  {
   "cell_type": "code",
   "execution_count": 82,
   "metadata": {},
   "outputs": [
    {
     "name": "stdout",
     "output_type": "stream",
     "text": [
      "Model: \"sequential_24\"\n",
      "_________________________________________________________________\n",
      " Layer (type)                Output Shape              Param #   \n",
      "=================================================================\n",
      " conv2d_23 (Conv2D)          (None, 46, 46, 1)         26        \n",
      "                                                                 \n",
      " max_pooling2d_21 (MaxPoolin  (None, 1, 1, 1)          0         \n",
      " g2D)                                                            \n",
      "                                                                 \n",
      " flatten_13 (Flatten)        (None, 1)                 0         \n",
      "                                                                 \n",
      " dense_21 (Dense)            (None, 2)                 4         \n",
      "                                                                 \n",
      "=================================================================\n",
      "Total params: 30\n",
      "Trainable params: 30\n",
      "Non-trainable params: 0\n",
      "_________________________________________________________________\n"
     ]
    }
   ],
   "source": [
    "import tensorflow as tf\n",
    "import tensorflow.keras as keras\n",
    "from tensorflow.keras.models import Sequential\n",
    "from tensorflow.keras.layers import Convolution2D, MaxPooling2D, Dense, Flatten\n",
    "from tensorflow.keras.optimizers import SGD\n",
    "\n",
    "model = keras.Sequential()\n",
    "\n",
    "# Layers\n",
    "model.add(Convolution2D(1, kernel_size=5, activation=\"relu\", input_shape=(50, 50, 1)))\n",
    "model.add(MaxPooling2D(pool_size=(46,46)))\n",
    "model.add(Flatten())\n",
    "model.add(Dense(2, activation=\"softmax\"))\n",
    "\n",
    "# Model\n",
    "model.compile(optimizer=SGD(), loss=\"categorical_crossentropy\", metrics=['accuracy'])\n",
    "\n",
    "model.summary()"
   ]
  },
  {
   "cell_type": "code",
   "execution_count": 83,
   "metadata": {},
   "outputs": [
    {
     "name": "stdout",
     "output_type": "stream",
     "text": [
      "Epoch 1/10\n",
      "32/32 [==============================] - 1s 19ms/step - loss: 0.6323 - accuracy: 0.5040 - val_loss: 0.5665 - val_accuracy: 0.4950\n",
      "Epoch 2/10\n",
      "32/32 [==============================] - 0s 15ms/step - loss: 0.5169 - accuracy: 0.6540 - val_loss: 0.4815 - val_accuracy: 0.9800\n",
      "Epoch 3/10\n",
      "32/32 [==============================] - 0s 15ms/step - loss: 0.4499 - accuracy: 0.9910 - val_loss: 0.4283 - val_accuracy: 1.0000\n",
      "Epoch 4/10\n",
      "32/32 [==============================] - 0s 15ms/step - loss: 0.4047 - accuracy: 1.0000 - val_loss: 0.3880 - val_accuracy: 1.0000\n",
      "Epoch 5/10\n",
      "32/32 [==============================] - 0s 15ms/step - loss: 0.3682 - accuracy: 1.0000 - val_loss: 0.3548 - val_accuracy: 1.0000\n",
      "Epoch 6/10\n",
      "32/32 [==============================] - 0s 15ms/step - loss: 0.3372 - accuracy: 1.0000 - val_loss: 0.3262 - val_accuracy: 1.0000\n",
      "Epoch 7/10\n",
      "32/32 [==============================] - 0s 15ms/step - loss: 0.3106 - accuracy: 1.0000 - val_loss: 0.3013 - val_accuracy: 1.0000\n",
      "Epoch 8/10\n",
      "32/32 [==============================] - 0s 15ms/step - loss: 0.2871 - accuracy: 1.0000 - val_loss: 0.2792 - val_accuracy: 1.0000\n",
      "Epoch 9/10\n",
      "32/32 [==============================] - 0s 14ms/step - loss: 0.2662 - accuracy: 1.0000 - val_loss: 0.2593 - val_accuracy: 1.0000\n",
      "Epoch 10/10\n",
      "32/32 [==============================] - 0s 15ms/step - loss: 0.2476 - accuracy: 1.0000 - val_loss: 0.2414 - val_accuracy: 1.0000\n"
     ]
    },
    {
     "data": {
      "text/plain": [
       "<matplotlib.legend.Legend at 0x7fee797a5100>"
      ]
     },
     "execution_count": 83,
     "metadata": {},
     "output_type": "execute_result"
    },
    {
     "data": {
      "image/png": "[encoded data removed]",
      "text/plain": [
       "<Figure size 864x288 with 2 Axes>"
      ]
     },
     "metadata": {
      "needs_background": "light"
     },
     "output_type": "display_data"
    }
   ],
   "source": [
    "import matplotlib.pyplot as plt\n",
    "\n",
    "history = model.fit(X_train, y_train, validation_data=(X_val, y_val), epochs=10)\n",
    "\n",
    "# Plot\n",
    "plt.figure(figsize=(12,4))\n",
    "\n",
    "plt.subplot(1,2,(1))\n",
    "plt.plot(history.history['accuracy'],linestyle='-.')\n",
    "plt.plot(history.history['val_accuracy'])\n",
    "plt.title('Model Accuracy')\n",
    "plt.ylabel('Accuracy')\n",
    "plt.xlabel('Epoch')\n",
    "plt.legend(['training', 'validation'], loc='lower right')\n",
    "\n",
    "plt.subplot(1,2,(2))\n",
    "plt.plot(history.history['loss'], linestyle='-.')\n",
    "plt.plot(history.history['val_loss'])\n",
    "plt.title('Model Loss')\n",
    "plt.ylabel('Loss')\n",
    "plt.xlabel('Epoch')\n",
    "plt.legend(['training', 'validation'], loc='upper right')\n"
   ]
  },
  {
   "cell_type": "markdown",
   "metadata": {},
   "source": [
    "\n",
    "### c) Visualize the learned kernel\n",
    "Visualize the learned kernel, you might want to use `model.get_weights()`. Does the learned kernel makes sense?"
   ]
  },
  {
   "cell_type": "code",
   "execution_count": 84,
   "metadata": {},
   "outputs": [
    {
     "data": {
      "text/plain": [
       "[array([[[[ 0.08943892]],\n",
       " \n",
       "         [[ 0.00480139]],\n",
       " \n",
       "         [[-0.10014962]],\n",
       " \n",
       "         [[-0.29490072]],\n",
       " \n",
       "         [[-0.16192253]]],\n",
       " \n",
       " \n",
       "        [[[ 0.04175611]],\n",
       " \n",
       "         [[-0.34723058]],\n",
       " \n",
       "         [[ 0.40298516]],\n",
       " \n",
       "         [[-0.04254961]],\n",
       " \n",
       "         [[-0.25960398]]],\n",
       " \n",
       " \n",
       "        [[[ 0.04537903]],\n",
       " \n",
       "         [[-0.4132267 ]],\n",
       " \n",
       "         [[ 0.46880978]],\n",
       " \n",
       "         [[-0.38742805]],\n",
       " \n",
       "         [[ 0.02077032]]],\n",
       " \n",
       " \n",
       "        [[[-0.40526763]],\n",
       " \n",
       "         [[-0.05532889]],\n",
       " \n",
       "         [[ 0.5617097 ]],\n",
       " \n",
       "         [[-0.21549992]],\n",
       " \n",
       "         [[-0.24561265]]],\n",
       " \n",
       " \n",
       "        [[[-0.29151535]],\n",
       " \n",
       "         [[ 0.20606153]],\n",
       " \n",
       "         [[ 0.18502533]],\n",
       " \n",
       "         [[-0.06441996]],\n",
       " \n",
       "         [[-0.23298745]]]], dtype=float32),\n",
       " array([-0.1972511], dtype=float32),\n",
       " array([[-1.471205 ,  0.6004434]], dtype=float32),\n",
       " array([ 0.38667178, -0.38667175], dtype=float32)]"
      ]
     },
     "execution_count": 84,
     "metadata": {},
     "output_type": "execute_result"
    }
   ],
   "source": [
    "model.get_weights()"
   ]
  }
 ],
 "metadata": {
  "kernelspec": {
   "display_name": "Python 3",
   "language": "python",
   "name": "python3"
  },
  "language_info": {
   "codemirror_mode": {
    "name": "ipython",
    "version": 3
   },
   "file_extension": ".py",
   "mimetype": "text/x-python",
   "name": "python",
   "nbconvert_exporter": "python",
   "pygments_lexer": "ipython3",
   "version": "3.8.8"
  }
 },
 "nbformat": 4,
 "nbformat_minor": 2
}
