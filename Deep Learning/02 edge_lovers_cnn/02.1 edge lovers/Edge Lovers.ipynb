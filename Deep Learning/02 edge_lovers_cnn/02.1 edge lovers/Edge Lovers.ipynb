{
 "cells": [
  {
   "cell_type": "markdown",
   "metadata": {},
   "source": [
    "## Simple CNN for Edgelovers\n",
    "\n",
    "\n",
    "In this notebook you train a very simple CNN with only 1 kernel to discriminate images containing vertical (y=0) from those containing horizontal stripes (y=1). You can use keras for the solution.\n",
    "\n",
    "![](./assets/kernel.png)\n",
    "\n",
    "### a)  Generation of the data\n",
    "Write a function which creates an artficially dataset of greyscale images (50x50 pixel) with 10 vertical or horizontal bars (10 pixel long). Use this function to create a training and validation dataset of 1000 examples each.\n"
   ]
  },
  {
   "cell_type": "markdown",
   "metadata": {},
   "source": [
    "#### Image Generator"
   ]
  },
  {
   "cell_type": "code",
   "execution_count": 11,
   "metadata": {},
   "outputs": [],
   "source": [
    "import random\n",
    "import numpy as np\n",
    "import pandas as pd\n",
    "\n",
    "def generate(n_images = 1, width = 50, height = 50, n_lines = 10, line_length = 10):\n",
    "    images = []\n",
    "    directions = []\n",
    "    for i_idx in range(0,n_images):\n",
    "\n",
    "        # Generate pixels with random background color\n",
    "        bg_color = round(random.uniform(0,1), 2)\n",
    "\n",
    "        # Pixels with shape (columns, rows)\n",
    "        pixels = np.full((width,height), bg_color)\n",
    "\n",
    "        # Generate lines with random direction\n",
    "        lines = []\n",
    "\n",
    "        # Contrast of 50% between line and background \n",
    "        line_color = abs(bg_color - 0.5) \n",
    "\n",
    "        # Random direction\n",
    "        line_direction = random.choice(['vertical', 'horizontal'])\n",
    "\n",
    "        for l_idx in range(0,n_lines):\n",
    "\n",
    "            # Random starting point\n",
    "            px_start = [random.randint(0, width - 1 - line_length), random.randint(0, height - 1 - line_length)]\n",
    "\n",
    "            # xy for every pixel of the line\n",
    "            line_pixels = [px_start]\n",
    "\n",
    "            for px_idx in range(1,line_length):\n",
    "                xy = []\n",
    "                if line_direction == 'vertical':\n",
    "                    xy = [px_start[0]+px_idx,px_start[1]]\n",
    "                if line_direction == 'horizontal':\n",
    "                    xy = [px_start[0],px_start[1]+px_idx]\n",
    "                line_pixels.append(xy)\n",
    "            lines.append(line_pixels)\n",
    "        \n",
    "        # Color the lines on the image\n",
    "        for line in lines:\n",
    "            for xy in line:\n",
    "                x = xy[0]\n",
    "                y = xy[1]\n",
    "                pixels[x][y] = line_color\n",
    "\n",
    "        # Flatten from shape (50,50) to (2500)\n",
    "        pixels = np.array(pixels).reshape((width*height))\n",
    "\n",
    "        # Output images and their line directions\n",
    "        images.append(pixels)\n",
    "        directions.append(line_direction)\n",
    "\n",
    "    return images, directions"
   ]
  },
  {
   "cell_type": "markdown",
   "metadata": {},
   "source": [
    "#### Generate data"
   ]
  },
  {
   "cell_type": "code",
   "execution_count": 12,
   "metadata": {},
   "outputs": [],
   "source": [
    "X_train, y_train = generate(1000, 50, 50, 10, 10)\n",
    "X_val, y_val = generate(1000, 50, 50, 10, 10)"
   ]
  },
  {
   "cell_type": "markdown",
   "metadata": {},
   "source": [
    "\n",
    "### b) Build the simplest possible CNN\n",
    "Make a CNN with one convolution (5x5, haveing two outputs (one for horizontal, one for vertical). Train the CNN on the data from a). You should have no more than 30 trainable parameters in the network. \n",
    "* Plot the learning curves: (epochs vs training loss and validation loss) and epochs vs accuracy.You should get an accuracy of approximatly 1.\n",
    "\n",
    "Hint: Use the max-pooling operation in a clever way.\n",
    "\n"
   ]
  },
  {
   "cell_type": "markdown",
   "metadata": {},
   "source": [
    "\n",
    "### c) Visualize the learned kernel\n",
    "Visualize the learned kernel, you might want to use `model.get_weights()`. Does the learned kernel makes sense?"
   ]
  }
 ],
 "metadata": {
  "kernelspec": {
   "display_name": "Python 3",
   "language": "python",
   "name": "python3"
  },
  "language_info": {
   "codemirror_mode": {
    "name": "ipython",
    "version": 3
   },
   "file_extension": ".py",
   "mimetype": "text/x-python",
   "name": "python",
   "nbconvert_exporter": "python",
   "pygments_lexer": "ipython3",
   "version": "3.8.8"
  }
 },
 "nbformat": 4,
 "nbformat_minor": 2
}
