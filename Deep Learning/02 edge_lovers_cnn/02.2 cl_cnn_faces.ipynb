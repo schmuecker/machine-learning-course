{
  "cells": [
    {
      "cell_type": "markdown",
      "metadata": {
        "id": "view-in-github",
        "colab_type": "text"
      },
      "source": [
        "<a href=\"https://colab.research.google.com/github/schmuecker/machine-learning-course/blob/main/Deep%20Learning/02%20edge_lovers_cnn/02.2%20cl_cnn_faces.ipynb\" target=\"_parent\"><img src=\"https://colab.research.google.com/assets/colab-badge.svg\" alt=\"Open In Colab\"/></a>"
      ]
    },
    {
      "cell_type": "markdown",
      "metadata": {
        "id": "cFSY7G_r0eD_"
      },
      "source": [
        "# Classification of Faces\n",
        "\n",
        "In this excercise, we try to classify images of : \"Miranda_Cosgrove\" \"Chris_Martin\" \"Emma_Stone\" \"Jamie_Foxx\" \"Steve_Jobs\" \"Zac_Efron\" \"Sandra_Oh\" \"Taryn_Manning\". The data is from a random sample of 8 persons of the OXFORD VGG Face dataset, more information here: http://www.robots.ox.ac.uk/~vgg/data/vgg_face/."
      ]
    },
    {
      "cell_type": "markdown",
      "metadata": {
        "id": "18uyOIRw0eED"
      },
      "source": [
        "## Downloading of Data\n",
        "\n",
        "You can download the data using the following code:"
      ]
    },
    {
      "cell_type": "code",
      "execution_count": 141,
      "metadata": {
        "id": "mK6NObpD0eEF"
      },
      "outputs": [],
      "source": [
        "import gzip\n",
        "import numpy as np\n",
        "import matplotlib.pyplot as plt\n",
        "import tensorflow as tf\n",
        "from tensorflow.keras.preprocessing.image import ImageDataGenerator\n",
        "from tensorflow.keras.models import Sequential\n",
        "from tensorflow.keras.layers import Dense, Dropout, Activation, Flatten\n",
        "from tensorflow.keras.layers import Conv2D, MaxPooling2D"
      ]
    },
    {
      "cell_type": "code",
      "execution_count": 142,
      "metadata": {
        "id": "w3SXGDhL0eEH",
        "outputId": "cc70ae8d-8e43-4d04-e108-ea84d9e646ed",
        "colab": {
          "base_uri": "https://localhost:8080/"
        }
      },
      "outputs": [
        {
          "output_type": "stream",
          "name": "stdout",
          "text": [
            "-rw-r--r-- 1 root root 132733792 Jan 12 16:12 8_faces_train_and_valid.hdf5\n"
          ]
        }
      ],
      "source": [
        "# Downloading the data, if it does not exist, this will take some time... (>120MB)\n",
        "import urllib\n",
        "import os\n",
        "if not os.path.isfile('8_faces_train_and_valid.hdf5'):\n",
        "    urllib.request.urlretrieve(\"https://www.dropbox.com/s/dx03vk6dmbtoywn/8_faces_train_and_valid.hdf5?dl=1\",\"8_faces_train_and_valid.hdf5\")\n",
        "!ls -l 8_faces_train_and_valid.hdf5"
      ]
    },
    {
      "cell_type": "code",
      "execution_count": 143,
      "metadata": {
        "id": "l0sdREwh0eEI",
        "outputId": "f28b3360-c1b2-42ea-ed41-c3b314e92bd4",
        "colab": {
          "base_uri": "https://localhost:8080/"
        }
      },
      "outputs": [
        {
          "output_type": "stream",
          "name": "stdout",
          "text": [
            "['X_train_8_faces', 'X_valid_8_faces', 'Y_train_8_faces', 'Y_valid_8_faces']\n",
            "(2000, 48, 48, 3)\n",
            "(2000,)\n",
            "(400, 48, 48, 3)\n",
            "(400,) float64\n"
          ]
        }
      ],
      "source": [
        "import h5py\n",
        "h5f_X = h5py.File('8_faces_train_and_valid.hdf5', 'r')\n",
        "print(list(h5f_X.keys()))\n",
        "X_train = h5f_X['X_train_8_faces']\n",
        "print(X_train.shape)\n",
        "Y_train = h5f_X['Y_train_8_faces']\n",
        "print(Y_train.shape)\n",
        "X_valid = h5f_X['X_valid_8_faces']\n",
        "print(X_valid.shape)\n",
        "Y_valid = h5f_X['Y_valid_8_faces']\n",
        "print(Y_valid.shape, X_valid.dtype)"
      ]
    },
    {
      "cell_type": "code",
      "execution_count": 144,
      "metadata": {
        "id": "OXZwEPgL0eEJ",
        "outputId": "4cc783d8-aa63-46ae-f3a0-29b46a78ed0e",
        "colab": {
          "base_uri": "https://localhost:8080/",
          "height": 301
        }
      },
      "outputs": [
        {
          "output_type": "stream",
          "name": "stdout",
          "text": [
            "250\n"
          ]
        },
        {
          "output_type": "execute_result",
          "data": {
            "text/plain": [
              "<matplotlib.image.AxesImage at 0x7f1e1c3f6150>"
            ]
          },
          "metadata": {},
          "execution_count": 144
        },
        {
          "output_type": "display_data",
          "data": {
            "image/png": "[encoded data removed]",
            "text/plain": [
              "<Figure size 432x288 with 1 Axes>"
            ]
          },
          "metadata": {
            "needs_background": "light"
          }
        }
      ],
      "source": [
        "n = 0 #Miranda Cosgrove\n",
        "n = 1 #Chris Martin (singer)\n",
        "n = 2 #Emma Stone (actress)\n",
        "n = 3 #Jamie Foxx (actor)\n",
        "n = 4 #Steve Jobs (entrepreneur)\n",
        "n = 5 #Zac Efron (actor)\n",
        "n = 6 #Sandra Oh (actress)\n",
        "n = 7 #Taryn Manning (actress)\n",
        "n = 4 \n",
        "idx=np.reshape(np.where(Y_train[0:len(Y_train)]==n),(250))\n",
        "print(len(Y_train[idx]))\n",
        "plt.imshow(np.asarray(X_train[idx][0],dtype=\"uint8\"))"
      ]
    },
    {
      "cell_type": "code",
      "execution_count": 145,
      "metadata": {
        "id": "tleyhGz10eEL",
        "outputId": "a779ef1d-eae0-40bd-c20d-b86d5519ba4d",
        "colab": {
          "base_uri": "https://localhost:8080/"
        }
      },
      "outputs": [
        {
          "output_type": "stream",
          "name": "stdout",
          "text": [
            "['X_test_8_faces', 'Y_test_8_faces']\n",
            "(400, 48, 48, 3)\n",
            "(400, 1)\n"
          ]
        }
      ],
      "source": [
        "#Downloading the data, if it does not exist\n",
        "if not os.path.isfile('8_faces_test.hdf5'):\n",
        "  urllib.request.urlretrieve(\"https://www.dropbox.com/s/ugxrdo0lpc2ixvr/8_faces_test.hdf5?dl=1\",\"8_faces_test.hdf5\")\n",
        "h5f_X = h5py.File('8_faces_test.hdf5', 'r')\n",
        "print(list(h5f_X.keys()))\n",
        "X_test = h5f_X['X_test_8_faces']\n",
        "print(X_test.shape)\n",
        "Y_test = np.reshape(h5f_X['Y_test_8_faces'], (400,1))\n",
        "print(Y_test.shape)"
      ]
    },
    {
      "cell_type": "code",
      "execution_count": 146,
      "metadata": {
        "id": "uXAoXSBy0eEM"
      },
      "outputs": [],
      "source": [
        "np.min(X_train),np.max(X_train),np.min(X_test),np.max(X_test)\n",
        "X_train = np.true_divide(X_train, 255)\n",
        "X_valid = np.true_divide(X_valid, 255)\n",
        "X_test = np.true_divide(X_test, 255)"
      ]
    },
    {
      "cell_type": "markdown",
      "metadata": {
        "id": "CaXiDuzT0eEN"
      },
      "source": [
        "## a) Training an CNN from scratch\n",
        "\n",
        "Train a model (as shown below) from scratch, using the training data for training and the validation data for validation. For all activations in the hidden layer use the 'ReLU', for the last layer use softmax. Use 3x3 convolutions and use padding = same.\n",
        "\n",
        "* Plot the learning curves: (epochs vs training loss and validation loss) and epochs vs accuracy. \n",
        "* Calculate the accuracy on the test set (you should reach an accuracy of about 0.54)\n",
        "* Calculate the confusion matrix\n",
        "* Have a look at missclassified examples\n",
        "\n",
        "Image of the network:\n",
        "https://github.com/ioskn/mldl_htwg/blob/master/uebungen/dl_cnn_faces_net.png"
      ]
    },
    {
      "cell_type": "code",
      "source": [
        "import tensorflow.keras as keras\n",
        "from tensorflow.keras.optimizers import SGD\n",
        "\n",
        "model = keras.Sequential()\n",
        "\n",
        "# Layers\n",
        "model.add(Conv2D(15, kernel_size=3, padding=\"same\", input_shape=(48, 48, 3)))\n",
        "model.add(Activation('relu'))\n",
        "model.add(Conv2D(15, kernel_size=3, padding=\"same\", input_shape=(48, 48, 3)))\n",
        "model.add(Activation('relu'))\n",
        "model.add(MaxPooling2D(pool_size=(2,2)))\n",
        "model.add(Conv2D(30, kernel_size=3, padding=\"same\", input_shape=(48, 48, 3)))\n",
        "model.add(Activation('relu'))\n",
        "model.add(Conv2D(30, kernel_size=3, padding=\"same\", input_shape=(48, 48, 3)))\n",
        "model.add(Activation('relu'))\n",
        "model.add(MaxPooling2D(pool_size=(4,4)))\n",
        "model.add(Flatten())\n",
        "model.add(Dense(300, activation=\"relu\"))\n",
        "model.add(Activation('relu'))\n",
        "model.add(Dropout(0.5))\n",
        "model.add(Dense(8, activation=\"softmax\"))\n",
        "\n",
        "# Model\n",
        "model.compile(optimizer=SGD(), loss=\"categorical_crossentropy\", metrics=['accuracy'])\n",
        "\n",
        "model.summary()"
      ],
      "metadata": {
        "id": "RX6IGsiKFniG",
        "outputId": "ed82619f-e2dd-427b-fb0c-c2055d354413",
        "colab": {
          "base_uri": "https://localhost:8080/"
        }
      },
      "execution_count": 155,
      "outputs": [
        {
          "output_type": "stream",
          "name": "stdout",
          "text": [
            "Model: \"sequential_39\"\n",
            "_________________________________________________________________\n",
            " Layer (type)                Output Shape              Param #   \n",
            "=================================================================\n",
            " conv2d_96 (Conv2D)          (None, 48, 48, 15)        420       \n",
            "                                                                 \n",
            " activation_85 (Activation)  (None, 48, 48, 15)        0         \n",
            "                                                                 \n",
            " conv2d_97 (Conv2D)          (None, 48, 48, 15)        2040      \n",
            "                                                                 \n",
            " activation_86 (Activation)  (None, 48, 48, 15)        0         \n",
            "                                                                 \n",
            " max_pooling2d_50 (MaxPoolin  (None, 24, 24, 15)       0         \n",
            " g2D)                                                            \n",
            "                                                                 \n",
            " conv2d_98 (Conv2D)          (None, 24, 24, 30)        4080      \n",
            "                                                                 \n",
            " activation_87 (Activation)  (None, 24, 24, 30)        0         \n",
            "                                                                 \n",
            " conv2d_99 (Conv2D)          (None, 24, 24, 30)        8130      \n",
            "                                                                 \n",
            " activation_88 (Activation)  (None, 24, 24, 30)        0         \n",
            "                                                                 \n",
            " max_pooling2d_51 (MaxPoolin  (None, 6, 6, 30)         0         \n",
            " g2D)                                                            \n",
            "                                                                 \n",
            " flatten_38 (Flatten)        (None, 1080)              0         \n",
            "                                                                 \n",
            " dense_45 (Dense)            (None, 300)               324300    \n",
            "                                                                 \n",
            " activation_89 (Activation)  (None, 300)               0         \n",
            "                                                                 \n",
            " dropout_9 (Dropout)         (None, 300)               0         \n",
            "                                                                 \n",
            " dense_46 (Dense)            (None, 8)                 2408      \n",
            "                                                                 \n",
            "=================================================================\n",
            "Total params: 341,378\n",
            "Trainable params: 341,378\n",
            "Non-trainable params: 0\n",
            "_________________________________________________________________\n"
          ]
        }
      ]
    },
    {
      "cell_type": "code",
      "source": [
        "from sklearn.preprocessing import OneHotEncoder\n",
        "\n",
        "def onehot(input):\n",
        "  onehot_encoder = OneHotEncoder(sparse=False)\n",
        "  integer_encoded = np.array(input).reshape(len(input), 1)\n",
        "  return onehot_encoder.fit_transform(integer_encoded)  \n",
        "\n",
        "Y_train_oh = onehot(Y_train)\n",
        "Y_valid_oh = onehot(Y_valid)\n",
        "Y_test_oh = onehot(Y_test)"
      ],
      "metadata": {
        "id": "oRbN9oKVOe7I"
      },
      "execution_count": 148,
      "outputs": []
    },
    {
      "cell_type": "code",
      "source": [
        "import matplotlib.pyplot as plt\n",
        "\n",
        "history = model.fit(X_train, Y_train_oh, validation_data=(X_valid, Y_valid_oh), epochs=20)\n",
        "\n",
        "# Plot\n",
        "plt.figure(figsize=(12,4))\n",
        "\n",
        "plt.subplot(1,2,(1))\n",
        "plt.plot(history.history['accuracy'],linestyle='-.')\n",
        "plt.plot(history.history['val_accuracy'])\n",
        "plt.title('Model Accuracy')\n",
        "plt.ylabel('Accuracy')\n",
        "plt.xlabel('Epoch')\n",
        "plt.legend(['training', 'validation'], loc='lower right')\n",
        "\n",
        "plt.subplot(1,2,(2))\n",
        "plt.plot(history.history['loss'], linestyle='-.')\n",
        "plt.plot(history.history['val_loss'])\n",
        "plt.title('Model Loss')\n",
        "plt.ylabel('Loss')\n",
        "plt.xlabel('Epoch')\n",
        "plt.legend(['training', 'validation'], loc='upper right')"
      ],
      "metadata": {
        "id": "EeLNv5jIGm73",
        "outputId": "e1da1d4c-7f06-48de-a24b-88ad3f73cc3b",
        "colab": {
          "base_uri": "https://localhost:8080/",
          "height": 992
        }
      },
      "execution_count": 183,
      "outputs": [
        {
          "output_type": "stream",
          "name": "stdout",
          "text": [
            "Epoch 1/20\n",
            "63/63 [==============================] - 11s 178ms/step - loss: 1.9521 - accuracy: 0.2545 - val_loss: 1.9248 - val_accuracy: 0.2625\n",
            "Epoch 2/20\n",
            "63/63 [==============================] - 11s 175ms/step - loss: 1.9114 - accuracy: 0.2700 - val_loss: 1.8903 - val_accuracy: 0.2800\n",
            "Epoch 3/20\n",
            "63/63 [==============================] - 11s 175ms/step - loss: 1.8822 - accuracy: 0.2920 - val_loss: 1.8658 - val_accuracy: 0.3100\n",
            "Epoch 4/20\n",
            "63/63 [==============================] - 11s 174ms/step - loss: 1.8339 - accuracy: 0.3235 - val_loss: 1.8230 - val_accuracy: 0.3275\n",
            "Epoch 5/20\n",
            "63/63 [==============================] - 11s 171ms/step - loss: 1.8095 - accuracy: 0.3205 - val_loss: 1.7851 - val_accuracy: 0.3375\n",
            "Epoch 6/20\n",
            "63/63 [==============================] - 11s 174ms/step - loss: 1.7621 - accuracy: 0.3540 - val_loss: 1.7641 - val_accuracy: 0.3300\n",
            "Epoch 7/20\n",
            "63/63 [==============================] - 11s 172ms/step - loss: 1.7369 - accuracy: 0.3535 - val_loss: 1.7267 - val_accuracy: 0.3975\n",
            "Epoch 8/20\n",
            "63/63 [==============================] - 11s 172ms/step - loss: 1.7042 - accuracy: 0.3575 - val_loss: 1.7017 - val_accuracy: 0.3625\n",
            "Epoch 9/20\n",
            "63/63 [==============================] - 11s 170ms/step - loss: 1.6467 - accuracy: 0.3960 - val_loss: 1.6828 - val_accuracy: 0.3850\n",
            "Epoch 10/20\n",
            "63/63 [==============================] - 11s 173ms/step - loss: 1.6152 - accuracy: 0.4045 - val_loss: 1.6193 - val_accuracy: 0.4025\n",
            "Epoch 11/20\n",
            "63/63 [==============================] - 11s 174ms/step - loss: 1.5822 - accuracy: 0.4125 - val_loss: 1.7312 - val_accuracy: 0.3675\n",
            "Epoch 12/20\n",
            "63/63 [==============================] - 11s 175ms/step - loss: 1.5623 - accuracy: 0.4365 - val_loss: 1.5713 - val_accuracy: 0.4475\n",
            "Epoch 13/20\n",
            "63/63 [==============================] - 11s 177ms/step - loss: 1.5254 - accuracy: 0.4425 - val_loss: 1.5670 - val_accuracy: 0.4675\n",
            "Epoch 14/20\n",
            "63/63 [==============================] - 11s 177ms/step - loss: 1.4755 - accuracy: 0.4555 - val_loss: 1.5869 - val_accuracy: 0.4075\n",
            "Epoch 15/20\n",
            "63/63 [==============================] - 11s 174ms/step - loss: 1.4637 - accuracy: 0.4630 - val_loss: 1.5086 - val_accuracy: 0.4350\n",
            "Epoch 16/20\n",
            "63/63 [==============================] - 11s 176ms/step - loss: 1.4030 - accuracy: 0.4950 - val_loss: 1.5258 - val_accuracy: 0.4325\n",
            "Epoch 17/20\n",
            "63/63 [==============================] - 11s 179ms/step - loss: 1.3909 - accuracy: 0.4935 - val_loss: 1.4673 - val_accuracy: 0.5025\n",
            "Epoch 18/20\n",
            "63/63 [==============================] - 11s 179ms/step - loss: 1.3488 - accuracy: 0.5070 - val_loss: 1.5625 - val_accuracy: 0.4325\n",
            "Epoch 19/20\n",
            "63/63 [==============================] - 11s 178ms/step - loss: 1.3284 - accuracy: 0.5400 - val_loss: 1.3970 - val_accuracy: 0.5400\n",
            "Epoch 20/20\n",
            "63/63 [==============================] - 11s 177ms/step - loss: 1.2497 - accuracy: 0.5415 - val_loss: 1.4674 - val_accuracy: 0.4725\n"
          ]
        },
        {
          "output_type": "execute_result",
          "data": {
            "text/plain": [
              "<matplotlib.legend.Legend at 0x7f1e25b68610>"
            ]
          },
          "metadata": {},
          "execution_count": 183
        },
        {
          "output_type": "display_data",
          "data": {
            "image/png": "[encoded data removed]",
            "text/plain": [
              "<Figure size 864x288 with 2 Axes>"
            ]
          },
          "metadata": {
            "needs_background": "light"
          }
        }
      ]
    },
    {
      "cell_type": "code",
      "source": [
        "model.evaluate(X_test, Y_test_oh)"
      ],
      "metadata": {
        "id": "8FaAST1tQmbi",
        "outputId": "1e1b7f75-2eac-4969-8a82-349a392b1025",
        "colab": {
          "base_uri": "https://localhost:8080/"
        }
      },
      "execution_count": 184,
      "outputs": [
        {
          "output_type": "stream",
          "name": "stdout",
          "text": [
            "13/13 [==============================] - 1s 57ms/step - loss: 1.4169 - accuracy: 0.5250\n"
          ]
        },
        {
          "output_type": "execute_result",
          "data": {
            "text/plain": [
              "[1.4168623685836792, 0.5249999761581421]"
            ]
          },
          "metadata": {},
          "execution_count": 184
        }
      ]
    },
    {
      "cell_type": "code",
      "source": [
        "from sklearn import metrics\n",
        "from sklearn.preprocessing import LabelBinarizer\n",
        "\n",
        "Y_pred = model.predict(X_test)\n",
        "Y_pred_labels = np.argmax(Y_pred, axis=1)\n",
        "\n",
        "c = metrics.confusion_matrix(Y_test, Y_pred_labels)\n",
        "disp = metrics.ConfusionMatrixDisplay(c)\n",
        "disp.plot()\n",
        "plt.title('Confusion matrix')\n",
        "plt.show()"
      ],
      "metadata": {
        "id": "YCM6NH8DTGtw",
        "outputId": "6d8f3c59-09e8-4f1f-d513-56f201d3ad75",
        "colab": {
          "base_uri": "https://localhost:8080/",
          "height": 295
        }
      },
      "execution_count": 185,
      "outputs": [
        {
          "output_type": "display_data",
          "data": {
            "image/png": "[encoded data removed]",
            "text/plain": [
              "<Figure size 432x288 with 2 Axes>"
            ]
          },
          "metadata": {
            "needs_background": "light"
          }
        }
      ]
    },
    {
      "cell_type": "markdown",
      "metadata": {
        "id": "_5Fm5wHF0eEO"
      },
      "source": [
        "## b) Training using transfer learning\n",
        "In transfer learning you use an existing trained model with given weights trained on a different task. You then add a few layers yourself and only train them. The model you add should look like:\n",
        "\n",
        "```\n",
        "my_dense1 (Dense)            (None, 512)               262656    \n",
        "_________________________________________________________________\n",
        "my_dense2 (Dense)            (None, 512)               262656    \n",
        "_________________________________________________________________\n",
        "my_dense3 (Dense)            (None, 100)               51300     \n",
        "_________________________________________________________________\n",
        "my_dense4 (Dense)            (None, 8)                 808       \n",
        "```\n",
        "\n",
        "Use the following code as a starting point:"
      ]
    },
    {
      "cell_type": "code",
      "execution_count": 151,
      "metadata": {
        "id": "JP3FMm7W0eEP"
      },
      "outputs": [],
      "source": [
        "from tensorflow.keras.applications import VGG16\n",
        "img_height = img_width = 48\n",
        "base_model = VGG16(weights='imagenet', include_top=False,input_shape = (img_width, img_height, 3))"
      ]
    },
    {
      "cell_type": "code",
      "execution_count": 187,
      "metadata": {
        "id": "bzj1F3vX0eEQ",
        "outputId": "70f3d494-677f-4695-c3ef-b90b4139dec6",
        "colab": {
          "base_uri": "https://localhost:8080/"
        }
      },
      "outputs": [
        {
          "output_type": "stream",
          "name": "stdout",
          "text": [
            "Model: \"model_3\"\n",
            "_________________________________________________________________\n",
            " Layer (type)                Output Shape              Param #   \n",
            "=================================================================\n",
            " input_2 (InputLayer)        [(None, 48, 48, 3)]       0         \n",
            "                                                                 \n",
            " block1_conv1 (Conv2D)       (None, 48, 48, 64)        1792      \n",
            "                                                                 \n",
            " block1_conv2 (Conv2D)       (None, 48, 48, 64)        36928     \n",
            "                                                                 \n",
            " block1_pool (MaxPooling2D)  (None, 24, 24, 64)        0         \n",
            "                                                                 \n",
            " block2_conv1 (Conv2D)       (None, 24, 24, 128)       73856     \n",
            "                                                                 \n",
            " block2_conv2 (Conv2D)       (None, 24, 24, 128)       147584    \n",
            "                                                                 \n",
            " block2_pool (MaxPooling2D)  (None, 12, 12, 128)       0         \n",
            "                                                                 \n",
            " block3_conv1 (Conv2D)       (None, 12, 12, 256)       295168    \n",
            "                                                                 \n",
            " block3_conv2 (Conv2D)       (None, 12, 12, 256)       590080    \n",
            "                                                                 \n",
            " block3_conv3 (Conv2D)       (None, 12, 12, 256)       590080    \n",
            "                                                                 \n",
            " block3_pool (MaxPooling2D)  (None, 6, 6, 256)         0         \n",
            "                                                                 \n",
            " block4_conv1 (Conv2D)       (None, 6, 6, 512)         1180160   \n",
            "                                                                 \n",
            " block4_conv2 (Conv2D)       (None, 6, 6, 512)         2359808   \n",
            "                                                                 \n",
            " block4_conv3 (Conv2D)       (None, 6, 6, 512)         2359808   \n",
            "                                                                 \n",
            " block4_pool (MaxPooling2D)  (None, 3, 3, 512)         0         \n",
            "                                                                 \n",
            " block5_conv1 (Conv2D)       (None, 3, 3, 512)         2359808   \n",
            "                                                                 \n",
            " block5_conv2 (Conv2D)       (None, 3, 3, 512)         2359808   \n",
            "                                                                 \n",
            " block5_conv3 (Conv2D)       (None, 3, 3, 512)         2359808   \n",
            "                                                                 \n",
            " block5_pool (MaxPooling2D)  (None, 1, 1, 512)         0         \n",
            "                                                                 \n",
            " flatten_40 (Flatten)        (None, 512)               0         \n",
            "                                                                 \n",
            " my_dense1 (Dense)           (None, 512)               262656    \n",
            "                                                                 \n",
            " my_dense2 (Dense)           (None, 512)               262656    \n",
            "                                                                 \n",
            " my_dense3 (Dense)           (None, 100)               51300     \n",
            "                                                                 \n",
            " my_dense4 (Dense)           (None, 8)                 808       \n",
            "                                                                 \n",
            "=================================================================\n",
            "Total params: 15,292,108\n",
            "Trainable params: 577,420\n",
            "Non-trainable params: 14,714,688\n",
            "_________________________________________________________________\n"
          ]
        }
      ],
      "source": [
        "fc1 = base_model.output\n",
        "fc1 = Flatten()(fc1)\n",
        "#...\n",
        "\n",
        "fc1 = Dense(512,activation='relu', name='my_dense1')(fc1)\n",
        "fc1 = Dense(512,activation='relu', name='my_dense2')(fc1)\n",
        "fc1 = Dense(100,activation='relu', name='my_dense3')(fc1)\n",
        "\n",
        "#...\n",
        "fc1 = Dense(8,activation='softmax', name='my_dense4')(fc1)\n",
        "model_trans = tf.compat.v1.keras.Model(base_model.input, fc1) #Current hack for TF 2.0 and keras\n",
        "model_trans.summary()"
      ]
    },
    {
      "cell_type": "code",
      "execution_count": 188,
      "metadata": {
        "id": "F2vRVqhi0eER",
        "outputId": "0bf8b6f3-dc8d-453c-d793-148752f81bba",
        "colab": {
          "base_uri": "https://localhost:8080/"
        }
      },
      "outputs": [
        {
          "output_type": "stream",
          "name": "stdout",
          "text": [
            "Model: \"vgg16\"\n",
            "_________________________________________________________________\n",
            " Layer (type)                Output Shape              Param #   \n",
            "=================================================================\n",
            " input_2 (InputLayer)        [(None, 48, 48, 3)]       0         \n",
            "                                                                 \n",
            " block1_conv1 (Conv2D)       (None, 48, 48, 64)        1792      \n",
            "                                                                 \n",
            " block1_conv2 (Conv2D)       (None, 48, 48, 64)        36928     \n",
            "                                                                 \n",
            " block1_pool (MaxPooling2D)  (None, 24, 24, 64)        0         \n",
            "                                                                 \n",
            " block2_conv1 (Conv2D)       (None, 24, 24, 128)       73856     \n",
            "                                                                 \n",
            " block2_conv2 (Conv2D)       (None, 24, 24, 128)       147584    \n",
            "                                                                 \n",
            " block2_pool (MaxPooling2D)  (None, 12, 12, 128)       0         \n",
            "                                                                 \n",
            " block3_conv1 (Conv2D)       (None, 12, 12, 256)       295168    \n",
            "                                                                 \n",
            " block3_conv2 (Conv2D)       (None, 12, 12, 256)       590080    \n",
            "                                                                 \n",
            " block3_conv3 (Conv2D)       (None, 12, 12, 256)       590080    \n",
            "                                                                 \n",
            " block3_pool (MaxPooling2D)  (None, 6, 6, 256)         0         \n",
            "                                                                 \n",
            " block4_conv1 (Conv2D)       (None, 6, 6, 512)         1180160   \n",
            "                                                                 \n",
            " block4_conv2 (Conv2D)       (None, 6, 6, 512)         2359808   \n",
            "                                                                 \n",
            " block4_conv3 (Conv2D)       (None, 6, 6, 512)         2359808   \n",
            "                                                                 \n",
            " block4_pool (MaxPooling2D)  (None, 3, 3, 512)         0         \n",
            "                                                                 \n",
            " block5_conv1 (Conv2D)       (None, 3, 3, 512)         2359808   \n",
            "                                                                 \n",
            " block5_conv2 (Conv2D)       (None, 3, 3, 512)         2359808   \n",
            "                                                                 \n",
            " block5_conv3 (Conv2D)       (None, 3, 3, 512)         2359808   \n",
            "                                                                 \n",
            " block5_pool (MaxPooling2D)  (None, 1, 1, 512)         0         \n",
            "                                                                 \n",
            "=================================================================\n",
            "Total params: 14,714,688\n",
            "Trainable params: 0\n",
            "Non-trainable params: 14,714,688\n",
            "_________________________________________________________________\n",
            "my_dense1\n",
            "my_dense2\n",
            "my_dense3\n",
            "my_dense4\n"
          ]
        }
      ],
      "source": [
        "base_model.summary()\n",
        "\n",
        "for layer in model_trans.layers:\n",
        "  name = layer.name\n",
        "  if name.startswith('my'):\n",
        "    layer.trainable = True\n",
        "    print(name)\n",
        "  else:\n",
        "    layer.trainable = False"
      ]
    },
    {
      "cell_type": "markdown",
      "metadata": {
        "id": "V__DnOTl0eES"
      },
      "source": [
        "Do the same analysis as in a) above. You should get an accuracy of approx 0.61"
      ]
    },
    {
      "cell_type": "code",
      "source": [
        "import matplotlib.pyplot as plt\n",
        "\n",
        "# Compile transformed model\n",
        "model_trans.compile(optimizer=SGD(), loss=\"categorical_crossentropy\", metrics=['accuracy'])\n",
        "\n",
        "# Fit transformed model\n",
        "history = model_trans.fit(X_train, Y_train_oh, validation_data=(X_valid, Y_valid_oh), epochs=20)\n",
        "\n",
        "# Plot\n",
        "plt.figure(figsize=(12,4))\n",
        "\n",
        "plt.subplot(1,2,(1))\n",
        "plt.plot(history.history['accuracy'],linestyle='-.')\n",
        "plt.plot(history.history['val_accuracy'])\n",
        "plt.title('Model Accuracy')\n",
        "plt.ylabel('Accuracy')\n",
        "plt.xlabel('Epoch')\n",
        "plt.legend(['training', 'validation'], loc='lower right')\n",
        "\n",
        "plt.subplot(1,2,(2))\n",
        "plt.plot(history.history['loss'], linestyle='-.')\n",
        "plt.plot(history.history['val_loss'])\n",
        "plt.title('Model Loss')\n",
        "plt.ylabel('Loss')\n",
        "plt.xlabel('Epoch')\n",
        "plt.legend(['training', 'validation'], loc='upper right')"
      ],
      "metadata": {
        "id": "UOWemjspaEMJ",
        "outputId": "7140b7b1-2084-45ab-ba94-130f5435a6c9",
        "colab": {
          "base_uri": "https://localhost:8080/",
          "height": 992
        }
      },
      "execution_count": 190,
      "outputs": [
        {
          "output_type": "stream",
          "name": "stdout",
          "text": [
            "Epoch 1/20\n",
            "63/63 [==============================] - 54s 852ms/step - loss: 2.0015 - accuracy: 0.2340 - val_loss: 1.9064 - val_accuracy: 0.2825\n",
            "Epoch 2/20\n",
            "63/63 [==============================] - 53s 837ms/step - loss: 1.8322 - accuracy: 0.3360 - val_loss: 1.7568 - val_accuracy: 0.3650\n",
            "Epoch 3/20\n",
            "63/63 [==============================] - 55s 879ms/step - loss: 1.7128 - accuracy: 0.3900 - val_loss: 1.6678 - val_accuracy: 0.4050\n",
            "Epoch 4/20\n",
            "63/63 [==============================] - 54s 860ms/step - loss: 1.6251 - accuracy: 0.4275 - val_loss: 1.6231 - val_accuracy: 0.3800\n",
            "Epoch 5/20\n",
            "63/63 [==============================] - 52s 822ms/step - loss: 1.5574 - accuracy: 0.4580 - val_loss: 1.5531 - val_accuracy: 0.4850\n",
            "Epoch 6/20\n",
            "63/63 [==============================] - 50s 801ms/step - loss: 1.4927 - accuracy: 0.4720 - val_loss: 1.5226 - val_accuracy: 0.4525\n",
            "Epoch 7/20\n",
            "63/63 [==============================] - 49s 777ms/step - loss: 1.4455 - accuracy: 0.4965 - val_loss: 1.5305 - val_accuracy: 0.4575\n",
            "Epoch 8/20\n",
            "63/63 [==============================] - 49s 784ms/step - loss: 1.3966 - accuracy: 0.5090 - val_loss: 1.5801 - val_accuracy: 0.4125\n",
            "Epoch 9/20\n",
            "63/63 [==============================] - 53s 844ms/step - loss: 1.3599 - accuracy: 0.5235 - val_loss: 1.4401 - val_accuracy: 0.4750\n",
            "Epoch 10/20\n",
            "63/63 [==============================] - 52s 828ms/step - loss: 1.3110 - accuracy: 0.5450 - val_loss: 1.4547 - val_accuracy: 0.4800\n",
            "Epoch 11/20\n",
            "63/63 [==============================] - 55s 877ms/step - loss: 1.2902 - accuracy: 0.5430 - val_loss: 1.4365 - val_accuracy: 0.4975\n",
            "Epoch 12/20\n",
            "63/63 [==============================] - 55s 878ms/step - loss: 1.2527 - accuracy: 0.5605 - val_loss: 1.5042 - val_accuracy: 0.4525\n",
            "Epoch 13/20\n",
            "63/63 [==============================] - 56s 890ms/step - loss: 1.2235 - accuracy: 0.5790 - val_loss: 1.4535 - val_accuracy: 0.4800\n",
            "Epoch 14/20\n",
            "63/63 [==============================] - 56s 888ms/step - loss: 1.2029 - accuracy: 0.5710 - val_loss: 1.6027 - val_accuracy: 0.3975\n",
            "Epoch 15/20\n",
            "63/63 [==============================] - 55s 880ms/step - loss: 1.1678 - accuracy: 0.5870 - val_loss: 1.5160 - val_accuracy: 0.4675\n",
            "Epoch 16/20\n",
            "63/63 [==============================] - 56s 899ms/step - loss: 1.1369 - accuracy: 0.6080 - val_loss: 1.4339 - val_accuracy: 0.4825\n",
            "Epoch 17/20\n",
            "63/63 [==============================] - 55s 880ms/step - loss: 1.1180 - accuracy: 0.6055 - val_loss: 1.3725 - val_accuracy: 0.5175\n",
            "Epoch 18/20\n",
            "63/63 [==============================] - 55s 871ms/step - loss: 1.1197 - accuracy: 0.6075 - val_loss: 1.3786 - val_accuracy: 0.5350\n",
            "Epoch 19/20\n",
            "63/63 [==============================] - 53s 840ms/step - loss: 1.0684 - accuracy: 0.6140 - val_loss: 1.5211 - val_accuracy: 0.4375\n",
            "Epoch 20/20\n",
            "63/63 [==============================] - 51s 816ms/step - loss: 1.0419 - accuracy: 0.6345 - val_loss: 1.5638 - val_accuracy: 0.4275\n"
          ]
        },
        {
          "output_type": "execute_result",
          "data": {
            "text/plain": [
              "<matplotlib.legend.Legend at 0x7f1e255de590>"
            ]
          },
          "metadata": {},
          "execution_count": 190
        },
        {
          "output_type": "display_data",
          "data": {
            "image/png": "[encoded data removed]",
            "text/plain": [
              "<Figure size 864x288 with 2 Axes>"
            ]
          },
          "metadata": {
            "needs_background": "light"
          }
        }
      ]
    },
    {
      "cell_type": "code",
      "source": [
        "model_trans.evaluate(X_test, Y_test_oh)"
      ],
      "metadata": {
        "id": "iR-24Ktzab_M"
      },
      "execution_count": null,
      "outputs": []
    },
    {
      "cell_type": "code",
      "source": [
        "Y_pred = model_trans.predict(X_test)\n",
        "Y_pred_labels = np.argmax(Y_pred, axis=1)\n",
        "\n",
        "c = metrics.confusion_matrix(Y_test, Y_pred_labels)\n",
        "disp = metrics.ConfusionMatrixDisplay(c)\n",
        "disp.plot()\n",
        "plt.title('Confusion matrix')\n",
        "plt.show()"
      ],
      "metadata": {
        "id": "_5wN4dodaehw"
      },
      "execution_count": null,
      "outputs": []
    },
    {
      "cell_type": "markdown",
      "metadata": {
        "id": "3gSL0f-d0eES"
      },
      "source": [
        "## c) Try to get better.\n",
        "\n",
        "Ideas: use dropout and other tricks to prevent overfitting. Try to learn some convulutional layers as well."
      ]
    },
    {
      "cell_type": "code",
      "execution_count": 153,
      "metadata": {
        "id": "hv2mX_Hv0eET"
      },
      "outputs": [],
      "source": [
        ""
      ]
    }
  ],
  "metadata": {
    "kernelspec": {
      "display_name": "Python 3",
      "language": "python",
      "name": "python3"
    },
    "language_info": {
      "codemirror_mode": {
        "name": "ipython",
        "version": 3
      },
      "file_extension": ".py",
      "mimetype": "text/x-python",
      "name": "python",
      "nbconvert_exporter": "python",
      "pygments_lexer": "ipython3",
      "version": "3.6.8"
    },
    "colab": {
      "name": "cl_cnn_faces_nolsg.ipynb",
      "provenance": [],
      "include_colab_link": true
    }
  },
  "nbformat": 4,
  "nbformat_minor": 0
}