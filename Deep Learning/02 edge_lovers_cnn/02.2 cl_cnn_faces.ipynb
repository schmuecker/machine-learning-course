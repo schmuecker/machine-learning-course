{
  "cells": [
    {
      "cell_type": "markdown",
      "metadata": {
        "id": "view-in-github",
        "colab_type": "text"
      },
      "source": [
        "<a href=\"https://colab.research.google.com/github/schmuecker/machine-learning-course/blob/main/Deep%20Learning/02%20edge_lovers_cnn/02.2%20cl_cnn_faces.ipynb\" target=\"_parent\"><img src=\"https://colab.research.google.com/assets/colab-badge.svg\" alt=\"Open In Colab\"/></a>"
      ]
    },
    {
      "cell_type": "markdown",
      "metadata": {
        "id": "cFSY7G_r0eD_"
      },
      "source": [
        "# Classification of Faces\n",
        "\n",
        "In this excercise, we try to classify images of : \"Miranda_Cosgrove\" \"Chris_Martin\" \"Emma_Stone\" \"Jamie_Foxx\" \"Steve_Jobs\" \"Zac_Efron\" \"Sandra_Oh\" \"Taryn_Manning\". The data is from a random sample of 8 persons of the OXFORD VGG Face dataset, more information here: http://www.robots.ox.ac.uk/~vgg/data/vgg_face/."
      ]
    },
    {
      "cell_type": "markdown",
      "metadata": {
        "id": "18uyOIRw0eED"
      },
      "source": [
        "## Downloading of Data\n",
        "\n",
        "You can download the data using the following code:"
      ]
    },
    {
      "cell_type": "code",
      "execution_count": null,
      "metadata": {
        "id": "mK6NObpD0eEF"
      },
      "outputs": [],
      "source": [
        "import gzip\n",
        "import numpy as np\n",
        "import matplotlib.pyplot as plt\n",
        "import tensorflow as tf\n",
        "from tensorflow.keras.preprocessing.image import ImageDataGenerator\n",
        "from tensorflow.keras.models import Sequential\n",
        "from tensorflow.keras.layers import Dense, Dropout, Activation, Flatten\n",
        "from tensorflow.keras.layers import Conv2D, MaxPooling2D"
      ]
    },
    {
      "cell_type": "code",
      "execution_count": null,
      "metadata": {
        "id": "w3SXGDhL0eEH",
        "outputId": "18f81225-c782-4640-976f-12e934feaf52"
      },
      "outputs": [
        {
          "name": "stdout",
          "output_type": "stream",
          "text": [
            "-rw-r--r-- 1 root root 132733792 Dec 13 14:20 8_faces_train_and_valid.hdf5\r\n"
          ]
        }
      ],
      "source": [
        "# Downloading the data, if it does not exist, this will take some time... (>120MB)\n",
        "import urllib\n",
        "import os\n",
        "if not os.path.isfile('8_faces_train_and_valid.hdf5'):\n",
        "    urllib.request.urlretrieve(\"https://www.dropbox.com/s/dx03vk6dmbtoywn/8_faces_train_and_valid.hdf5?dl=1\",\"8_faces_train_and_valid.hdf5\")\n",
        "!ls -l 8_faces_train_and_valid.hdf5"
      ]
    },
    {
      "cell_type": "code",
      "execution_count": null,
      "metadata": {
        "id": "l0sdREwh0eEI",
        "outputId": "61cf1b14-2076-462b-af13-98f21d79c974"
      },
      "outputs": [
        {
          "name": "stdout",
          "output_type": "stream",
          "text": [
            "['X_train_8_faces', 'X_valid_8_faces', 'Y_train_8_faces', 'Y_valid_8_faces']\n",
            "(2000, 48, 48, 3)\n",
            "(2000,)\n",
            "(400, 48, 48, 3)\n",
            "(400,) float64\n"
          ]
        },
        {
          "name": "stderr",
          "output_type": "stream",
          "text": [
            "/usr/local/lib/python3.6/dist-packages/ipykernel_launcher.py:4: H5pyDeprecationWarning: dataset.value has been deprecated. Use dataset[()] instead.\n",
            "  after removing the cwd from sys.path.\n",
            "/usr/local/lib/python3.6/dist-packages/ipykernel_launcher.py:6: H5pyDeprecationWarning: dataset.value has been deprecated. Use dataset[()] instead.\n",
            "  \n",
            "/usr/local/lib/python3.6/dist-packages/ipykernel_launcher.py:8: H5pyDeprecationWarning: dataset.value has been deprecated. Use dataset[()] instead.\n",
            "  \n",
            "/usr/local/lib/python3.6/dist-packages/ipykernel_launcher.py:10: H5pyDeprecationWarning: dataset.value has been deprecated. Use dataset[()] instead.\n",
            "  # Remove the CWD from sys.path while we load stuff.\n"
          ]
        }
      ],
      "source": [
        "import h5py\n",
        "h5f_X = h5py.File('8_faces_train_and_valid.hdf5', 'r')\n",
        "print(list(h5f_X.keys()))\n",
        "X_train = h5f_X['X_train_8_faces'].value\n",
        "print(X_train.shape)\n",
        "Y_train = h5f_X['Y_train_8_faces'].value\n",
        "print(Y_train.shape)\n",
        "X_valid = h5f_X['X_valid_8_faces'].value\n",
        "print(X_valid.shape)\n",
        "Y_valid = h5f_X['Y_valid_8_faces'].value\n",
        "print(Y_valid.shape, X_valid.dtype)"
      ]
    },
    {
      "cell_type": "code",
      "execution_count": null,
      "metadata": {
        "id": "OXZwEPgL0eEJ",
        "outputId": "0311921c-873a-429e-c706-7a319896c76c"
      },
      "outputs": [
        {
          "name": "stdout",
          "output_type": "stream",
          "text": [
            "250\n"
          ]
        },
        {
          "data": {
            "text/plain": [
              "<matplotlib.image.AxesImage at 0x7fe7fddab160>"
            ]
          },
          "execution_count": 32,
          "metadata": {},
          "output_type": "execute_result"
        },
        {
          "data": {
            "image/png": "[encoded data removed]",
            "text/plain": [
              "<Figure size 432x288 with 1 Axes>"
            ]
          },
          "metadata": {
            "needs_background": "light"
          },
          "output_type": "display_data"
        }
      ],
      "source": [
        "n = 0 #Miranda Cosgrove\n",
        "n = 1 #Chris Martin (singer)\n",
        "n = 2 #Emma Stone (actress)\n",
        "n = 3 #Jamie Foxx (actor)\n",
        "n = 4 #Steve Jobs (entrepreneur)\n",
        "n = 5 #Zac Efron (actor)\n",
        "n = 6 #Sandra Oh (actress)\n",
        "n = 7 #Taryn Manning (actress)\n",
        "n = 4 \n",
        "idx=np.reshape(np.where(Y_train[0:len(Y_train)]==n),(250))\n",
        "print(len(Y_train[idx]))\n",
        "plt.imshow(np.asarray(X_train[idx][0],dtype=\"uint8\"))"
      ]
    },
    {
      "cell_type": "code",
      "execution_count": null,
      "metadata": {
        "id": "tleyhGz10eEL",
        "outputId": "b241422d-3709-4e2c-a607-e8df657ebebe"
      },
      "outputs": [
        {
          "name": "stdout",
          "output_type": "stream",
          "text": [
            "['X_test_8_faces', 'Y_test_8_faces']\n",
            "(400, 48, 48, 3)\n",
            "(400,)\n"
          ]
        },
        {
          "name": "stderr",
          "output_type": "stream",
          "text": [
            "/usr/local/lib/python3.6/dist-packages/ipykernel_launcher.py:6: H5pyDeprecationWarning: dataset.value has been deprecated. Use dataset[()] instead.\n",
            "  \n",
            "/usr/local/lib/python3.6/dist-packages/ipykernel_launcher.py:8: H5pyDeprecationWarning: dataset.value has been deprecated. Use dataset[()] instead.\n",
            "  \n"
          ]
        }
      ],
      "source": [
        "#Downloading the data, if it does not exist\n",
        "if not os.path.isfile('8_faces_test.hdf5'):\n",
        "  urllib.request.urlretrieve(\"https://www.dropbox.com/s/ugxrdo0lpc2ixvr/8_faces_test.hdf5?dl=1\",\"8_faces_test.hdf5\")\n",
        "h5f_X = h5py.File('8_faces_test.hdf5', 'r')\n",
        "print(list(h5f_X.keys()))\n",
        "X_test = h5f_X['X_test_8_faces'].value\n",
        "print(X_test.shape)\n",
        "Y_test = h5f_X['Y_test_8_faces'].value\n",
        "print(Y_test.shape)"
      ]
    },
    {
      "cell_type": "code",
      "execution_count": null,
      "metadata": {
        "id": "uXAoXSBy0eEM"
      },
      "outputs": [],
      "source": [
        "np.min(X_train),np.max(X_train),np.min(X_test),np.max(X_test)\n",
        "X_train /= 255\n",
        "X_valid /= 255\n",
        "X_test /= 255"
      ]
    },
    {
      "cell_type": "markdown",
      "metadata": {
        "id": "CaXiDuzT0eEN"
      },
      "source": [
        "## a) Training an CNN from scratch\n",
        "\n",
        "Train a model (as shown below) from scratch, using the training data for training and the validation data for validation. For all activations in the hidden layer use the 'ReLU', for the last layer use softmax. Use 3x3 convolutions and use padding = same.\n",
        "\n",
        "* Plot the learning curves: (epochs vs training loss and validation loss) and epochs vs accuracy. \n",
        "* Calculate the accuracy on the test set (you should reach an accuracy of about 0.54)\n",
        "* Calculate the confusion matrix\n",
        "* Have a look at missclassified examples\n",
        "\n",
        "Image of the network:\n",
        "https://github.com/ioskn/mldl_htwg/blob/master/uebungen/dl_cnn_faces_net.png"
      ]
    },
    {
      "cell_type": "markdown",
      "metadata": {
        "id": "_5Fm5wHF0eEO"
      },
      "source": [
        "## b) Training using transfer learning\n",
        "In transfer learning you use an existing trained model with given weights trained on a different task. You then add a few layers yourself and only train them. The model you add should look like:\n",
        "\n",
        "```\n",
        "my_dense1 (Dense)            (None, 512)               262656    \n",
        "_________________________________________________________________\n",
        "my_dense2 (Dense)            (None, 512)               262656    \n",
        "_________________________________________________________________\n",
        "my_dense3 (Dense)            (None, 100)               51300     \n",
        "_________________________________________________________________\n",
        "my_dense4 (Dense)            (None, 8)                 808       \n",
        "```\n",
        "\n",
        "Use the following code as a starting point:"
      ]
    },
    {
      "cell_type": "code",
      "execution_count": null,
      "metadata": {
        "id": "JP3FMm7W0eEP",
        "outputId": "ce656fcc-1900-4a9d-c868-1dc3e3cfc64c"
      },
      "outputs": [
        {
          "name": "stdout",
          "output_type": "stream",
          "text": [
            "Downloading data from https://github.com/fchollet/deep-learning-models/releases/download/v0.1/vgg16_weights_tf_dim_ordering_tf_kernels_notop.h5\n",
            "58892288/58889256 [==============================] - 5s 0us/step\n"
          ]
        }
      ],
      "source": [
        "from tensorflow.keras.applications import VGG16\n",
        "img_height = img_width = 48\n",
        "base_model = VGG16(weights='imagenet', include_top=False,input_shape = (img_width, img_height, 3))"
      ]
    },
    {
      "cell_type": "code",
      "execution_count": null,
      "metadata": {
        "id": "bzj1F3vX0eEQ"
      },
      "outputs": [],
      "source": [
        "fc1 = base_model.output\n",
        "fc1 = Flatten()(fc1)\n",
        "#...\n",
        "#Your code here\n",
        "#...\n",
        "fc1 = Dense(8,activation='softmax', name='my_dense4')(fc1)\n",
        "model_trans = tf.compat.v1.keras.Model(base_model.input, fc1) #Current hack for TF 2.0 and keras\n",
        "#model_trans.summary()"
      ]
    },
    {
      "cell_type": "code",
      "execution_count": null,
      "metadata": {
        "id": "F2vRVqhi0eER",
        "outputId": "c4c4f3df-2978-4cb8-8033-b519174cf739"
      },
      "outputs": [
        {
          "name": "stdout",
          "output_type": "stream",
          "text": [
            "my_dense4\n"
          ]
        }
      ],
      "source": [
        "#base_model.summary()\n",
        "for layer in model_trans.layers:\n",
        "  name = layer.name\n",
        "  if name.startswith('my'):\n",
        "    layer.trainable = True\n",
        "    print(name)\n",
        "  else:\n",
        "    layer.trainable = False"
      ]
    },
    {
      "cell_type": "markdown",
      "metadata": {
        "id": "V__DnOTl0eES"
      },
      "source": [
        "Do the same analysis as in a) above. You should get an accuracy of approx 0.61"
      ]
    },
    {
      "cell_type": "markdown",
      "metadata": {
        "id": "3gSL0f-d0eES"
      },
      "source": [
        "## c) Try to get better.\n",
        "\n",
        "Ideas: use dropout and other tricks to prevent overfitting. Try to learn some convulutional layers as well."
      ]
    },
    {
      "cell_type": "code",
      "execution_count": null,
      "metadata": {
        "id": "hv2mX_Hv0eET"
      },
      "outputs": [],
      "source": [
        ""
      ]
    }
  ],
  "metadata": {
    "kernelspec": {
      "display_name": "Python 3",
      "language": "python",
      "name": "python3"
    },
    "language_info": {
      "codemirror_mode": {
        "name": "ipython",
        "version": 3
      },
      "file_extension": ".py",
      "mimetype": "text/x-python",
      "name": "python",
      "nbconvert_exporter": "python",
      "pygments_lexer": "ipython3",
      "version": "3.6.8"
    },
    "colab": {
      "name": "cl_cnn_faces_nolsg.ipynb",
      "provenance": [],
      "include_colab_link": true
    }
  },
  "nbformat": 4,
  "nbformat_minor": 0
}