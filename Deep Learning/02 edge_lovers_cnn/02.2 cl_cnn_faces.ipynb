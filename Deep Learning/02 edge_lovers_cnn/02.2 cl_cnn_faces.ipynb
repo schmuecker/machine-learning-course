{
  "cells": [
    {
      "cell_type": "markdown",
      "metadata": {
        "id": "view-in-github",
        "colab_type": "text"
      },
      "source": [
        "<a href=\"https://colab.research.google.com/github/schmuecker/machine-learning-course/blob/main/Deep%20Learning/02%20edge_lovers_cnn/02.2%20cl_cnn_faces.ipynb\" target=\"_parent\"><img src=\"https://colab.research.google.com/assets/colab-badge.svg\" alt=\"Open In Colab\"/></a>"
      ]
    },
    {
      "cell_type": "markdown",
      "metadata": {
        "id": "cFSY7G_r0eD_"
      },
      "source": [
        "# Classification of Faces\n",
        "\n",
        "In this excercise, we try to classify images of : \"Miranda_Cosgrove\" \"Chris_Martin\" \"Emma_Stone\" \"Jamie_Foxx\" \"Steve_Jobs\" \"Zac_Efron\" \"Sandra_Oh\" \"Taryn_Manning\". The data is from a random sample of 8 persons of the OXFORD VGG Face dataset, more information here: http://www.robots.ox.ac.uk/~vgg/data/vgg_face/."
      ]
    },
    {
      "cell_type": "markdown",
      "metadata": {
        "id": "18uyOIRw0eED"
      },
      "source": [
        "## Downloading of Data\n",
        "\n",
        "You can download the data using the following code:"
      ]
    },
    {
      "cell_type": "code",
      "execution_count": 1,
      "metadata": {
        "id": "mK6NObpD0eEF"
      },
      "outputs": [],
      "source": [
        "import gzip\n",
        "import numpy as np\n",
        "import matplotlib.pyplot as plt\n",
        "import tensorflow as tf\n",
        "from tensorflow.keras.preprocessing.image import ImageDataGenerator\n",
        "from tensorflow.keras.models import Sequential\n",
        "from tensorflow.keras.layers import Dense, Dropout, Activation, Flatten\n",
        "from tensorflow.keras.layers import Conv2D, MaxPooling2D"
      ]
    },
    {
      "cell_type": "code",
      "execution_count": 2,
      "metadata": {
        "id": "w3SXGDhL0eEH",
        "outputId": "409b9f2b-c521-400b-8952-d404e0d41a58",
        "colab": {
          "base_uri": "https://localhost:8080/"
        }
      },
      "outputs": [
        {
          "output_type": "stream",
          "name": "stdout",
          "text": [
            "-rw-r--r-- 1 root root 132733792 Jan 13 07:58 8_faces_train_and_valid.hdf5\n"
          ]
        }
      ],
      "source": [
        "# Downloading the data, if it does not exist, this will take some time... (>120MB)\n",
        "import urllib\n",
        "import os\n",
        "if not os.path.isfile('8_faces_train_and_valid.hdf5'):\n",
        "    urllib.request.urlretrieve(\"https://www.dropbox.com/s/dx03vk6dmbtoywn/8_faces_train_and_valid.hdf5?dl=1\",\"8_faces_train_and_valid.hdf5\")\n",
        "!ls -l 8_faces_train_and_valid.hdf5"
      ]
    },
    {
      "cell_type": "code",
      "execution_count": 3,
      "metadata": {
        "id": "l0sdREwh0eEI",
        "outputId": "b9e27fd2-d501-4a53-a177-c6d0d95087c1",
        "colab": {
          "base_uri": "https://localhost:8080/"
        }
      },
      "outputs": [
        {
          "output_type": "stream",
          "name": "stdout",
          "text": [
            "['X_train_8_faces', 'X_valid_8_faces', 'Y_train_8_faces', 'Y_valid_8_faces']\n",
            "(2000, 48, 48, 3)\n",
            "(2000,)\n",
            "(400, 48, 48, 3)\n",
            "(400,) float64\n"
          ]
        }
      ],
      "source": [
        "import h5py\n",
        "h5f_X = h5py.File('8_faces_train_and_valid.hdf5', 'r')\n",
        "print(list(h5f_X.keys()))\n",
        "X_train = h5f_X['X_train_8_faces']\n",
        "print(X_train.shape)\n",
        "Y_train = h5f_X['Y_train_8_faces']\n",
        "print(Y_train.shape)\n",
        "X_valid = h5f_X['X_valid_8_faces']\n",
        "print(X_valid.shape)\n",
        "Y_valid = h5f_X['Y_valid_8_faces']\n",
        "print(Y_valid.shape, X_valid.dtype)"
      ]
    },
    {
      "cell_type": "code",
      "execution_count": 4,
      "metadata": {
        "id": "OXZwEPgL0eEJ",
        "outputId": "ddbf4944-cae6-450c-9401-19ddc2f5476a",
        "colab": {
          "base_uri": "https://localhost:8080/",
          "height": 301
        }
      },
      "outputs": [
        {
          "output_type": "stream",
          "name": "stdout",
          "text": [
            "250\n"
          ]
        },
        {
          "output_type": "execute_result",
          "data": {
            "text/plain": [
              "<matplotlib.image.AxesImage at 0x7f99d851ff10>"
            ]
          },
          "metadata": {},
          "execution_count": 4
        },
        {
          "output_type": "display_data",
          "data": {
            "image/png": "[encoded data removed]",
            "text/plain": [
              "<Figure size 432x288 with 1 Axes>"
            ]
          },
          "metadata": {
            "needs_background": "light"
          }
        }
      ],
      "source": [
        "n = 0 #Miranda Cosgrove\n",
        "n = 1 #Chris Martin (singer)\n",
        "n = 2 #Emma Stone (actress)\n",
        "n = 3 #Jamie Foxx (actor)\n",
        "n = 4 #Steve Jobs (entrepreneur)\n",
        "n = 5 #Zac Efron (actor)\n",
        "n = 6 #Sandra Oh (actress)\n",
        "n = 7 #Taryn Manning (actress)\n",
        "n = 4 \n",
        "idx=np.reshape(np.where(Y_train[0:len(Y_train)]==n),(250))\n",
        "print(len(Y_train[idx]))\n",
        "plt.imshow(np.asarray(X_train[idx][0],dtype=\"uint8\"))"
      ]
    },
    {
      "cell_type": "code",
      "execution_count": 5,
      "metadata": {
        "id": "tleyhGz10eEL",
        "outputId": "b4c231de-96c0-4fa0-ca7d-811ea3f9f23e",
        "colab": {
          "base_uri": "https://localhost:8080/"
        }
      },
      "outputs": [
        {
          "output_type": "stream",
          "name": "stdout",
          "text": [
            "['X_test_8_faces', 'Y_test_8_faces']\n",
            "(400, 48, 48, 3)\n",
            "(400, 1)\n"
          ]
        }
      ],
      "source": [
        "#Downloading the data, if it does not exist\n",
        "if not os.path.isfile('8_faces_test.hdf5'):\n",
        "  urllib.request.urlretrieve(\"https://www.dropbox.com/s/ugxrdo0lpc2ixvr/8_faces_test.hdf5?dl=1\",\"8_faces_test.hdf5\")\n",
        "h5f_X = h5py.File('8_faces_test.hdf5', 'r')\n",
        "print(list(h5f_X.keys()))\n",
        "X_test = h5f_X['X_test_8_faces']\n",
        "print(X_test.shape)\n",
        "Y_test = np.reshape(h5f_X['Y_test_8_faces'], (400,1))\n",
        "print(Y_test.shape)"
      ]
    },
    {
      "cell_type": "code",
      "execution_count": 6,
      "metadata": {
        "id": "uXAoXSBy0eEM"
      },
      "outputs": [],
      "source": [
        "np.min(X_train),np.max(X_train),np.min(X_test),np.max(X_test)\n",
        "X_train = np.true_divide(X_train, 255)\n",
        "X_valid = np.true_divide(X_valid, 255)\n",
        "X_test = np.true_divide(X_test, 255)"
      ]
    },
    {
      "cell_type": "markdown",
      "metadata": {
        "id": "CaXiDuzT0eEN"
      },
      "source": [
        "## a) Training an CNN from scratch\n",
        "\n",
        "Train a model (as shown below) from scratch, using the training data for training and the validation data for validation. For all activations in the hidden layer use the 'ReLU', for the last layer use softmax. Use 3x3 convolutions and use padding = same.\n",
        "\n",
        "* Plot the learning curves: (epochs vs training loss and validation loss) and epochs vs accuracy. \n",
        "* Calculate the accuracy on the test set (you should reach an accuracy of about 0.54)\n",
        "* Calculate the confusion matrix\n",
        "* Have a look at missclassified examples\n",
        "\n",
        "Image of the network:\n",
        "https://github.com/ioskn/mldl_htwg/blob/master/uebungen/dl_cnn_faces_net.png"
      ]
    },
    {
      "cell_type": "code",
      "source": [
        "import tensorflow.keras as keras\n",
        "from tensorflow.keras.optimizers import SGD\n",
        "\n",
        "model = keras.Sequential()\n",
        "\n",
        "# Layers\n",
        "model.add(Conv2D(15, kernel_size=3, padding=\"same\", input_shape=(48, 48, 3)))\n",
        "model.add(Activation('relu'))\n",
        "model.add(Conv2D(15, kernel_size=3, padding=\"same\", input_shape=(48, 48, 3)))\n",
        "model.add(Activation('relu'))\n",
        "model.add(MaxPooling2D(pool_size=(2,2)))\n",
        "model.add(Conv2D(30, kernel_size=3, padding=\"same\", input_shape=(48, 48, 3)))\n",
        "model.add(Activation('relu'))\n",
        "model.add(Conv2D(30, kernel_size=3, padding=\"same\", input_shape=(48, 48, 3)))\n",
        "model.add(Activation('relu'))\n",
        "model.add(MaxPooling2D(pool_size=(4,4)))\n",
        "model.add(Flatten())\n",
        "model.add(Dense(300, activation=\"relu\"))\n",
        "model.add(Activation('relu'))\n",
        "model.add(Dropout(0.5))\n",
        "model.add(Dense(8, activation=\"softmax\"))\n",
        "\n",
        "# Model\n",
        "model.compile(optimizer=SGD(), loss=\"categorical_crossentropy\", metrics=['accuracy'])\n",
        "\n",
        "model.summary()"
      ],
      "metadata": {
        "id": "RX6IGsiKFniG",
        "outputId": "7cf8bb00-5b4a-434f-90d8-074fc1ebf69b",
        "colab": {
          "base_uri": "https://localhost:8080/"
        }
      },
      "execution_count": 7,
      "outputs": [
        {
          "output_type": "stream",
          "name": "stdout",
          "text": [
            "Model: \"sequential\"\n",
            "_________________________________________________________________\n",
            " Layer (type)                Output Shape              Param #   \n",
            "=================================================================\n",
            " conv2d (Conv2D)             (None, 48, 48, 15)        420       \n",
            "                                                                 \n",
            " activation (Activation)     (None, 48, 48, 15)        0         \n",
            "                                                                 \n",
            " conv2d_1 (Conv2D)           (None, 48, 48, 15)        2040      \n",
            "                                                                 \n",
            " activation_1 (Activation)   (None, 48, 48, 15)        0         \n",
            "                                                                 \n",
            " max_pooling2d (MaxPooling2D  (None, 24, 24, 15)       0         \n",
            " )                                                               \n",
            "                                                                 \n",
            " conv2d_2 (Conv2D)           (None, 24, 24, 30)        4080      \n",
            "                                                                 \n",
            " activation_2 (Activation)   (None, 24, 24, 30)        0         \n",
            "                                                                 \n",
            " conv2d_3 (Conv2D)           (None, 24, 24, 30)        8130      \n",
            "                                                                 \n",
            " activation_3 (Activation)   (None, 24, 24, 30)        0         \n",
            "                                                                 \n",
            " max_pooling2d_1 (MaxPooling  (None, 6, 6, 30)         0         \n",
            " 2D)                                                             \n",
            "                                                                 \n",
            " flatten (Flatten)           (None, 1080)              0         \n",
            "                                                                 \n",
            " dense (Dense)               (None, 300)               324300    \n",
            "                                                                 \n",
            " activation_4 (Activation)   (None, 300)               0         \n",
            "                                                                 \n",
            " dropout (Dropout)           (None, 300)               0         \n",
            "                                                                 \n",
            " dense_1 (Dense)             (None, 8)                 2408      \n",
            "                                                                 \n",
            "=================================================================\n",
            "Total params: 341,378\n",
            "Trainable params: 341,378\n",
            "Non-trainable params: 0\n",
            "_________________________________________________________________\n"
          ]
        }
      ]
    },
    {
      "cell_type": "code",
      "source": [
        "from sklearn.preprocessing import OneHotEncoder\n",
        "\n",
        "def onehot(input):\n",
        "  onehot_encoder = OneHotEncoder(sparse=False)\n",
        "  integer_encoded = np.array(input).reshape(len(input), 1)\n",
        "  return onehot_encoder.fit_transform(integer_encoded)  \n",
        "\n",
        "Y_train_oh = onehot(Y_train)\n",
        "Y_valid_oh = onehot(Y_valid)\n",
        "Y_test_oh = onehot(Y_test)"
      ],
      "metadata": {
        "id": "oRbN9oKVOe7I"
      },
      "execution_count": 8,
      "outputs": []
    },
    {
      "cell_type": "code",
      "source": [
        "import matplotlib.pyplot as plt\n",
        "\n",
        "history = model.fit(X_train, Y_train_oh, validation_data=(X_valid, Y_valid_oh), epochs=20)\n",
        "\n",
        "# Plot\n",
        "plt.figure(figsize=(12,4))\n",
        "\n",
        "plt.subplot(1,2,(1))\n",
        "plt.plot(history.history['accuracy'],linestyle='-.')\n",
        "plt.plot(history.history['val_accuracy'])\n",
        "plt.title('Model Accuracy')\n",
        "plt.ylabel('Accuracy')\n",
        "plt.xlabel('Epoch')\n",
        "plt.legend(['training', 'validation'], loc='lower right')\n",
        "\n",
        "plt.subplot(1,2,(2))\n",
        "plt.plot(history.history['loss'], linestyle='-.')\n",
        "plt.plot(history.history['val_loss'])\n",
        "plt.title('Model Loss')\n",
        "plt.ylabel('Loss')\n",
        "plt.xlabel('Epoch')\n",
        "plt.legend(['training', 'validation'], loc='upper right')"
      ],
      "metadata": {
        "id": "EeLNv5jIGm73",
        "outputId": "3c8b29cb-bbd9-406e-e526-195cbe977223",
        "colab": {
          "base_uri": "https://localhost:8080/",
          "height": 992
        }
      },
      "execution_count": 9,
      "outputs": [
        {
          "output_type": "stream",
          "name": "stdout",
          "text": [
            "Epoch 1/20\n",
            "63/63 [==============================] - 12s 171ms/step - loss: 2.0818 - accuracy: 0.1270 - val_loss: 2.0768 - val_accuracy: 0.1350\n",
            "Epoch 2/20\n",
            "63/63 [==============================] - 11s 171ms/step - loss: 2.0764 - accuracy: 0.1435 - val_loss: 2.0735 - val_accuracy: 0.2050\n",
            "Epoch 3/20\n",
            "63/63 [==============================] - 11s 174ms/step - loss: 2.0693 - accuracy: 0.1785 - val_loss: 2.0684 - val_accuracy: 0.2025\n",
            "Epoch 4/20\n",
            "63/63 [==============================] - 11s 174ms/step - loss: 2.0695 - accuracy: 0.1635 - val_loss: 2.0631 - val_accuracy: 0.2025\n",
            "Epoch 5/20\n",
            "63/63 [==============================] - 11s 174ms/step - loss: 2.0635 - accuracy: 0.1805 - val_loss: 2.0549 - val_accuracy: 0.2300\n",
            "Epoch 6/20\n",
            "63/63 [==============================] - 11s 172ms/step - loss: 2.0544 - accuracy: 0.1805 - val_loss: 2.0433 - val_accuracy: 0.2400\n",
            "Epoch 7/20\n",
            "63/63 [==============================] - 11s 177ms/step - loss: 2.0398 - accuracy: 0.2090 - val_loss: 2.0231 - val_accuracy: 0.2525\n",
            "Epoch 8/20\n",
            "63/63 [==============================] - 11s 173ms/step - loss: 2.0152 - accuracy: 0.2215 - val_loss: 1.9965 - val_accuracy: 0.3025\n",
            "Epoch 9/20\n",
            "63/63 [==============================] - 11s 174ms/step - loss: 1.9990 - accuracy: 0.2155 - val_loss: 1.9576 - val_accuracy: 0.3025\n",
            "Epoch 10/20\n",
            "63/63 [==============================] - 11s 174ms/step - loss: 1.9562 - accuracy: 0.2420 - val_loss: 1.9318 - val_accuracy: 0.2900\n",
            "Epoch 11/20\n",
            "63/63 [==============================] - 11s 176ms/step - loss: 1.9217 - accuracy: 0.2585 - val_loss: 1.8780 - val_accuracy: 0.3475\n",
            "Epoch 12/20\n",
            "63/63 [==============================] - 11s 174ms/step - loss: 1.8890 - accuracy: 0.2700 - val_loss: 1.8377 - val_accuracy: 0.3450\n",
            "Epoch 13/20\n",
            "63/63 [==============================] - 11s 174ms/step - loss: 1.8472 - accuracy: 0.2975 - val_loss: 1.8006 - val_accuracy: 0.3775\n",
            "Epoch 14/20\n",
            "63/63 [==============================] - 11s 175ms/step - loss: 1.8083 - accuracy: 0.3095 - val_loss: 1.7972 - val_accuracy: 0.3425\n",
            "Epoch 15/20\n",
            "63/63 [==============================] - 11s 174ms/step - loss: 1.7936 - accuracy: 0.3385 - val_loss: 1.7444 - val_accuracy: 0.4050\n",
            "Epoch 16/20\n",
            "63/63 [==============================] - 11s 174ms/step - loss: 1.7573 - accuracy: 0.3500 - val_loss: 1.7129 - val_accuracy: 0.4100\n",
            "Epoch 17/20\n",
            "63/63 [==============================] - 11s 172ms/step - loss: 1.7229 - accuracy: 0.3610 - val_loss: 1.6718 - val_accuracy: 0.4300\n",
            "Epoch 18/20\n",
            "63/63 [==============================] - 11s 172ms/step - loss: 1.6846 - accuracy: 0.3620 - val_loss: 1.6502 - val_accuracy: 0.4125\n",
            "Epoch 19/20\n",
            "63/63 [==============================] - 11s 172ms/step - loss: 1.6506 - accuracy: 0.4015 - val_loss: 1.6294 - val_accuracy: 0.4375\n",
            "Epoch 20/20\n",
            "63/63 [==============================] - 11s 173ms/step - loss: 1.6080 - accuracy: 0.4035 - val_loss: 1.5900 - val_accuracy: 0.4575\n"
          ]
        },
        {
          "output_type": "execute_result",
          "data": {
            "text/plain": [
              "<matplotlib.legend.Legend at 0x7f99d4705850>"
            ]
          },
          "metadata": {},
          "execution_count": 9
        },
        {
          "output_type": "display_data",
          "data": {
            "image/png": "[encoded data removed]",
            "text/plain": [
              "<Figure size 864x288 with 2 Axes>"
            ]
          },
          "metadata": {
            "needs_background": "light"
          }
        }
      ]
    },
    {
      "cell_type": "code",
      "source": [
        "model.evaluate(X_test, Y_test_oh)"
      ],
      "metadata": {
        "id": "8FaAST1tQmbi",
        "outputId": "891cd98c-e6c1-4a02-a026-229566e2700e",
        "colab": {
          "base_uri": "https://localhost:8080/"
        }
      },
      "execution_count": 10,
      "outputs": [
        {
          "output_type": "stream",
          "name": "stdout",
          "text": [
            "13/13 [==============================] - 1s 53ms/step - loss: 1.5575 - accuracy: 0.4525\n"
          ]
        },
        {
          "output_type": "execute_result",
          "data": {
            "text/plain": [
              "[1.557490587234497, 0.45249998569488525]"
            ]
          },
          "metadata": {},
          "execution_count": 10
        }
      ]
    },
    {
      "cell_type": "code",
      "source": [
        "from sklearn import metrics\n",
        "from sklearn.preprocessing import LabelBinarizer\n",
        "\n",
        "Y_pred = model.predict(X_test)\n",
        "Y_pred_labels = np.argmax(Y_pred, axis=1)\n",
        "\n",
        "c = metrics.confusion_matrix(Y_test, Y_pred_labels)\n",
        "disp = metrics.ConfusionMatrixDisplay(c)\n",
        "disp.plot()\n",
        "plt.title('Confusion matrix')\n",
        "plt.show()"
      ],
      "metadata": {
        "id": "YCM6NH8DTGtw",
        "outputId": "29b5e843-16e5-44d5-e23d-94f6de0cac73",
        "colab": {
          "base_uri": "https://localhost:8080/",
          "height": 295
        }
      },
      "execution_count": 11,
      "outputs": [
        {
          "output_type": "display_data",
          "data": {
            "image/png": "[encoded data removed]",
            "text/plain": [
              "<Figure size 432x288 with 2 Axes>"
            ]
          },
          "metadata": {
            "needs_background": "light"
          }
        }
      ]
    },
    {
      "cell_type": "markdown",
      "metadata": {
        "id": "_5Fm5wHF0eEO"
      },
      "source": [
        "## b) Training using transfer learning\n",
        "In transfer learning you use an existing trained model with given weights trained on a different task. You then add a few layers yourself and only train them. The model you add should look like:\n",
        "\n",
        "```\n",
        "my_dense1 (Dense)            (None, 512)               262656    \n",
        "_________________________________________________________________\n",
        "my_dense2 (Dense)            (None, 512)               262656    \n",
        "_________________________________________________________________\n",
        "my_dense3 (Dense)            (None, 100)               51300     \n",
        "_________________________________________________________________\n",
        "my_dense4 (Dense)            (None, 8)                 808       \n",
        "```\n",
        "\n",
        "Use the following code as a starting point:"
      ]
    },
    {
      "cell_type": "code",
      "execution_count": 12,
      "metadata": {
        "id": "JP3FMm7W0eEP",
        "outputId": "6164b391-8178-4381-afc3-a5d6d438146c",
        "colab": {
          "base_uri": "https://localhost:8080/"
        }
      },
      "outputs": [
        {
          "output_type": "stream",
          "name": "stdout",
          "text": [
            "Downloading data from https://storage.googleapis.com/tensorflow/keras-applications/vgg16/vgg16_weights_tf_dim_ordering_tf_kernels_notop.h5\n",
            "58892288/58889256 [==============================] - 0s 0us/step\n",
            "58900480/58889256 [==============================] - 0s 0us/step\n"
          ]
        }
      ],
      "source": [
        "from tensorflow.keras.applications import VGG16\n",
        "img_height = img_width = 48\n",
        "base_model = VGG16(weights='imagenet', include_top=False,input_shape = (img_width, img_height, 3))"
      ]
    },
    {
      "cell_type": "code",
      "execution_count": 13,
      "metadata": {
        "id": "bzj1F3vX0eEQ",
        "outputId": "0fcc8f5d-2666-4772-d6ca-5bab664ee794",
        "colab": {
          "base_uri": "https://localhost:8080/"
        }
      },
      "outputs": [
        {
          "output_type": "stream",
          "name": "stdout",
          "text": [
            "Model: \"model\"\n",
            "_________________________________________________________________\n",
            " Layer (type)                Output Shape              Param #   \n",
            "=================================================================\n",
            " input_1 (InputLayer)        [(None, 48, 48, 3)]       0         \n",
            "                                                                 \n",
            " block1_conv1 (Conv2D)       (None, 48, 48, 64)        1792      \n",
            "                                                                 \n",
            " block1_conv2 (Conv2D)       (None, 48, 48, 64)        36928     \n",
            "                                                                 \n",
            " block1_pool (MaxPooling2D)  (None, 24, 24, 64)        0         \n",
            "                                                                 \n",
            " block2_conv1 (Conv2D)       (None, 24, 24, 128)       73856     \n",
            "                                                                 \n",
            " block2_conv2 (Conv2D)       (None, 24, 24, 128)       147584    \n",
            "                                                                 \n",
            " block2_pool (MaxPooling2D)  (None, 12, 12, 128)       0         \n",
            "                                                                 \n",
            " block3_conv1 (Conv2D)       (None, 12, 12, 256)       295168    \n",
            "                                                                 \n",
            " block3_conv2 (Conv2D)       (None, 12, 12, 256)       590080    \n",
            "                                                                 \n",
            " block3_conv3 (Conv2D)       (None, 12, 12, 256)       590080    \n",
            "                                                                 \n",
            " block3_pool (MaxPooling2D)  (None, 6, 6, 256)         0         \n",
            "                                                                 \n",
            " block4_conv1 (Conv2D)       (None, 6, 6, 512)         1180160   \n",
            "                                                                 \n",
            " block4_conv2 (Conv2D)       (None, 6, 6, 512)         2359808   \n",
            "                                                                 \n",
            " block4_conv3 (Conv2D)       (None, 6, 6, 512)         2359808   \n",
            "                                                                 \n",
            " block4_pool (MaxPooling2D)  (None, 3, 3, 512)         0         \n",
            "                                                                 \n",
            " block5_conv1 (Conv2D)       (None, 3, 3, 512)         2359808   \n",
            "                                                                 \n",
            " block5_conv2 (Conv2D)       (None, 3, 3, 512)         2359808   \n",
            "                                                                 \n",
            " block5_conv3 (Conv2D)       (None, 3, 3, 512)         2359808   \n",
            "                                                                 \n",
            " block5_pool (MaxPooling2D)  (None, 1, 1, 512)         0         \n",
            "                                                                 \n",
            " flatten_1 (Flatten)         (None, 512)               0         \n",
            "                                                                 \n",
            " my_dense1 (Dense)           (None, 512)               262656    \n",
            "                                                                 \n",
            " my_dense2 (Dense)           (None, 512)               262656    \n",
            "                                                                 \n",
            " my_dense3 (Dense)           (None, 100)               51300     \n",
            "                                                                 \n",
            " my_dense4 (Dense)           (None, 8)                 808       \n",
            "                                                                 \n",
            "=================================================================\n",
            "Total params: 15,292,108\n",
            "Trainable params: 15,292,108\n",
            "Non-trainable params: 0\n",
            "_________________________________________________________________\n"
          ]
        }
      ],
      "source": [
        "fc1 = base_model.output\n",
        "fc1 = Flatten()(fc1)\n",
        "#...\n",
        "\n",
        "fc1 = Dense(512,activation='relu', name='my_dense1')(fc1)\n",
        "fc1 = Dense(512,activation='relu', name='my_dense2')(fc1)\n",
        "fc1 = Dense(100,activation='relu', name='my_dense3')(fc1)\n",
        "\n",
        "#...\n",
        "fc1 = Dense(8,activation='softmax', name='my_dense4')(fc1)\n",
        "model_trans = tf.compat.v1.keras.Model(base_model.input, fc1) #Current hack for TF 2.0 and keras\n",
        "model_trans.summary()"
      ]
    },
    {
      "cell_type": "code",
      "execution_count": 14,
      "metadata": {
        "id": "F2vRVqhi0eER",
        "outputId": "15a0beb1-56a3-443b-ff7a-3064eae9f695",
        "colab": {
          "base_uri": "https://localhost:8080/"
        }
      },
      "outputs": [
        {
          "output_type": "stream",
          "name": "stdout",
          "text": [
            "Model: \"vgg16\"\n",
            "_________________________________________________________________\n",
            " Layer (type)                Output Shape              Param #   \n",
            "=================================================================\n",
            " input_1 (InputLayer)        [(None, 48, 48, 3)]       0         \n",
            "                                                                 \n",
            " block1_conv1 (Conv2D)       (None, 48, 48, 64)        1792      \n",
            "                                                                 \n",
            " block1_conv2 (Conv2D)       (None, 48, 48, 64)        36928     \n",
            "                                                                 \n",
            " block1_pool (MaxPooling2D)  (None, 24, 24, 64)        0         \n",
            "                                                                 \n",
            " block2_conv1 (Conv2D)       (None, 24, 24, 128)       73856     \n",
            "                                                                 \n",
            " block2_conv2 (Conv2D)       (None, 24, 24, 128)       147584    \n",
            "                                                                 \n",
            " block2_pool (MaxPooling2D)  (None, 12, 12, 128)       0         \n",
            "                                                                 \n",
            " block3_conv1 (Conv2D)       (None, 12, 12, 256)       295168    \n",
            "                                                                 \n",
            " block3_conv2 (Conv2D)       (None, 12, 12, 256)       590080    \n",
            "                                                                 \n",
            " block3_conv3 (Conv2D)       (None, 12, 12, 256)       590080    \n",
            "                                                                 \n",
            " block3_pool (MaxPooling2D)  (None, 6, 6, 256)         0         \n",
            "                                                                 \n",
            " block4_conv1 (Conv2D)       (None, 6, 6, 512)         1180160   \n",
            "                                                                 \n",
            " block4_conv2 (Conv2D)       (None, 6, 6, 512)         2359808   \n",
            "                                                                 \n",
            " block4_conv3 (Conv2D)       (None, 6, 6, 512)         2359808   \n",
            "                                                                 \n",
            " block4_pool (MaxPooling2D)  (None, 3, 3, 512)         0         \n",
            "                                                                 \n",
            " block5_conv1 (Conv2D)       (None, 3, 3, 512)         2359808   \n",
            "                                                                 \n",
            " block5_conv2 (Conv2D)       (None, 3, 3, 512)         2359808   \n",
            "                                                                 \n",
            " block5_conv3 (Conv2D)       (None, 3, 3, 512)         2359808   \n",
            "                                                                 \n",
            " block5_pool (MaxPooling2D)  (None, 1, 1, 512)         0         \n",
            "                                                                 \n",
            "=================================================================\n",
            "Total params: 14,714,688\n",
            "Trainable params: 14,714,688\n",
            "Non-trainable params: 0\n",
            "_________________________________________________________________\n",
            "my_dense1\n",
            "my_dense2\n",
            "my_dense3\n",
            "my_dense4\n"
          ]
        }
      ],
      "source": [
        "base_model.summary()\n",
        "\n",
        "for layer in model_trans.layers:\n",
        "  name = layer.name\n",
        "  if name.startswith('my'):\n",
        "    layer.trainable = True\n",
        "    print(name)\n",
        "  else:\n",
        "    layer.trainable = False"
      ]
    },
    {
      "cell_type": "markdown",
      "metadata": {
        "id": "V__DnOTl0eES"
      },
      "source": [
        "Do the same analysis as in a) above. You should get an accuracy of approx 0.61"
      ]
    },
    {
      "cell_type": "code",
      "source": [
        "import matplotlib.pyplot as plt\n",
        "\n",
        "# Compile transformed model\n",
        "model_trans.compile(optimizer=SGD(), loss=\"categorical_crossentropy\", metrics=['accuracy'])\n",
        "\n",
        "# Fit transformed model\n",
        "history = model_trans.fit(X_train, Y_train_oh, validation_data=(X_valid, Y_valid_oh), epochs=5)\n",
        "\n",
        "# Plot\n",
        "plt.figure(figsize=(12,4))\n",
        "\n",
        "plt.subplot(1,2,(1))\n",
        "plt.plot(history.history['accuracy'],linestyle='-.')\n",
        "plt.plot(history.history['val_accuracy'])\n",
        "plt.title('Model Accuracy')\n",
        "plt.ylabel('Accuracy')\n",
        "plt.xlabel('Epoch')\n",
        "plt.legend(['training', 'validation'], loc='lower right')\n",
        "\n",
        "plt.subplot(1,2,(2))\n",
        "plt.plot(history.history['loss'], linestyle='-.')\n",
        "plt.plot(history.history['val_loss'])\n",
        "plt.title('Model Loss')\n",
        "plt.ylabel('Loss')\n",
        "plt.xlabel('Epoch')\n",
        "plt.legend(['training', 'validation'], loc='upper right')"
      ],
      "metadata": {
        "id": "UOWemjspaEMJ",
        "outputId": "f524f2a1-7584-430a-8566-996124b2c2af",
        "colab": {
          "base_uri": "https://localhost:8080/",
          "height": 482
        }
      },
      "execution_count": 16,
      "outputs": [
        {
          "output_type": "stream",
          "name": "stdout",
          "text": [
            "Epoch 1/5\n",
            "63/63 [==============================] - 52s 813ms/step - loss: 1.7683 - accuracy: 0.3695 - val_loss: 1.7277 - val_accuracy: 0.4150\n",
            "Epoch 2/5\n",
            "63/63 [==============================] - 51s 804ms/step - loss: 1.6775 - accuracy: 0.4150 - val_loss: 1.6757 - val_accuracy: 0.4300\n",
            "Epoch 3/5\n",
            "63/63 [==============================] - 51s 805ms/step - loss: 1.6121 - accuracy: 0.4430 - val_loss: 1.6994 - val_accuracy: 0.3375\n",
            "Epoch 4/5\n",
            "63/63 [==============================] - 51s 808ms/step - loss: 1.5379 - accuracy: 0.4610 - val_loss: 1.5626 - val_accuracy: 0.4875\n",
            "Epoch 5/5\n",
            "63/63 [==============================] - 51s 808ms/step - loss: 1.4956 - accuracy: 0.4690 - val_loss: 1.5481 - val_accuracy: 0.4475\n"
          ]
        },
        {
          "output_type": "execute_result",
          "data": {
            "text/plain": [
              "<matplotlib.legend.Legend at 0x7f99cec9e390>"
            ]
          },
          "metadata": {},
          "execution_count": 16
        },
        {
          "output_type": "display_data",
          "data": {
            "image/png": "[encoded data removed]",
            "text/plain": [
              "<Figure size 864x288 with 2 Axes>"
            ]
          },
          "metadata": {
            "needs_background": "light"
          }
        }
      ]
    },
    {
      "cell_type": "code",
      "source": [
        "model_trans.evaluate(X_test, Y_test_oh)"
      ],
      "metadata": {
        "id": "iR-24Ktzab_M",
        "outputId": "0ca31ae9-3e58-4c6d-f1e0-627b7b486340",
        "colab": {
          "base_uri": "https://localhost:8080/"
        }
      },
      "execution_count": 17,
      "outputs": [
        {
          "output_type": "stream",
          "name": "stdout",
          "text": [
            "13/13 [==============================] - 8s 646ms/step - loss: 1.5329 - accuracy: 0.4500\n"
          ]
        },
        {
          "output_type": "execute_result",
          "data": {
            "text/plain": [
              "[1.532922387123108, 0.44999998807907104]"
            ]
          },
          "metadata": {},
          "execution_count": 17
        }
      ]
    },
    {
      "cell_type": "code",
      "source": [
        "Y_pred = model_trans.predict(X_test)\n",
        "Y_pred_labels = np.argmax(Y_pred, axis=1)\n",
        "\n",
        "c = metrics.confusion_matrix(Y_test, Y_pred_labels)\n",
        "disp = metrics.ConfusionMatrixDisplay(c)\n",
        "disp.plot()\n",
        "plt.title('Confusion matrix')\n",
        "plt.show()"
      ],
      "metadata": {
        "id": "_5wN4dodaehw",
        "outputId": "e512d98a-2330-483b-8c06-1ff230ea19aa",
        "colab": {
          "base_uri": "https://localhost:8080/",
          "height": 295
        }
      },
      "execution_count": 18,
      "outputs": [
        {
          "output_type": "display_data",
          "data": {
            "image/png": "[encoded data removed]",
            "text/plain": [
              "<Figure size 432x288 with 2 Axes>"
            ]
          },
          "metadata": {
            "needs_background": "light"
          }
        }
      ]
    },
    {
      "cell_type": "markdown",
      "metadata": {
        "id": "3gSL0f-d0eES"
      },
      "source": [
        "## c) Try to get better.\n",
        "\n",
        "Ideas: use dropout and other tricks to prevent overfitting. Try to learn some convulutional layers as well."
      ]
    },
    {
      "cell_type": "code",
      "execution_count": 19,
      "metadata": {
        "id": "hv2mX_Hv0eET",
        "outputId": "e2080b97-a0e4-4a39-e946-0ad1f8e3a988",
        "colab": {
          "base_uri": "https://localhost:8080/"
        }
      },
      "outputs": [
        {
          "output_type": "stream",
          "name": "stdout",
          "text": [
            "Model: \"model_1\"\n",
            "_________________________________________________________________\n",
            " Layer (type)                Output Shape              Param #   \n",
            "=================================================================\n",
            " input_1 (InputLayer)        [(None, 48, 48, 3)]       0         \n",
            "                                                                 \n",
            " block1_conv1 (Conv2D)       (None, 48, 48, 64)        1792      \n",
            "                                                                 \n",
            " block1_conv2 (Conv2D)       (None, 48, 48, 64)        36928     \n",
            "                                                                 \n",
            " block1_pool (MaxPooling2D)  (None, 24, 24, 64)        0         \n",
            "                                                                 \n",
            " block2_conv1 (Conv2D)       (None, 24, 24, 128)       73856     \n",
            "                                                                 \n",
            " block2_conv2 (Conv2D)       (None, 24, 24, 128)       147584    \n",
            "                                                                 \n",
            " block2_pool (MaxPooling2D)  (None, 12, 12, 128)       0         \n",
            "                                                                 \n",
            " block3_conv1 (Conv2D)       (None, 12, 12, 256)       295168    \n",
            "                                                                 \n",
            " block3_conv2 (Conv2D)       (None, 12, 12, 256)       590080    \n",
            "                                                                 \n",
            " block3_conv3 (Conv2D)       (None, 12, 12, 256)       590080    \n",
            "                                                                 \n",
            " block3_pool (MaxPooling2D)  (None, 6, 6, 256)         0         \n",
            "                                                                 \n",
            " block4_conv1 (Conv2D)       (None, 6, 6, 512)         1180160   \n",
            "                                                                 \n",
            " block4_conv2 (Conv2D)       (None, 6, 6, 512)         2359808   \n",
            "                                                                 \n",
            " block4_conv3 (Conv2D)       (None, 6, 6, 512)         2359808   \n",
            "                                                                 \n",
            " block4_pool (MaxPooling2D)  (None, 3, 3, 512)         0         \n",
            "                                                                 \n",
            " block5_conv1 (Conv2D)       (None, 3, 3, 512)         2359808   \n",
            "                                                                 \n",
            " block5_conv2 (Conv2D)       (None, 3, 3, 512)         2359808   \n",
            "                                                                 \n",
            " block5_conv3 (Conv2D)       (None, 3, 3, 512)         2359808   \n",
            "                                                                 \n",
            " block5_pool (MaxPooling2D)  (None, 1, 1, 512)         0         \n",
            "                                                                 \n",
            " flatten_2 (Flatten)         (None, 512)               0         \n",
            "                                                                 \n",
            " my_dense1 (Dense)           (None, 512)               262656    \n",
            "                                                                 \n",
            " my_dense2 (Dense)           (None, 512)               262656    \n",
            "                                                                 \n",
            " my_dense3 (Dense)           (None, 100)               51300     \n",
            "                                                                 \n",
            " dropout_1 (Dropout)         (None, 100)               0         \n",
            "                                                                 \n",
            " my_dense4 (Dense)           (None, 8)                 808       \n",
            "                                                                 \n",
            "=================================================================\n",
            "Total params: 15,292,108\n",
            "Trainable params: 577,420\n",
            "Non-trainable params: 14,714,688\n",
            "_________________________________________________________________\n"
          ]
        }
      ],
      "source": [
        "fc2 = base_model.output\n",
        "fc2 = Flatten()(fc2)\n",
        "\n",
        "fc2 = Dense(512,activation='relu', name='my_dense1')(fc2)\n",
        "fc2 = Dense(512,activation='relu', name='my_dense2')(fc2)\n",
        "fc2 = Dense(100,activation='relu', name='my_dense3')(fc2)\n",
        "fc2 = Dropout(0.2)(fc2)\n",
        "\n",
        "fc2 = Dense(8,activation='softmax', name='my_dense4')(fc2)\n",
        "model_trans_2 = tf.compat.v1.keras.Model(base_model.input, fc2) #Current hack for TF 2.0 and keras\n",
        "model_trans_2.summary()"
      ]
    },
    {
      "cell_type": "code",
      "source": [
        "# Compile transformed model\n",
        "model_trans_2.compile(optimizer=SGD(), loss=\"categorical_crossentropy\", metrics=['accuracy'])\n",
        "\n",
        "# Fit transformed model\n",
        "history = model_trans_2.fit(X_train, Y_train_oh, validation_data=(X_valid, Y_valid_oh), epochs=5)\n",
        "\n",
        "# Plot\n",
        "plt.figure(figsize=(12,4))\n",
        "\n",
        "plt.subplot(1,2,(1))\n",
        "plt.plot(history.history['accuracy'],linestyle='-.')\n",
        "plt.plot(history.history['val_accuracy'])\n",
        "plt.title('Model Accuracy')\n",
        "plt.ylabel('Accuracy')\n",
        "plt.xlabel('Epoch')\n",
        "plt.legend(['training', 'validation'], loc='lower right')\n",
        "\n",
        "plt.subplot(1,2,(2))\n",
        "plt.plot(history.history['loss'], linestyle='-.')\n",
        "plt.plot(history.history['val_loss'])\n",
        "plt.title('Model Loss')\n",
        "plt.ylabel('Loss')\n",
        "plt.xlabel('Epoch')\n",
        "plt.legend(['training', 'validation'], loc='upper right')"
      ],
      "metadata": {
        "id": "jmEFAO8Ygi2T"
      },
      "execution_count": null,
      "outputs": []
    }
  ],
  "metadata": {
    "kernelspec": {
      "display_name": "Python 3",
      "language": "python",
      "name": "python3"
    },
    "language_info": {
      "codemirror_mode": {
        "name": "ipython",
        "version": 3
      },
      "file_extension": ".py",
      "mimetype": "text/x-python",
      "name": "python",
      "nbconvert_exporter": "python",
      "pygments_lexer": "ipython3",
      "version": "3.6.8"
    },
    "colab": {
      "name": "cl_cnn_faces_nolsg.ipynb",
      "provenance": [],
      "include_colab_link": true
    }
  },
  "nbformat": 4,
  "nbformat_minor": 0
}