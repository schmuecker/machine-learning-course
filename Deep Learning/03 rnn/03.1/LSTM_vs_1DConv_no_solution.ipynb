{
 "cells": [
  {
   "cell_type": "markdown",
   "metadata": {
    "colab_type": "text",
    "id": "kcB3r4vJpatQ"
   },
   "source": [
    "# Prediction of time series with different neural networks architectures\n",
    "\n",
    "In this notebook we will use different network architectures to predict the next steps for a time series. We compare: \n",
    "\n",
    "* 1D causal convolutional networks \n",
    "* 1D causal convolutional networks witho dilation rate\n",
    "* RNNs  \n",
    "* LSTMs\n",
    "\n",
    "We forecast a time series for longer times than we trained them on and compare the results of the different architectures. The goal is to capture the longterm dependencies of the time series.\n"
   ]
  },
  {
   "cell_type": "code",
   "execution_count": 13,
   "metadata": {
    "colab": {
     "base_uri": "https://localhost:8080/",
     "height": 35
    },
    "colab_type": "code",
    "id": "qGdc4oO6Bwt9",
    "outputId": "72ff3f71-ceab-41a1-c833-169d779b1f03"
   },
   "outputs": [],
   "source": [
    "try: #If running in colab \n",
    "    import google.colab\n",
    "    IN_COLAB = True \n",
    "    %tensorflow_version 2.x\n",
    "except:\n",
    "    IN_COLAB = False"
   ]
  },
  {
   "cell_type": "code",
   "execution_count": 27,
   "metadata": {
    "colab": {},
    "colab_type": "code",
    "id": "geSS6viBpatT"
   },
   "outputs": [],
   "source": [
    "# load required libraries:\n",
    "import numpy as np\n",
    "import matplotlib.pyplot as plt\n",
    "%matplotlib inline\n",
    "\n",
    "import tensorflow.keras as keras\n",
    "from tensorflow.keras.optimizers import SGD\n",
    "from tensorflow.keras.models import Sequential\n",
    "from tensorflow.keras.layers import Dense, Lambda, Convolution1D, LSTM, SimpleRNN\n"
   ]
  },
  {
   "cell_type": "markdown",
   "metadata": {
    "colab_type": "text",
    "id": "82ZRKcWopate"
   },
   "source": [
    "## Simulate some data\n",
    "\n",
    "We produce training data with two different time scales and a bit of noise. This produces 1000 curves which all follow the same pattern: a fast changing sine wave where the amplitude is modulated by a sine wave with lower frequency. To make it a bit more challenging, we add some noise at each timestep of the waves. All of the 1000 waves have the same pattern, however, the starting point is randomly shifted in time. One such example is shown the plot below. The first 128 data points are used as an input to the model (shown as a line). The model should predict the following 10 data points (shown as points). Note that the future data does not follow a smooth curve, but instead is ragged because of the random noise present in the data."
   ]
  },
  {
   "cell_type": "code",
   "execution_count": 87,
   "metadata": {
    "colab": {
     "base_uri": "https://localhost:8080/",
     "height": 315
    },
    "colab_type": "code",
    "id": "OlA9Vabapatf",
    "outputId": "3eb43c1c-9abd-4402-d28d-f74ef9b2304a"
   },
   "outputs": [
    {
     "name": "stdout",
     "output_type": "stream",
     "text": [
      "(128,)\n",
      "(10,)\n",
      "(128,)\n",
      "(10,)\n",
      "(1000, 128, 1)\n",
      "(1000, 10, 1)\n"
     ]
    },
    {
     "data": {
      "image/png": "[encoded data removed]",
      "text/plain": [
       "<Figure size 360x144 with 1 Axes>"
      ]
     },
     "metadata": {
      "needs_background": "light"
     },
     "output_type": "display_data"
    },
    {
     "data": {
      "image/png": "[encoded data removed]",
      "text/plain": [
       "<Figure size 360x144 with 1 Axes>"
      ]
     },
     "metadata": {
      "needs_background": "light"
     },
     "output_type": "display_data"
    },
    {
     "name": "stdout",
     "output_type": "stream",
     "text": [
      "The training data X (solid) line and the next predictions Y (dotted), which should be forecasted.\n"
     ]
    }
   ],
   "source": [
    "np.random.seed(1) # Fixing the seed, so that data is always the same\n",
    "seq_length = 128  # Sequence length used for training\n",
    "look_ahead =  10  # The number of data points the model should predict \n",
    "\n",
    "\n",
    "def gen_data(size=1000, noise=0.1): # We create 1000 data-points\n",
    "  s = seq_length + look_ahead\n",
    "  d = np.zeros((size, s,1))\n",
    "  for i in range(size):\n",
    "    start = np.random.uniform(0, 2*np.pi) # Random start point\n",
    "    d[i,:,0] = np.sin(start + np.linspace(0, 20*np.pi, s)) * np.sin(start + np.linspace(0, np.pi, s)) + np.random.normal(0,noise,s)\n",
    "  return d[:,0:seq_length], d[:,seq_length:s]\n",
    "\n",
    "\n",
    "X,Y = gen_data()\n",
    "for i in range(2):\n",
    "  print(X[i,:,0].shape)\n",
    "  print(Y[i,:,0].shape)\n",
    "  plt.figure(num=None, figsize=(5,2))  \n",
    "  plt.plot(range(0, seq_length),X[i,:,0],'b-')\n",
    "  plt.plot(range(seq_length, seq_length + look_ahead),Y[i,:,0],'bo',color='orange')\n",
    "\n",
    "print(X.shape)\n",
    "print(Y.shape)\n",
    "plt.show()\n",
    "print('The training data X (solid) line and the next predictions Y (dotted), which should be forecasted.')"
   ]
  },
  {
   "cell_type": "markdown",
   "metadata": {
    "colab_type": "text",
    "id": "YbHIUaw3paty"
   },
   "source": [
    "## A) 1D Convolution without dilation rate"
   ]
  },
  {
   "cell_type": "markdown",
   "metadata": {
    "colab_type": "text",
    "id": "M8xZadZfp_z_"
   },
   "source": [
    "### Build network\n",
    "Here we define a Neural network with 1D convolutions and \"causal\" padding. \n",
    "\n",
    "Build a first model using the causal convolutions. Don't specify the sequence length (batch_input_shape=(None, None, 1)), so you can use a different sequence length in prediction later. The network should have 4, 1-dimensional convolutional layers, with a kernelsize of `ks=5` and 32 feartures. Use the keras function `Convolution1D` for that. The network should report 10 values that the end. You can achive this with the function.\n",
    "\n",
    "```{pyhon}\n",
    "def slice(x, slice_length):\n",
    "    return x[:,-slice_length:,:]\n",
    "...\n",
    "model1.add(Lambda(slice, arguments={'slice_length':look_ahead}))\n",
    "```\n",
    "\n",
    "Which you add at the end of the network.\n",
    "\n",
    "Use the first 800 sequences for training and the last 200 for validation. As loss function we use the mean squared error (MSE). You should get a MSE of approx 0.02 to 0.03."
   ]
  },
  {
   "cell_type": "code",
   "execution_count": 39,
   "metadata": {
    "colab": {
     "base_uri": "https://localhost:8080/",
     "height": 363
    },
    "colab_type": "code",
    "id": "eicNaym0patz",
    "outputId": "ba6890af-f4f2-4fe6-fb58-3ea3a6408ddc"
   },
   "outputs": [
    {
     "name": "stdout",
     "output_type": "stream",
     "text": [
      "Model: \"sequential_17\"\n",
      "_________________________________________________________________\n",
      " Layer (type)                Output Shape              Param #   \n",
      "=================================================================\n",
      " conv1d_68 (Conv1D)          (None, None, 32)          192       \n",
      "                                                                 \n",
      " conv1d_69 (Conv1D)          (None, None, 32)          5152      \n",
      "                                                                 \n",
      " conv1d_70 (Conv1D)          (None, None, 32)          5152      \n",
      "                                                                 \n",
      " conv1d_71 (Conv1D)          (None, None, 32)          5152      \n",
      "                                                                 \n",
      " dense_14 (Dense)            (None, None, 1)           33        \n",
      "                                                                 \n",
      " lambda_16 (Lambda)          (None, None, 1)           0         \n",
      "                                                                 \n",
      "=================================================================\n",
      "Total params: 15,681\n",
      "Trainable params: 15,681\n",
      "Non-trainable params: 0\n",
      "_________________________________________________________________\n"
     ]
    }
   ],
   "source": [
    "\n",
    "def slice(x, slice_length):\n",
    "    return x[:,-slice_length:,:]\n",
    "\n",
    "model1 = keras.Sequential()\n",
    "\n",
    "# Layers\n",
    "model1.add(Convolution1D(32, kernel_size=5, batch_input_shape=(None, None, 1), padding=\"causal\"))\n",
    "\n",
    "model1.add(Convolution1D(32, kernel_size=5, padding=\"causal\"))\n",
    "\n",
    "model1.add(Convolution1D(32, kernel_size=5, padding=\"causal\"))\n",
    "\n",
    "model1.add(Convolution1D(32, kernel_size=5, padding=\"causal\"))\n",
    "\n",
    "model1.add(Dense(1))\n",
    "\n",
    "model1.add(Lambda(slice, arguments={'slice_length':look_ahead}))\n",
    "\n",
    "# Model\n",
    "model1.compile(loss=\"mean_squared_error\")\n",
    "\n",
    "model1.summary()"
   ]
  },
  {
   "cell_type": "code",
   "execution_count": 40,
   "metadata": {},
   "outputs": [
    {
     "name": "stdout",
     "output_type": "stream",
     "text": [
      "Epoch 1/40\n",
      "25/25 [==============================] - 2s 21ms/step - loss: 0.0578 - val_loss: 0.0406\n",
      "Epoch 2/40\n",
      "25/25 [==============================] - 0s 13ms/step - loss: 0.0393 - val_loss: 0.0446\n",
      "Epoch 3/40\n",
      "25/25 [==============================] - 0s 14ms/step - loss: 0.0363 - val_loss: 0.0250\n",
      "Epoch 4/40\n",
      "25/25 [==============================] - 0s 14ms/step - loss: 0.0329 - val_loss: 0.0295\n",
      "Epoch 5/40\n",
      "25/25 [==============================] - 0s 13ms/step - loss: 0.0335 - val_loss: 0.0271\n",
      "Epoch 6/40\n",
      "25/25 [==============================] - 0s 14ms/step - loss: 0.0329 - val_loss: 0.0247\n",
      "Epoch 7/40\n",
      "25/25 [==============================] - 0s 13ms/step - loss: 0.0331 - val_loss: 0.0244\n",
      "Epoch 8/40\n",
      "25/25 [==============================] - 0s 14ms/step - loss: 0.0307 - val_loss: 0.0276\n",
      "Epoch 9/40\n",
      "25/25 [==============================] - 0s 14ms/step - loss: 0.0305 - val_loss: 0.0276\n",
      "Epoch 10/40\n",
      "25/25 [==============================] - 0s 14ms/step - loss: 0.0289 - val_loss: 0.0234\n",
      "Epoch 11/40\n",
      "25/25 [==============================] - 0s 14ms/step - loss: 0.0301 - val_loss: 0.0257\n",
      "Epoch 12/40\n",
      "25/25 [==============================] - 0s 17ms/step - loss: 0.0308 - val_loss: 0.0234\n",
      "Epoch 13/40\n",
      "25/25 [==============================] - 0s 15ms/step - loss: 0.0282 - val_loss: 0.0265\n",
      "Epoch 14/40\n",
      "25/25 [==============================] - 0s 14ms/step - loss: 0.0279 - val_loss: 0.0253\n",
      "Epoch 15/40\n",
      "25/25 [==============================] - 0s 15ms/step - loss: 0.0295 - val_loss: 0.0342\n",
      "Epoch 16/40\n",
      "25/25 [==============================] - 0s 19ms/step - loss: 0.0291 - val_loss: 0.0314\n",
      "Epoch 17/40\n",
      "25/25 [==============================] - 0s 17ms/step - loss: 0.0287 - val_loss: 0.0251\n",
      "Epoch 18/40\n",
      "25/25 [==============================] - 0s 15ms/step - loss: 0.0272 - val_loss: 0.0241\n",
      "Epoch 19/40\n",
      "25/25 [==============================] - 0s 16ms/step - loss: 0.0294 - val_loss: 0.0286\n",
      "Epoch 20/40\n",
      "25/25 [==============================] - 0s 15ms/step - loss: 0.0282 - val_loss: 0.0239\n",
      "Epoch 21/40\n",
      "25/25 [==============================] - 0s 15ms/step - loss: 0.0283 - val_loss: 0.0291\n",
      "Epoch 22/40\n",
      "25/25 [==============================] - 0s 17ms/step - loss: 0.0288 - val_loss: 0.0241\n",
      "Epoch 23/40\n",
      "25/25 [==============================] - 0s 15ms/step - loss: 0.0263 - val_loss: 0.0271\n",
      "Epoch 24/40\n",
      "25/25 [==============================] - 0s 14ms/step - loss: 0.0280 - val_loss: 0.0281\n",
      "Epoch 25/40\n",
      "25/25 [==============================] - 0s 13ms/step - loss: 0.0274 - val_loss: 0.0269\n",
      "Epoch 26/40\n",
      "25/25 [==============================] - 0s 16ms/step - loss: 0.0279 - val_loss: 0.0245\n",
      "Epoch 27/40\n",
      "25/25 [==============================] - 0s 15ms/step - loss: 0.0272 - val_loss: 0.0257\n",
      "Epoch 28/40\n",
      "25/25 [==============================] - 0s 14ms/step - loss: 0.0275 - val_loss: 0.0220\n",
      "Epoch 29/40\n",
      "25/25 [==============================] - 0s 15ms/step - loss: 0.0263 - val_loss: 0.0228\n",
      "Epoch 30/40\n",
      "25/25 [==============================] - 0s 14ms/step - loss: 0.0272 - val_loss: 0.0220\n",
      "Epoch 31/40\n",
      "25/25 [==============================] - 0s 16ms/step - loss: 0.0271 - val_loss: 0.0244\n",
      "Epoch 32/40\n",
      "25/25 [==============================] - 0s 14ms/step - loss: 0.0270 - val_loss: 0.0250\n",
      "Epoch 33/40\n",
      "25/25 [==============================] - 0s 14ms/step - loss: 0.0271 - val_loss: 0.0228\n",
      "Epoch 34/40\n",
      "25/25 [==============================] - 0s 13ms/step - loss: 0.0280 - val_loss: 0.0268\n",
      "Epoch 35/40\n",
      "25/25 [==============================] - 0s 15ms/step - loss: 0.0265 - val_loss: 0.0261\n",
      "Epoch 36/40\n",
      "25/25 [==============================] - 0s 17ms/step - loss: 0.0262 - val_loss: 0.0238\n",
      "Epoch 37/40\n",
      "25/25 [==============================] - 0s 15ms/step - loss: 0.0263 - val_loss: 0.0257\n",
      "Epoch 38/40\n",
      "25/25 [==============================] - 0s 13ms/step - loss: 0.0269 - val_loss: 0.0231\n",
      "Epoch 39/40\n",
      "25/25 [==============================] - 0s 16ms/step - loss: 0.0268 - val_loss: 0.0229\n",
      "Epoch 40/40\n",
      "25/25 [==============================] - 0s 15ms/step - loss: 0.0267 - val_loss: 0.0222\n"
     ]
    },
    {
     "data": {
      "text/plain": [
       "<matplotlib.legend.Legend at 0x7fdadc33d070>"
      ]
     },
     "execution_count": 40,
     "metadata": {},
     "output_type": "execute_result"
    },
    {
     "data": {
      "image/png": "[encoded data removed]",
      "text/plain": [
       "<Figure size 864x288 with 1 Axes>"
      ]
     },
     "metadata": {
      "needs_background": "light"
     },
     "output_type": "display_data"
    }
   ],
   "source": [
    "X_train = X[:799]\n",
    "Y_train = Y[:799]\n",
    "X_valid = X[800:]\n",
    "Y_valid = Y[800:]\n",
    "\n",
    "history = model1.fit(X_train, Y_train, validation_data=(X_valid, Y_valid), epochs=40)\n",
    "\n",
    "# Plot\n",
    "plt.figure(figsize=(12,4))\n",
    "\n",
    "plt.subplot(1,2,(2))\n",
    "plt.plot(history.history['loss'], linestyle='-.')\n",
    "plt.plot(history.history['val_loss'])\n",
    "plt.title('Model Loss [MSE]')\n",
    "plt.ylabel('Loss')\n",
    "plt.xlabel('Epoch')\n",
    "plt.legend(['training', 'validation'], loc='upper right')"
   ]
  },
  {
   "cell_type": "markdown",
   "metadata": {
    "colab_type": "text",
    "id": "VKVL1GP9fF6C"
   },
   "source": [
    "### Make repeated predictions\n",
    "\n"
   ]
  },
  {
   "cell_type": "markdown",
   "metadata": {
    "colab_type": "text",
    "id": "_cR-davRpauF"
   },
   "source": [
    "Since we work with simulated data, we can produce as much new data as we like. We can also switch off the noise and check how well the model can extract the real underlying pattern in the data."
   ]
  },
  {
   "cell_type": "code",
   "execution_count": 45,
   "metadata": {
    "colab": {
     "base_uri": "https://localhost:8080/",
     "height": 104
    },
    "colab_type": "code",
    "id": "FRVVMvrhdy6J",
    "outputId": "73b71cb2-fb80-4ed6-e4ae-abd82efc0eda"
   },
   "outputs": [
    {
     "name": "stdout",
     "output_type": "stream",
     "text": [
      "(1, 128, 1)\n",
      "(1, 10, 1)\n"
     ]
    },
    {
     "data": {
      "text/plain": [
       "array([-0.00241323,  0.0644381 ,  0.14401615,  0.21691616,  0.2620422 ,\n",
       "        0.2622491 ,  0.20952779,  0.10831466, -0.0241059 , -0.16046087],\n",
       "      dtype=float32)"
      ]
     },
     "execution_count": 45,
     "metadata": {},
     "output_type": "execute_result"
    }
   ],
   "source": [
    "x_test,y_test = gen_data(size=1,noise=0.0)\n",
    "print(x_test.shape)\n",
    "print(y_test.shape)\n",
    "model1.predict(x_test).reshape(-1)#Predicts 10 value"
   ]
  },
  {
   "cell_type": "markdown",
   "metadata": {
    "colab_type": "text",
    "id": "Grw9QTLDepnB"
   },
   "source": [
    "Write a function which predicts 10 values from a starting sequence of size 128. Then add these predicted values to the starting sequence and uses this sequence of length 138 as a new starting sequence. Repeat this procedure 12 times. You should get a prediction for 120 time points in the future.  "
   ]
  },
  {
   "cell_type": "code",
   "execution_count": 83,
   "metadata": {
    "colab": {},
    "colab_type": "code",
    "id": "l3jEUp5FpauG"
   },
   "outputs": [
    {
     "name": "stdout",
     "output_type": "stream",
     "text": [
      "(1, 128, 1)\n",
      "(1, 248, 1)\n"
     ]
    }
   ],
   "source": [
    "x_test,y_test = gen_data(size=1,noise=0.0)\n",
    "def predict(sequence):\n",
    "    pred = model1.predict(sequence)\n",
    "    new_sequence = np.append(sequence, pred)\n",
    "    new_sequence = new_sequence.reshape((1,len(new_sequence),1))\n",
    "    return new_sequence\n",
    "\n",
    "y_pred = predict(x_test)\n",
    "for x in range(11):\n",
    "    y_pred = predict(y_pred)\n",
    "\n",
    "print(x_test.shape)\n",
    "print(y_pred.shape)"
   ]
  },
  {
   "cell_type": "code",
   "execution_count": 88,
   "metadata": {},
   "outputs": [
    {
     "name": "stdout",
     "output_type": "stream",
     "text": [
      "(128,)\n",
      "(248,)\n"
     ]
    },
    {
     "ename": "ValueError",
     "evalue": "x and y must have same first dimension, but have shapes (120,) and (248,)",
     "output_type": "error",
     "traceback": [
      "\u001b[0;31m---------------------------------------------------------------------------\u001b[0m",
      "\u001b[0;31mValueError\u001b[0m                                Traceback (most recent call last)",
      "\u001b[0;32m<ipython-input-88-1c729d8665c3>\u001b[0m in \u001b[0;36m<module>\u001b[0;34m\u001b[0m\n\u001b[1;32m      3\u001b[0m \u001b[0mplt\u001b[0m\u001b[0;34m.\u001b[0m\u001b[0mfigure\u001b[0m\u001b[0;34m(\u001b[0m\u001b[0mnum\u001b[0m\u001b[0;34m=\u001b[0m\u001b[0;32mNone\u001b[0m\u001b[0;34m,\u001b[0m \u001b[0mfigsize\u001b[0m\u001b[0;34m=\u001b[0m\u001b[0;34m(\u001b[0m\u001b[0;36m5\u001b[0m\u001b[0;34m,\u001b[0m\u001b[0;36m2\u001b[0m\u001b[0;34m)\u001b[0m\u001b[0;34m)\u001b[0m\u001b[0;34m\u001b[0m\u001b[0;34m\u001b[0m\u001b[0m\n\u001b[1;32m      4\u001b[0m \u001b[0mplt\u001b[0m\u001b[0;34m.\u001b[0m\u001b[0mplot\u001b[0m\u001b[0;34m(\u001b[0m\u001b[0mrange\u001b[0m\u001b[0;34m(\u001b[0m\u001b[0;36m0\u001b[0m\u001b[0;34m,\u001b[0m \u001b[0;36m128\u001b[0m\u001b[0;34m)\u001b[0m\u001b[0;34m,\u001b[0m\u001b[0mx_test\u001b[0m\u001b[0;34m[\u001b[0m\u001b[0;36m0\u001b[0m\u001b[0;34m,\u001b[0m\u001b[0;34m:\u001b[0m\u001b[0;34m,\u001b[0m\u001b[0;36m0\u001b[0m\u001b[0;34m]\u001b[0m\u001b[0;34m,\u001b[0m\u001b[0;34m'b-'\u001b[0m\u001b[0;34m)\u001b[0m\u001b[0;34m\u001b[0m\u001b[0;34m\u001b[0m\u001b[0m\n\u001b[0;32m----> 5\u001b[0;31m \u001b[0mplt\u001b[0m\u001b[0;34m.\u001b[0m\u001b[0mplot\u001b[0m\u001b[0;34m(\u001b[0m\u001b[0mrange\u001b[0m\u001b[0;34m(\u001b[0m\u001b[0;36m128\u001b[0m\u001b[0;34m,\u001b[0m \u001b[0;36m248\u001b[0m\u001b[0;34m)\u001b[0m\u001b[0;34m,\u001b[0m\u001b[0my_pred\u001b[0m\u001b[0;34m[\u001b[0m\u001b[0;36m0\u001b[0m\u001b[0;34m,\u001b[0m\u001b[0;34m:\u001b[0m\u001b[0;34m,\u001b[0m\u001b[0;36m0\u001b[0m\u001b[0;34m]\u001b[0m\u001b[0;34m,\u001b[0m\u001b[0;34m'bo'\u001b[0m\u001b[0;34m,\u001b[0m\u001b[0mcolor\u001b[0m\u001b[0;34m=\u001b[0m\u001b[0;34m'orange'\u001b[0m\u001b[0;34m)\u001b[0m\u001b[0;34m\u001b[0m\u001b[0;34m\u001b[0m\u001b[0m\n\u001b[0m\u001b[1;32m      6\u001b[0m \u001b[0;34m\u001b[0m\u001b[0m\n\u001b[1;32m      7\u001b[0m \u001b[0mplt\u001b[0m\u001b[0;34m.\u001b[0m\u001b[0mshow\u001b[0m\u001b[0;34m(\u001b[0m\u001b[0;34m)\u001b[0m\u001b[0;34m\u001b[0m\u001b[0;34m\u001b[0m\u001b[0m\n",
      "\u001b[0;32m/opt/anaconda3/lib/python3.8/site-packages/matplotlib/pyplot.py\u001b[0m in \u001b[0;36mplot\u001b[0;34m(scalex, scaley, data, *args, **kwargs)\u001b[0m\n\u001b[1;32m   2838\u001b[0m \u001b[0;34m@\u001b[0m\u001b[0m_copy_docstring_and_deprecators\u001b[0m\u001b[0;34m(\u001b[0m\u001b[0mAxes\u001b[0m\u001b[0;34m.\u001b[0m\u001b[0mplot\u001b[0m\u001b[0;34m)\u001b[0m\u001b[0;34m\u001b[0m\u001b[0;34m\u001b[0m\u001b[0m\n\u001b[1;32m   2839\u001b[0m \u001b[0;32mdef\u001b[0m \u001b[0mplot\u001b[0m\u001b[0;34m(\u001b[0m\u001b[0;34m*\u001b[0m\u001b[0margs\u001b[0m\u001b[0;34m,\u001b[0m \u001b[0mscalex\u001b[0m\u001b[0;34m=\u001b[0m\u001b[0;32mTrue\u001b[0m\u001b[0;34m,\u001b[0m \u001b[0mscaley\u001b[0m\u001b[0;34m=\u001b[0m\u001b[0;32mTrue\u001b[0m\u001b[0;34m,\u001b[0m \u001b[0mdata\u001b[0m\u001b[0;34m=\u001b[0m\u001b[0;32mNone\u001b[0m\u001b[0;34m,\u001b[0m \u001b[0;34m**\u001b[0m\u001b[0mkwargs\u001b[0m\u001b[0;34m)\u001b[0m\u001b[0;34m:\u001b[0m\u001b[0;34m\u001b[0m\u001b[0;34m\u001b[0m\u001b[0m\n\u001b[0;32m-> 2840\u001b[0;31m     return gca().plot(\n\u001b[0m\u001b[1;32m   2841\u001b[0m         \u001b[0;34m*\u001b[0m\u001b[0margs\u001b[0m\u001b[0;34m,\u001b[0m \u001b[0mscalex\u001b[0m\u001b[0;34m=\u001b[0m\u001b[0mscalex\u001b[0m\u001b[0;34m,\u001b[0m \u001b[0mscaley\u001b[0m\u001b[0;34m=\u001b[0m\u001b[0mscaley\u001b[0m\u001b[0;34m,\u001b[0m\u001b[0;34m\u001b[0m\u001b[0;34m\u001b[0m\u001b[0m\n\u001b[1;32m   2842\u001b[0m         **({\"data\": data} if data is not None else {}), **kwargs)\n",
      "\u001b[0;32m/opt/anaconda3/lib/python3.8/site-packages/matplotlib/axes/_axes.py\u001b[0m in \u001b[0;36mplot\u001b[0;34m(self, scalex, scaley, data, *args, **kwargs)\u001b[0m\n\u001b[1;32m   1741\u001b[0m         \"\"\"\n\u001b[1;32m   1742\u001b[0m         \u001b[0mkwargs\u001b[0m \u001b[0;34m=\u001b[0m \u001b[0mcbook\u001b[0m\u001b[0;34m.\u001b[0m\u001b[0mnormalize_kwargs\u001b[0m\u001b[0;34m(\u001b[0m\u001b[0mkwargs\u001b[0m\u001b[0;34m,\u001b[0m \u001b[0mmlines\u001b[0m\u001b[0;34m.\u001b[0m\u001b[0mLine2D\u001b[0m\u001b[0;34m)\u001b[0m\u001b[0;34m\u001b[0m\u001b[0;34m\u001b[0m\u001b[0m\n\u001b[0;32m-> 1743\u001b[0;31m         \u001b[0mlines\u001b[0m \u001b[0;34m=\u001b[0m \u001b[0;34m[\u001b[0m\u001b[0;34m*\u001b[0m\u001b[0mself\u001b[0m\u001b[0;34m.\u001b[0m\u001b[0m_get_lines\u001b[0m\u001b[0;34m(\u001b[0m\u001b[0;34m*\u001b[0m\u001b[0margs\u001b[0m\u001b[0;34m,\u001b[0m \u001b[0mdata\u001b[0m\u001b[0;34m=\u001b[0m\u001b[0mdata\u001b[0m\u001b[0;34m,\u001b[0m \u001b[0;34m**\u001b[0m\u001b[0mkwargs\u001b[0m\u001b[0;34m)\u001b[0m\u001b[0;34m]\u001b[0m\u001b[0;34m\u001b[0m\u001b[0;34m\u001b[0m\u001b[0m\n\u001b[0m\u001b[1;32m   1744\u001b[0m         \u001b[0;32mfor\u001b[0m \u001b[0mline\u001b[0m \u001b[0;32min\u001b[0m \u001b[0mlines\u001b[0m\u001b[0;34m:\u001b[0m\u001b[0;34m\u001b[0m\u001b[0;34m\u001b[0m\u001b[0m\n\u001b[1;32m   1745\u001b[0m             \u001b[0mself\u001b[0m\u001b[0;34m.\u001b[0m\u001b[0madd_line\u001b[0m\u001b[0;34m(\u001b[0m\u001b[0mline\u001b[0m\u001b[0;34m)\u001b[0m\u001b[0;34m\u001b[0m\u001b[0;34m\u001b[0m\u001b[0m\n",
      "\u001b[0;32m/opt/anaconda3/lib/python3.8/site-packages/matplotlib/axes/_base.py\u001b[0m in \u001b[0;36m__call__\u001b[0;34m(self, data, *args, **kwargs)\u001b[0m\n\u001b[1;32m    271\u001b[0m                 \u001b[0mthis\u001b[0m \u001b[0;34m+=\u001b[0m \u001b[0margs\u001b[0m\u001b[0;34m[\u001b[0m\u001b[0;36m0\u001b[0m\u001b[0;34m]\u001b[0m\u001b[0;34m,\u001b[0m\u001b[0;34m\u001b[0m\u001b[0;34m\u001b[0m\u001b[0m\n\u001b[1;32m    272\u001b[0m                 \u001b[0margs\u001b[0m \u001b[0;34m=\u001b[0m \u001b[0margs\u001b[0m\u001b[0;34m[\u001b[0m\u001b[0;36m1\u001b[0m\u001b[0;34m:\u001b[0m\u001b[0;34m]\u001b[0m\u001b[0;34m\u001b[0m\u001b[0;34m\u001b[0m\u001b[0m\n\u001b[0;32m--> 273\u001b[0;31m             \u001b[0;32myield\u001b[0m \u001b[0;32mfrom\u001b[0m \u001b[0mself\u001b[0m\u001b[0;34m.\u001b[0m\u001b[0m_plot_args\u001b[0m\u001b[0;34m(\u001b[0m\u001b[0mthis\u001b[0m\u001b[0;34m,\u001b[0m \u001b[0mkwargs\u001b[0m\u001b[0;34m)\u001b[0m\u001b[0;34m\u001b[0m\u001b[0;34m\u001b[0m\u001b[0m\n\u001b[0m\u001b[1;32m    274\u001b[0m \u001b[0;34m\u001b[0m\u001b[0m\n\u001b[1;32m    275\u001b[0m     \u001b[0;32mdef\u001b[0m \u001b[0mget_next_color\u001b[0m\u001b[0;34m(\u001b[0m\u001b[0mself\u001b[0m\u001b[0;34m)\u001b[0m\u001b[0;34m:\u001b[0m\u001b[0;34m\u001b[0m\u001b[0;34m\u001b[0m\u001b[0m\n",
      "\u001b[0;32m/opt/anaconda3/lib/python3.8/site-packages/matplotlib/axes/_base.py\u001b[0m in \u001b[0;36m_plot_args\u001b[0;34m(self, tup, kwargs)\u001b[0m\n\u001b[1;32m    397\u001b[0m \u001b[0;34m\u001b[0m\u001b[0m\n\u001b[1;32m    398\u001b[0m         \u001b[0;32mif\u001b[0m \u001b[0mx\u001b[0m\u001b[0;34m.\u001b[0m\u001b[0mshape\u001b[0m\u001b[0;34m[\u001b[0m\u001b[0;36m0\u001b[0m\u001b[0;34m]\u001b[0m \u001b[0;34m!=\u001b[0m \u001b[0my\u001b[0m\u001b[0;34m.\u001b[0m\u001b[0mshape\u001b[0m\u001b[0;34m[\u001b[0m\u001b[0;36m0\u001b[0m\u001b[0;34m]\u001b[0m\u001b[0;34m:\u001b[0m\u001b[0;34m\u001b[0m\u001b[0;34m\u001b[0m\u001b[0m\n\u001b[0;32m--> 399\u001b[0;31m             raise ValueError(f\"x and y must have same first dimension, but \"\n\u001b[0m\u001b[1;32m    400\u001b[0m                              f\"have shapes {x.shape} and {y.shape}\")\n\u001b[1;32m    401\u001b[0m         \u001b[0;32mif\u001b[0m \u001b[0mx\u001b[0m\u001b[0;34m.\u001b[0m\u001b[0mndim\u001b[0m \u001b[0;34m>\u001b[0m \u001b[0;36m2\u001b[0m \u001b[0;32mor\u001b[0m \u001b[0my\u001b[0m\u001b[0;34m.\u001b[0m\u001b[0mndim\u001b[0m \u001b[0;34m>\u001b[0m \u001b[0;36m2\u001b[0m\u001b[0;34m:\u001b[0m\u001b[0;34m\u001b[0m\u001b[0;34m\u001b[0m\u001b[0m\n",
      "\u001b[0;31mValueError\u001b[0m: x and y must have same first dimension, but have shapes (120,) and (248,)"
     ]
    },
    {
     "data": {
      "image/png": "[encoded data removed]",
      "text/plain": [
       "<Figure size 360x144 with 1 Axes>"
      ]
     },
     "metadata": {
      "needs_background": "light"
     },
     "output_type": "display_data"
    }
   ],
   "source": [
    "print(x_test[0,:,0].shape)\n",
    "print(y_pred[0,:,0].shape)\n",
    "plt.figure(num=None, figsize=(5,2))  \n",
    "plt.plot(range(0, 128),x_test[0,:,0],'b-')\n",
    "plt.plot(range(128, 248),y_pred[0,:,0],'bo',color='orange')\n",
    "\n",
    "plt.show()\n",
    "print('The training data X (solid) line and the next predictions Y (dotted), which should be forecasted.')"
   ]
  },
  {
   "cell_type": "markdown",
   "metadata": {
    "colab_type": "text",
    "id": "gii40ZQqs-DJ"
   },
   "source": [
    "## B) 1D Convolution with dilation rate\n"
   ]
  },
  {
   "cell_type": "markdown",
   "metadata": {
    "colab_type": "text",
    "id": "KG-10GeCsi_s"
   },
   "source": [
    "Here we define a Neural network with 1D convolutions and \"causal\" padding, this time with dilation rate, so we are able to look back longer in time (see figure below)\n",
    " \n",
    "![](https://i.stack.imgur.com/20xRe.png)"
   ]
  },
  {
   "cell_type": "markdown",
   "metadata": {
    "colab_type": "text",
    "id": "Xht-oURyid28"
   },
   "source": [
    "Build the same network as in A) but this time with dilation_rates 1,2,4,8 "
   ]
  },
  {
   "cell_type": "markdown",
   "metadata": {
    "colab_type": "text",
    "id": "zSznQxmZjGhU"
   },
   "source": [
    "### Make repeated predictions\n",
    "As in A) make preaded preditions on noise less data."
   ]
  },
  {
   "cell_type": "markdown",
   "metadata": {
    "colab_type": "text",
    "id": "Qmwo6fh9pauo"
   },
   "source": [
    "## C) Simple RNN\n",
    "\n",
    "Now, use a RNN cell Keras `SimpleRNN` to see if we are able to learn the data generating process. Start with a hidden state size of 12. Repeat the task from A) and B). Consider to add several layers of cells and play with the state size."
   ]
  },
  {
   "cell_type": "markdown",
   "metadata": {
    "colab_type": "text",
    "id": "Fe4y8qO5kGaG"
   },
   "source": [
    "### Make repeated predictions\n",
    "As in A) make preaded preditions on noise less data."
   ]
  },
  {
   "cell_type": "markdown",
   "metadata": {
    "colab_type": "text",
    "id": "sw8pkdW4l96k"
   },
   "source": [
    "## D) LSTM Cell\n",
    "Repeat C) but now with an LSTM cell."
   ]
  }
 ],
 "metadata": {
  "accelerator": "GPU",
  "colab": {
   "collapsed_sections": [],
   "name": "12_LSTM_vs_1DConv_solution.ipynb",
   "provenance": [],
   "toc_visible": true
  },
  "kernelspec": {
   "display_name": "Python 3",
   "language": "python",
   "name": "python3"
  },
  "language_info": {
   "codemirror_mode": {
    "name": "ipython",
    "version": 3
   },
   "file_extension": ".py",
   "mimetype": "text/x-python",
   "name": "python",
   "nbconvert_exporter": "python",
   "pygments_lexer": "ipython3",
   "version": "3.8.8"
  }
 },
 "nbformat": 4,
 "nbformat_minor": 1
}
