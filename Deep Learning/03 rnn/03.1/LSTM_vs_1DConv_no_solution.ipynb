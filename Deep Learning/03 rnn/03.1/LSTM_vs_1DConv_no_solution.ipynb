{
 "cells": [
  {
   "cell_type": "markdown",
   "metadata": {
    "colab_type": "text",
    "id": "kcB3r4vJpatQ"
   },
   "source": [
    "# Prediction of time series with different neural networks architectures\n",
    "\n",
    "In this notebook we will use different network architectures to predict the next steps for a time series. We compare: \n",
    "\n",
    "* 1D causal convolutional networks \n",
    "* 1D causal convolutional networks witho dilation rate\n",
    "* RNNs  \n",
    "* LSTMs\n",
    "\n",
    "We forecast a time series for longer times than we trained them on and compare the results of the different architectures. The goal is to capture the longterm dependencies of the time series.\n"
   ]
  },
  {
   "cell_type": "code",
   "execution_count": 1,
   "metadata": {
    "colab": {
     "base_uri": "https://localhost:8080/",
     "height": 35
    },
    "colab_type": "code",
    "id": "qGdc4oO6Bwt9",
    "outputId": "72ff3f71-ceab-41a1-c833-169d779b1f03"
   },
   "outputs": [
    {
     "name": "stdout",
     "output_type": "stream",
     "text": [
      "TensorFlow 2.x selected.\n"
     ]
    }
   ],
   "source": [
    "try: #If running in colab \n",
    "    import google.colab\n",
    "    IN_COLAB = True \n",
    "    %tensorflow_version 2.x\n",
    "except:\n",
    "    IN_COLAB = False"
   ]
  },
  {
   "cell_type": "code",
   "execution_count": 0,
   "metadata": {
    "colab": {},
    "colab_type": "code",
    "id": "geSS6viBpatT"
   },
   "outputs": [],
   "source": [
    "# load required libraries:\n",
    "import numpy as np\n",
    "import matplotlib.pyplot as plt\n",
    "%matplotlib inline\n",
    "\n",
    "from tensorflow.keras.models import Sequential\n",
    "from tensorflow.keras.layers import Dense, Lambda, Convolution1D,LSTM, SimpleRNN\n"
   ]
  },
  {
   "cell_type": "markdown",
   "metadata": {
    "colab_type": "text",
    "id": "82ZRKcWopate"
   },
   "source": [
    "## Simulate some data\n",
    "\n",
    "We produce training data with two different time scales and a bit of noise. This produces 1000 curves which all follow the same pattern: a fast changing sine wave where the amplitude is modulated by a sine wave with lower frequency. To make it a bit more challenging, we add some noise at each timestep of the waves. All of the 1000 waves have the same pattern, however, the starting point is randomly shifted in time. One such example is shown the plot below. The first 128 data points are used as an input to the model (shown as a line). The model should predict the following 10 data points (shown as points). Note that the future data does not follow a smooth curve, but instead is ragged because of the random noise present in the data."
   ]
  },
  {
   "cell_type": "code",
   "execution_count": 3,
   "metadata": {
    "colab": {
     "base_uri": "https://localhost:8080/",
     "height": 315
    },
    "colab_type": "code",
    "id": "OlA9Vabapatf",
    "outputId": "3eb43c1c-9abd-4402-d28d-f74ef9b2304a"
   },
   "outputs": [
    {
     "data": {
      "image/png": "[encoded data removed]",
      "text/plain": [
       "<Figure size 360x144 with 1 Axes>"
      ]
     },
     "metadata": {
      "tags": []
     },
     "output_type": "display_data"
    },
    {
     "data": {
      "image/png": "[encoded data removed]",
      "text/plain": [
       "<Figure size 360x144 with 1 Axes>"
      ]
     },
     "metadata": {
      "tags": []
     },
     "output_type": "display_data"
    },
    {
     "name": "stdout",
     "output_type": "stream",
     "text": [
      "The training data X (solid) line and the next predictions Y (dotted), which should be forecasted.\n"
     ]
    }
   ],
   "source": [
    "np.random.seed(1) # Fixing the seed, so that data is always the same\n",
    "seq_length = 128  # Sequence length used for training\n",
    "look_ahead =  10  # The number of data points the model should predict \n",
    "\n",
    "\n",
    "def gen_data(size=1000, noise=0.1): # We create 1000 data-points\n",
    "  s = seq_length + look_ahead\n",
    "  d = np.zeros((size, s,1))\n",
    "  for i in range(size):\n",
    "    start = np.random.uniform(0, 2*np.pi) # Random start point\n",
    "    d[i,:,0] = np.sin(start + np.linspace(0, 20*np.pi, s)) * np.sin(start + np.linspace(0, np.pi, s)) + np.random.normal(0,noise,s)\n",
    "  return d[:,0:seq_length], d[:,seq_length:s]\n",
    "\n",
    "\n",
    "X,Y = gen_data()\n",
    "for i in range(2):\n",
    "  plt.figure(num=None, figsize=(5,2))  \n",
    "  plt.plot(range(0, seq_length),X[i,:,0],'b-')\n",
    "  plt.plot(range(seq_length, seq_length + look_ahead),Y[i,:,0],'bo',color='orange')\n",
    "\n",
    "plt.show()\n",
    "print('The training data X (solid) line and the next predictions Y (dotted), which should be forecasted.')"
   ]
  },
  {
   "cell_type": "markdown",
   "metadata": {
    "colab_type": "text",
    "id": "YbHIUaw3paty"
   },
   "source": [
    "## A) 1D Convolution without dilation rate"
   ]
  },
  {
   "cell_type": "markdown",
   "metadata": {
    "colab_type": "text",
    "id": "M8xZadZfp_z_"
   },
   "source": [
    "### Build network\n",
    "Here we define a Neural network with 1D convolutions and \"causal\" padding. \n",
    "\n",
    "Build a first model using the causal convolutions. Don't specify the sequence length (batch_input_shape=(None, None, 1)), so you can use a different sequence length in prediction later. The network should have 4, 1-dimensional convolutional layers, with a kernelsize of `ks=5` and 32 feartures. Use the keras function `Convolution1D` for that. The network should report 10 values that the end. You can achive this with the function.\n",
    "\n",
    "```{pyhon}\n",
    "def slice(x, slice_length):\n",
    "    return x[:,-slice_length:,:]\n",
    "...\n",
    "model1.add(Lambda(slice, arguments={'slice_length':look_ahead}))\n",
    "```\n",
    "\n",
    "Which you add at the end of the network.\n",
    "\n",
    "Use the first 800 sequences for training and the last 200 for validation. As loss function we use the mean squared error (MSE). You should get a MSE of approx 0.02 to 0.03."
   ]
  },
  {
   "cell_type": "code",
   "execution_count": 4,
   "metadata": {
    "colab": {
     "base_uri": "https://localhost:8080/",
     "height": 363
    },
    "colab_type": "code",
    "id": "eicNaym0patz",
    "outputId": "ba6890af-f4f2-4fe6-fb58-3ea3a6408ddc"
   },
   "outputs": [
    {
     "name": "stdout",
     "output_type": "stream",
     "text": [
      "Model: \"sequential\"\n",
      "_________________________________________________________________\n",
      "Layer (type)                 Output Shape              Param #   \n",
      "=================================================================\n",
      "conv1d (Conv1D)              (None, None, 32)          192       \n",
      "_________________________________________________________________\n",
      "conv1d_1 (Conv1D)            (None, None, 32)          5152      \n",
      "_________________________________________________________________\n",
      "conv1d_2 (Conv1D)            (None, None, 32)          5152      \n",
      "_________________________________________________________________\n",
      "conv1d_3 (Conv1D)            (None, None, 32)          5152      \n",
      "_________________________________________________________________\n",
      "dense (Dense)                (None, None, 1)           33        \n",
      "_________________________________________________________________\n",
      "lambda (Lambda)              (None, None, 1)           0         \n",
      "=================================================================\n",
      "Total params: 15,681\n",
      "Trainable params: 15,681\n",
      "Non-trainable params: 0\n",
      "_________________________________________________________________\n"
     ]
    }
   ],
   "source": [
    "#YOUR_CODE_HERE"
   ]
  },
  {
   "cell_type": "markdown",
   "metadata": {
    "colab_type": "text",
    "id": "VKVL1GP9fF6C"
   },
   "source": [
    "### Make repeated predictions\n",
    "\n"
   ]
  },
  {
   "cell_type": "markdown",
   "metadata": {
    "colab_type": "text",
    "id": "_cR-davRpauF"
   },
   "source": [
    "Since we work with simulated data, we can produce as much new data as we like. We can also switch off the noise and check how well the model can extract the real underlying pattern in the data."
   ]
  },
  {
   "cell_type": "code",
   "execution_count": 6,
   "metadata": {
    "colab": {
     "base_uri": "https://localhost:8080/",
     "height": 104
    },
    "colab_type": "code",
    "id": "FRVVMvrhdy6J",
    "outputId": "73b71cb2-fb80-4ed6-e4ae-abd82efc0eda"
   },
   "outputs": [
    {
     "name": "stdout",
     "output_type": "stream",
     "text": [
      "(1, 128, 1)\n",
      "(1, 10, 1)\n"
     ]
    },
    {
     "data": {
      "text/plain": [
       "array([ 0.87065625,  0.7977788 ,  0.573365  ,  0.24733236, -0.11055928,\n",
       "       -0.42575493, -0.63458264, -0.69723564, -0.6053912 , -0.38299504],\n",
       "      dtype=float32)"
      ]
     },
     "execution_count": 6,
     "metadata": {
      "tags": []
     },
     "output_type": "execute_result"
    }
   ],
   "source": [
    "x_test,y_test = gen_data(size=1,noise=0.0)\n",
    "print(x_test.shape)\n",
    "print(y_test.shape)\n",
    "model1.predict(x_test).reshape(-1)#Predicts 10 value"
   ]
  },
  {
   "cell_type": "markdown",
   "metadata": {
    "colab_type": "text",
    "id": "Grw9QTLDepnB"
   },
   "source": [
    "Write a function which predicts 10 values from a starting sequence of size 128. Then add these predicted values to the starting sequence and uses this sequence of length 138 as a new starting sequence. Repeat this procedure 12 times. You should get a prediction for 120 time points in the future.  "
   ]
  },
  {
   "cell_type": "code",
   "execution_count": 0,
   "metadata": {
    "colab": {},
    "colab_type": "code",
    "id": "l3jEUp5FpauG"
   },
   "outputs": [],
   "source": [
    "# Your code here"
   ]
  },
  {
   "cell_type": "markdown",
   "metadata": {
    "colab_type": "text",
    "id": "gii40ZQqs-DJ"
   },
   "source": [
    "## B) 1D Convolution with dilation rate\n"
   ]
  },
  {
   "cell_type": "markdown",
   "metadata": {
    "colab_type": "text",
    "id": "KG-10GeCsi_s"
   },
   "source": [
    "Here we define a Neural network with 1D convolutions and \"causal\" padding, this time with dilation rate, so we are able to look back longer in time (see figure below)\n",
    " \n",
    "![](https://i.stack.imgur.com/20xRe.png)"
   ]
  },
  {
   "cell_type": "markdown",
   "metadata": {
    "colab_type": "text",
    "id": "Xht-oURyid28"
   },
   "source": [
    "Build the same network as in A) but this time with dilation_rates 1,2,4,8 "
   ]
  },
  {
   "cell_type": "markdown",
   "metadata": {
    "colab_type": "text",
    "id": "zSznQxmZjGhU"
   },
   "source": [
    "### Make repeated predictions\n",
    "As in A) make preaded preditions on noise less data."
   ]
  },
  {
   "cell_type": "markdown",
   "metadata": {
    "colab_type": "text",
    "id": "Qmwo6fh9pauo"
   },
   "source": [
    "## C) Simple RNN\n",
    "\n",
    "Now, use a RNN cell Keras `SimpleRNN` to see if we are able to learn the data generating process. Start with a hidden state size of 12. Repeat the task from A) and B). Consider to add several layers of cells and play with the state size."
   ]
  },
  {
   "cell_type": "markdown",
   "metadata": {
    "colab_type": "text",
    "id": "Fe4y8qO5kGaG"
   },
   "source": [
    "### Make repeated predictions\n",
    "As in A) make preaded preditions on noise less data."
   ]
  },
  {
   "cell_type": "markdown",
   "metadata": {
    "colab_type": "text",
    "id": "sw8pkdW4l96k"
   },
   "source": [
    "## D) LSTM Cell\n",
    "Repeat C) but now with an LSTM cell."
   ]
  }
 ],
 "metadata": {
  "accelerator": "GPU",
  "colab": {
   "collapsed_sections": [],
   "name": "12_LSTM_vs_1DConv_solution.ipynb",
   "provenance": [],
   "toc_visible": true
  },
  "kernelspec": {
   "display_name": "Python 3",
   "language": "python",
   "name": "python3"
  },
  "language_info": {
   "codemirror_mode": {
    "name": "ipython",
    "version": 3
   },
   "file_extension": ".py",
   "mimetype": "text/x-python",
   "name": "python",
   "nbconvert_exporter": "python",
   "pygments_lexer": "ipython3",
   "version": "3.6.8"
  }
 },
 "nbformat": 4,
 "nbformat_minor": 1
}