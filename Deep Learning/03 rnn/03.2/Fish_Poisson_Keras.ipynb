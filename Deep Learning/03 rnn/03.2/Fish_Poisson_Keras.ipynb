{
 "cells": [
  {
   "cell_type": "markdown",
   "metadata": {
    "colab_type": "text",
    "id": "EIolRLmR2tJc"
   },
   "source": [
    "# Neural Networks for Count Data \n",
    "\n",
    "Redo the Poisson Regression for the fish data set, now with keras. From the previous exercise:\n",
    "\n",
    "## Fish Data Set\n",
    "\n",
    "The following data-set contains the number of Fish a group of camper caught in a state park (taken from https://stats.idre.ucla.edu/r/dae/zip/). Your task here is to predict the number of fish $y$ caught by a fishing party. We have a small data set, of 250 groups, which visited a state park and provided the following information: \n",
    "\n",
    "* how many people are in the group\n",
    "* the number children in the group\n",
    "* the use of live bait\n",
    "* whether the group came with a camper to the park. \n",
    "\n",
    "Split the data set into a training set and testset. Use the first 200 entries for training, the remaining 50 for testing. See below for code how to read the data."
   ]
  },
  {
   "cell_type": "code",
   "execution_count": 0,
   "metadata": {
    "colab": {},
    "colab_type": "code",
    "id": "YsAt_vDL3jFG"
   },
   "outputs": [],
   "source": [
    "import matplotlib.pyplot as plt\n",
    "import numpy as np\n",
    "import pandas as pd\n",
    "%matplotlib inline"
   ]
  },
  {
   "cell_type": "code",
   "execution_count": 0,
   "metadata": {
    "colab": {
     "base_uri": "https://localhost:8080/",
     "height": 111
    },
    "colab_type": "code",
    "id": "8zoZAYtO4FHE",
    "outputId": "5ad02e25-b532-47fa-b8af-7af9e8b7a650"
   },
   "outputs": [
    {
     "data": {
      "text/html": [
       "<div>\n",
       "<style scoped>\n",
       "    .dataframe tbody tr th:only-of-type {\n",
       "        vertical-align: middle;\n",
       "    }\n",
       "\n",
       "    .dataframe tbody tr th {\n",
       "        vertical-align: top;\n",
       "    }\n",
       "\n",
       "    .dataframe thead th {\n",
       "        text-align: right;\n",
       "    }\n",
       "</style>\n",
       "<table border=\"1\" class=\"dataframe\">\n",
       "  <thead>\n",
       "    <tr style=\"text-align: right;\">\n",
       "      <th></th>\n",
       "      <th>0</th>\n",
       "      <th>1</th>\n",
       "      <th>2</th>\n",
       "      <th>3</th>\n",
       "    </tr>\n",
       "  </thead>\n",
       "  <tbody>\n",
       "    <tr>\n",
       "      <th>0</th>\n",
       "      <td>1.0</td>\n",
       "      <td>0.0</td>\n",
       "      <td>4.0</td>\n",
       "      <td>0.0</td>\n",
       "    </tr>\n",
       "    <tr>\n",
       "      <th>1</th>\n",
       "      <td>1.0</td>\n",
       "      <td>1.0</td>\n",
       "      <td>2.0</td>\n",
       "      <td>0.0</td>\n",
       "    </tr>\n",
       "  </tbody>\n",
       "</table>\n",
       "</div>"
      ],
      "text/plain": [
       "     0    1    2    3\n",
       "0  1.0  0.0  4.0  0.0\n",
       "1  1.0  1.0  2.0  0.0"
      ]
     },
     "execution_count": 3,
     "metadata": {
      "tags": []
     },
     "output_type": "execute_result"
    }
   ],
   "source": [
    "# from sklearn.model_selection import train_test_split\n",
    "# X_train, X_test, y_train, y_test = train_test_split(X, y, test_size=0.2, random_state=42,shuffle=True)\n",
    "# np.savez('fishing.npz', X_train=X_train, X_test=X_test, y_train=y_train, y_test=y_test)\n",
    "#https://github.com/ioskn/mldl_htwg/raw/master/data/fishing.npz\n",
    "import os\n",
    "from urllib.request import urlretrieve\n",
    "if not os.path.isfile('fishing.npz'):\n",
    "    print(\"Downloading\")\n",
    "    urlretrieve('http://www-home.htwg-konstanz.de/~oduerr/data/fishing.npz',filename = 'fishing.npz')\n",
    "d = np.load('fishing.npz')\n",
    "X_train = d['Xt'] #\"livebait\",\"camper\",\"persons\",\"child\"\n",
    "X_test = d['Xte']\n",
    "y_train = d['yt']\n",
    "y_test = d['yte']\n",
    "pd.DataFrame(X_train[0:2])"
   ]
  },
  {
   "cell_type": "markdown",
   "metadata": {
    "colab_type": "text",
    "id": "4-uaG92sPBXg"
   },
   "source": [
    "## Results from the Machine Learning excercise, we had. "
   ]
  },
  {
   "cell_type": "markdown",
   "metadata": {
    "colab_type": "text",
    "id": "_uiqzQZnChZ_"
   },
   "source": [
    "### LinearRegression"
   ]
  },
  {
   "cell_type": "code",
   "execution_count": 0,
   "metadata": {
    "colab": {
     "base_uri": "https://localhost:8080/",
     "height": 34
    },
    "colab_type": "code",
    "id": "lFLrY1YtNClk",
    "outputId": "d7779272-1b27-4096-e4ec-697001f2bc7e"
   },
   "outputs": [
    {
     "data": {
      "text/plain": [
       "array([-8.49222821,  2.4822138 ,  2.95430727,  4.64953914, -5.47160051])"
      ]
     },
     "execution_count": 6,
     "metadata": {
      "tags": []
     },
     "output_type": "execute_result"
    }
   ],
   "source": [
    "from sklearn.linear_model import LinearRegression\n",
    "Xd = np.hstack([np.ones((X_train.shape[0],1)), X_train])\n",
    "pd.DataFrame(Xd[0:2])\n",
    "Xdt = np.hstack([np.ones((X_test.shape[0],1)), X_test])\n",
    "X_train.shape,Xd.shape\n",
    "model_skl = LinearRegression(fit_intercept=False)\n",
    "res = model_skl.fit(Xd, y_train)\n",
    "res.coef_"
   ]
  },
  {
   "cell_type": "markdown",
   "metadata": {
    "colab_type": "text",
    "id": "pNIUUugxPmSZ"
   },
   "source": [
    "#### RMSE and NLL\n",
    "Determine the Root Mean Square Error (RMSE) and the average negative log-likelihood (NLL) on the testset. For NLL we assume that the conditional probability distrubution (CPD) $p(y|x)$ is given by the density of a Gaussian with constant variance $\\sigma^2$. Estimate $\\sigma^2$ using the variance of the residuals. Use the variance estimation with $1/N$. \n"
   ]
  },
  {
   "cell_type": "code",
   "execution_count": 0,
   "metadata": {
    "colab": {
     "base_uri": "https://localhost:8080/",
     "height": 34
    },
    "colab_type": "code",
    "id": "hmtWgh0xPYca",
    "outputId": "44bf40a7-3fab-4e7a-9eee-6cc466a1980a"
   },
   "outputs": [
    {
     "data": {
      "text/plain": [
       "(8.588126386734233, 73.75591483452078, (50, 5))"
      ]
     },
     "execution_count": 7,
     "metadata": {
      "tags": []
     },
     "output_type": "execute_result"
    }
   ],
   "source": [
    "ypred = model_skl.predict(Xdt)\n",
    "#ypred = np.ones_like(y_test) * np.median(y_train)\n",
    "sigma_hat_2 = np.mean((y_test - ypred.flatten())**2)\n",
    "np.sqrt(sigma_hat_2),sigma_hat_2,Xdt.shape"
   ]
  },
  {
   "cell_type": "code",
   "execution_count": 0,
   "metadata": {
    "colab": {
     "base_uri": "https://localhost:8080/",
     "height": 34
    },
    "colab_type": "code",
    "id": "MLg_A70-QbJr",
    "outputId": "a57c6bb0-cd23-44d1-bf60-2656a62a3ceb"
   },
   "outputs": [
    {
     "data": {
      "text/plain": [
       "3.56931912977969"
      ]
     },
     "execution_count": 8,
     "metadata": {
      "tags": []
     },
     "output_type": "execute_result"
    }
   ],
   "source": [
    "0.5*np.log(2 * np.pi * sigma_hat_2) + 0.5*np.mean((y_test - ypred.flatten())**2)/sigma_hat_2"
   ]
  },
  {
   "cell_type": "markdown",
   "metadata": {
    "colab_type": "text",
    "id": "PLl18uW6D507"
   },
   "source": [
    "#### Comparison with test set"
   ]
  },
  {
   "cell_type": "markdown",
   "metadata": {
    "colab_type": "text",
    "id": "nCJHxadORefq"
   },
   "source": [
    "For the testset: plot the mean of the predicted number of fish caught against observed number of fish caught. Further include the 2.5 and 97.25 precentile of p(y|x), the conditional predictive distribution (CPD) of $y$ for a given $x$. Why is a Gaussian not ideal for that kind of data? For the Gaussian the 2.5% and the 97.5% percentile is approximatiy given by $\\mu \\pm 1.96*\\sigma$"
   ]
  },
  {
   "cell_type": "code",
   "execution_count": 0,
   "metadata": {
    "colab": {
     "base_uri": "https://localhost:8080/",
     "height": 295
    },
    "colab_type": "code",
    "id": "f51ByX5wSjPa",
    "outputId": "2fce8f60-ebdb-493a-f3a9-6950c7f0bae0"
   },
   "outputs": [
    {
     "data": {
      "image/png": "[encoded data removed]",
      "text/plain": [
       "<Figure size 432x288 with 1 Axes>"
      ]
     },
     "metadata": {
      "tags": []
     },
     "output_type": "display_data"
    }
   ],
   "source": [
    "plt.scatter(ypred, y_test,alpha=0.3)\n",
    "sort_idx=np.argsort(ypred,axis=0)\n",
    "plt.plot(ypred[sort_idx].flatten(), ypred[sort_idx].flatten()+1.96*np.sqrt(sigma_hat_2),linestyle='dashed',c=\"black\")\n",
    "plt.plot(ypred[sort_idx].flatten(), ypred[sort_idx].flatten()-1.96*np.sqrt(sigma_hat_2),linestyle='dashed',c=\"black\")\n",
    "plt.plot(ypred, ypred, c=\"black\")\n",
    "plt.title('Comparison on the testset')\n",
    "plt.xlabel('predicted average of caught fish')\n",
    "plt.ylabel('observed number of caught fish')\n",
    "plt.xlim(-5,15)\n",
    "plt.ylim(-5,15)\n",
    "plt.show()"
   ]
  },
  {
   "cell_type": "markdown",
   "metadata": {
    "colab_type": "text",
    "id": "XXsavhRVU4BJ"
   },
   "source": [
    "### Poisson\n",
    "\n",
    "This data is count data. Count data has only positive values and also the distribution is discrete. You cannot catch 0.5 fish and that the CPD has probability on negative number of fish is fishy too. A Gaussian as a CPD is therefore not ideal. Now use a Poissonian as CPD. If we assume a Poissonian then the probability to catch $k$ fish is given by \n",
    "$$\n",
    "  p(k) = \\exp(-\\mu) \\frac{\\mu^k}{k!}\n",
    "$$\n",
    "\n",
    "and the NLL is thus by:\n",
    "\n",
    "$$\n",
    " log(p(k)) = -\\mu  + k \\cdot \\log(\\mu) - log(k!)\n",
    "$$\n",
    "\n",
    "with $\\mu$ being the expectation. In our case the average number of fish expected.\n",
    "\n",
    "In the case of the probabilistic interpretation of the linear regression, $y_i$ for a given $x_i$ is distributed like a Gaussian. The paramter $\\mu_i$ from $N(\\mu_i,\\sigma^2)$ has been determined from $x_i$ via $\\mu_i= \\beta^T \\cdot x_i$. Nown in the Poissonian, $\\mu_i$ needs to be positive. We therefore pipe $\\beta^T \\cdot x_i$ through an exponential first to make it positive and can so determine $\\mu_i=exp(\\beta^T \\cdot x_i)$.\n",
    "\n",
    "Use a gradient descent approach to find the solution for the parameters. Calculate the RMSE and the NLL on the test set.\n",
    "\n",
    "Hint: On the trainingset the NLL for the parameter values (1,1,1,1,1) should be approx 1508 and the gradient "
   ]
  },
  {
   "cell_type": "code",
   "execution_count": 0,
   "metadata": {
    "colab": {
     "base_uri": "https://localhost:8080/",
     "height": 34
    },
    "colab_type": "code",
    "id": "HL_GpshBU4BJ",
    "outputId": "1560dedc-f3e6-4455-f474-b90e0c150657"
   },
   "outputs": [
    {
     "data": {
      "text/plain": [
       "1507.9856602262082"
      ]
     },
     "execution_count": 10,
     "metadata": {
      "tags": []
     },
     "output_type": "execute_result"
    }
   ],
   "source": [
    "def NLL(y_train, Xd, w):\n",
    "    mu = np.exp(np.matmul(Xd,w))\n",
    "    ret = np.zeros_like(mu)\n",
    "    for i in range(ret.shape[0]):\n",
    "        ret[i] = mu[i] - y_train[i]*np.log(mu[i]) + np.log(1.0*np.math.factorial(y_train[i]))\n",
    "    return np.mean(ret)\n",
    "w = np.ones(5)\n",
    "NLL(y_train, Xd,w)"
   ]
  },
  {
   "cell_type": "code",
   "execution_count": 0,
   "metadata": {
    "colab": {
     "base_uri": "https://localhost:8080/",
     "height": 34
    },
    "colab_type": "code",
    "id": "LwpfoYG-U4BL",
    "outputId": "3cf4dd06-24bf-417e-dbb3-679193216af5"
   },
   "outputs": [
    {
     "data": {
      "text/plain": [
       "array([-1518.61, -1403.99, -1171.02, -5701.91, -3258.7 ])"
      ]
     },
     "execution_count": 11,
     "metadata": {
      "tags": []
     },
     "output_type": "execute_result"
    }
   ],
   "source": [
    "def gradNLL(y_train, Xd, w):\n",
    "    mu = np.exp(np.matmul(Xd,w))\n",
    "    #print(mu.shape)\n",
    "    ret = np.zeros_like(Xd)\n",
    "    for i in range(Xd.shape[0]):\n",
    "        mux = Xd[i] * mu[i]\n",
    "        ret[i] = -mux + y_train[i] *Xd[i]\n",
    "    return np.mean(ret, axis=0)\n",
    "\n",
    "NLL(y_train, Xd,np.ones(5))\n",
    "np.round(gradNLL(y_train, Xd,np.ones(5)),2)\n",
    "#1518.61, 1403.99, 1171.02, 5701.91, 3258.7"
   ]
  },
  {
   "cell_type": "code",
   "execution_count": 0,
   "metadata": {
    "colab": {
     "base_uri": "https://localhost:8080/",
     "height": 68
    },
    "colab_type": "code",
    "id": "DjXqvYyqU4BN",
    "outputId": "5184b8fa-b50a-436c-c8a1-8c831306fc26"
   },
   "outputs": [
    {
     "name": "stderr",
     "output_type": "stream",
     "text": [
      "100%|██████████| 10000/10000 [00:13<00:00, 720.87it/s]\n"
     ]
    },
    {
     "data": {
      "text/plain": [
       "(array([-1.74007527,  0.56500613,  0.66091814,  0.93220074, -1.62023821]),\n",
       " 3.3806067025761606)"
      ]
     },
     "execution_count": 12,
     "metadata": {
      "tags": []
     },
     "output_type": "execute_result"
    }
   ],
   "source": [
    "from tqdm import tqdm \n",
    "w = np.ones(5)\n",
    "hist = []\n",
    "for i in tqdm(range(10000)):\n",
    "    if (i % 10 == 0):\n",
    "        hist.append(NLL(y_train, Xd,w))\n",
    "    w = w + 0.001 * gradNLL(y_train, Xd,w)\n",
    "w, NLL(y_train, Xd,w)"
   ]
  },
  {
   "cell_type": "code",
   "execution_count": 0,
   "metadata": {
    "colab": {
     "base_uri": "https://localhost:8080/",
     "height": 286
    },
    "colab_type": "code",
    "id": "tRV1sLkQU4BO",
    "outputId": "88b17695-3df7-49c9-ce6b-87f30da200ed"
   },
   "outputs": [
    {
     "data": {
      "text/plain": [
       "(0, 5)"
      ]
     },
     "execution_count": 13,
     "metadata": {
      "tags": []
     },
     "output_type": "execute_result"
    },
    {
     "data": {
      "image/png": "[encoded data removed]",
      "text/plain": [
       "<Figure size 432x288 with 1 Axes>"
      ]
     },
     "metadata": {
      "tags": []
     },
     "output_type": "display_data"
    }
   ],
   "source": [
    "plt.plot(hist)\n",
    "plt.ylim(0,5)"
   ]
  },
  {
   "cell_type": "code",
   "execution_count": 0,
   "metadata": {
    "colab": {
     "base_uri": "https://localhost:8080/",
     "height": 34
    },
    "colab_type": "code",
    "id": "j-HhXc7GU4BQ",
    "outputId": "d2743421-6e15-4202-9b28-a02fb7d3d842"
   },
   "outputs": [
    {
     "data": {
      "text/plain": [
       "(7.389176645536159, 2.8768358338221565)"
      ]
     },
     "execution_count": 14,
     "metadata": {
      "tags": []
     },
     "output_type": "execute_result"
    }
   ],
   "source": [
    "mupred = np.exp(np.matmul(Xdt, w))\n",
    "np.sqrt(np.mean((mupred - y_test)**2)), NLL(y_test, Xdt,w)"
   ]
  },
  {
   "cell_type": "markdown",
   "metadata": {
    "colab_type": "text",
    "id": "rtumKjuJEVKE"
   },
   "source": [
    "## A) Poisson Regression using a NN build with Keras\n",
    "\n",
    "Redo the analysis from above using Keras. You may (but don't have to) use tfp."
   ]
  },
  {
   "cell_type": "code",
   "execution_count": 1,
   "metadata": {
    "colab": {},
    "colab_type": "code",
    "id": "z4hUQh2aHFje"
   },
   "outputs": [],
   "source": [
    "# Your Code Here"
   ]
  },
  {
   "cell_type": "code",
   "execution_count": null,
   "metadata": {},
   "outputs": [],
   "source": []
  }
 ],
 "metadata": {
  "colab": {
   "collapsed_sections": [],
   "name": "Fish_Poisson_Keras.ipynb",
   "provenance": [],
   "toc_visible": true
  },
  "kernelspec": {
   "display_name": "Python 3",
   "language": "python",
   "name": "python3"
  },
  "language_info": {
   "codemirror_mode": {
    "name": "ipython",
    "version": 3
   },
   "file_extension": ".py",
   "mimetype": "text/x-python",
   "name": "python",
   "nbconvert_exporter": "python",
   "pygments_lexer": "ipython3",
   "version": "3.6.8"
  }
 },
 "nbformat": 4,
 "nbformat_minor": 1
}