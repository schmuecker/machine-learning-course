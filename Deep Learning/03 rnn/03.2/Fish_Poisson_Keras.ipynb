{
 "cells": [
  {
   "cell_type": "markdown",
   "metadata": {
    "colab_type": "text",
    "id": "EIolRLmR2tJc"
   },
   "source": [
    "# Neural Networks for Count Data \n",
    "\n",
    "Redo the Poisson Regression for the fish data set, now with keras. From the previous exercise:\n",
    "\n",
    "## Fish Data Set\n",
    "\n",
    "The following data-set contains the number of Fish a group of camper caught in a state park (taken from https://stats.idre.ucla.edu/r/dae/zip/). Your task here is to predict the number of fish $y$ caught by a fishing party. We have a small data set, of 250 groups, which visited a state park and provided the following information: \n",
    "\n",
    "* how many people are in the group\n",
    "* the number children in the group\n",
    "* the use of live bait\n",
    "* whether the group came with a camper to the park. \n",
    "\n",
    "Split the data set into a training set and testset. Use the first 200 entries for training, the remaining 50 for testing. See below for code how to read the data."
   ]
  },
  {
   "cell_type": "code",
   "execution_count": 75,
   "metadata": {
    "colab": {},
    "colab_type": "code",
    "id": "YsAt_vDL3jFG"
   },
   "outputs": [],
   "source": [
    "import matplotlib.pyplot as plt\n",
    "import numpy as np\n",
    "import pandas as pd\n",
    "%matplotlib inline"
   ]
  },
  {
   "cell_type": "code",
   "execution_count": 76,
   "metadata": {
    "colab": {
     "base_uri": "https://localhost:8080/",
     "height": 111
    },
    "colab_type": "code",
    "id": "8zoZAYtO4FHE",
    "outputId": "5ad02e25-b532-47fa-b8af-7af9e8b7a650"
   },
   "outputs": [
    {
     "data": {
      "text/plain": "     0    1    2    3\n0  1.0  0.0  4.0  0.0\n1  1.0  1.0  2.0  0.0",
      "text/html": "<div>\n<style scoped>\n    .dataframe tbody tr th:only-of-type {\n        vertical-align: middle;\n    }\n\n    .dataframe tbody tr th {\n        vertical-align: top;\n    }\n\n    .dataframe thead th {\n        text-align: right;\n    }\n</style>\n<table border=\"1\" class=\"dataframe\">\n  <thead>\n    <tr style=\"text-align: right;\">\n      <th></th>\n      <th>0</th>\n      <th>1</th>\n      <th>2</th>\n      <th>3</th>\n    </tr>\n  </thead>\n  <tbody>\n    <tr>\n      <th>0</th>\n      <td>1.0</td>\n      <td>0.0</td>\n      <td>4.0</td>\n      <td>0.0</td>\n    </tr>\n    <tr>\n      <th>1</th>\n      <td>1.0</td>\n      <td>1.0</td>\n      <td>2.0</td>\n      <td>0.0</td>\n    </tr>\n  </tbody>\n</table>\n</div>"
     },
     "execution_count": 76,
     "metadata": {},
     "output_type": "execute_result"
    }
   ],
   "source": [
    "# from sklearn.model_selection import train_test_split\n",
    "# X_train, X_test, y_train, y_test = train_test_split(X, y, test_size=0.2, random_state=42,shuffle=True)\n",
    "# np.savez('fishing.npz', X_train=X_train, X_test=X_test, y_train=y_train, y_test=y_test)\n",
    "#https://github.com/ioskn/mldl_htwg/raw/master/data/fishing.npz\n",
    "import os\n",
    "from urllib.request import urlretrieve\n",
    "if not os.path.isfile('fishing.npz'):\n",
    "    print(\"Downloading\")\n",
    "    urlretrieve('http://www-home.htwg-konstanz.de/~oduerr/data/fishing.npz',filename = 'fishing.npz')\n",
    "d = np.load('fishing.npz')\n",
    "X_train = d['Xt'] #\"livebait\",\"camper\",\"persons\",\"child\"\n",
    "X_test = d['Xte']\n",
    "y_train = d['yt']\n",
    "y_test = d['yte']\n",
    "pd.DataFrame(X_train[0:2])"
   ]
  },
  {
   "cell_type": "markdown",
   "metadata": {
    "colab_type": "text",
    "id": "4-uaG92sPBXg"
   },
   "source": [
    "## Results from the Machine Learning excercise, we had. "
   ]
  },
  {
   "cell_type": "markdown",
   "metadata": {
    "colab_type": "text",
    "id": "_uiqzQZnChZ_"
   },
   "source": [
    "### LinearRegression"
   ]
  },
  {
   "cell_type": "code",
   "execution_count": 77,
   "metadata": {
    "colab": {
     "base_uri": "https://localhost:8080/",
     "height": 34
    },
    "colab_type": "code",
    "id": "lFLrY1YtNClk",
    "outputId": "d7779272-1b27-4096-e4ec-697001f2bc7e"
   },
   "outputs": [
    {
     "data": {
      "text/plain": "array([-8.49222821,  2.4822138 ,  2.95430727,  4.64953914, -5.47160051])"
     },
     "execution_count": 77,
     "metadata": {},
     "output_type": "execute_result"
    }
   ],
   "source": [
    "from sklearn.linear_model import LinearRegression\n",
    "Xd = np.hstack([np.ones((X_train.shape[0],1)), X_train])\n",
    "pd.DataFrame(Xd[0:2])\n",
    "Xdt = np.hstack([np.ones((X_test.shape[0],1)), X_test])\n",
    "X_train.shape,Xd.shape\n",
    "model_skl = LinearRegression(fit_intercept=False)\n",
    "res = model_skl.fit(Xd, y_train)\n",
    "res.coef_"
   ]
  },
  {
   "cell_type": "markdown",
   "metadata": {
    "colab_type": "text",
    "id": "pNIUUugxPmSZ"
   },
   "source": [
    "#### RMSE and NLL\n",
    "Determine the Root Mean Square Error (RMSE) and the average negative log-likelihood (NLL) on the testset. For NLL we assume that the conditional probability distrubution (CPD) $p(y|x)$ is given by the density of a Gaussian with constant variance $\\sigma^2$. Estimate $\\sigma^2$ using the variance of the residuals. Use the variance estimation with $1/N$. \n"
   ]
  },
  {
   "cell_type": "code",
   "execution_count": 78,
   "metadata": {
    "colab": {
     "base_uri": "https://localhost:8080/",
     "height": 34
    },
    "colab_type": "code",
    "id": "hmtWgh0xPYca",
    "outputId": "44bf40a7-3fab-4e7a-9eee-6cc466a1980a"
   },
   "outputs": [
    {
     "data": {
      "text/plain": "(8.588126386734231, 73.75591483452077, (50, 5))"
     },
     "execution_count": 78,
     "metadata": {},
     "output_type": "execute_result"
    }
   ],
   "source": [
    "ypred = model_skl.predict(Xdt)\n",
    "#ypred = np.ones_like(y_test) * np.median(y_train)\n",
    "sigma_hat_2 = np.mean((y_test - ypred.flatten())**2)\n",
    "np.sqrt(sigma_hat_2),sigma_hat_2,Xdt.shape"
   ]
  },
  {
   "cell_type": "code",
   "execution_count": 79,
   "metadata": {
    "colab": {
     "base_uri": "https://localhost:8080/",
     "height": 34
    },
    "colab_type": "code",
    "id": "MLg_A70-QbJr",
    "outputId": "a57c6bb0-cd23-44d1-bf60-2656a62a3ceb"
   },
   "outputs": [
    {
     "data": {
      "text/plain": "3.5693191297796893"
     },
     "execution_count": 79,
     "metadata": {},
     "output_type": "execute_result"
    }
   ],
   "source": [
    "0.5*np.log(2 * np.pi * sigma_hat_2) + 0.5*np.mean((y_test - ypred.flatten())**2)/sigma_hat_2"
   ]
  },
  {
   "cell_type": "markdown",
   "metadata": {
    "colab_type": "text",
    "id": "PLl18uW6D507"
   },
   "source": [
    "#### Comparison with test set"
   ]
  },
  {
   "cell_type": "markdown",
   "metadata": {
    "colab_type": "text",
    "id": "nCJHxadORefq"
   },
   "source": [
    "For the testset: plot the mean of the predicted number of fish caught against observed number of fish caught. Further include the 2.5 and 97.25 precentile of p(y|x), the conditional predictive distribution (CPD) of $y$ for a given $x$. Why is a Gaussian not ideal for that kind of data? For the Gaussian the 2.5% and the 97.5% percentile is approximatiy given by $\\mu \\pm 1.96*\\sigma$"
   ]
  },
  {
   "cell_type": "code",
   "execution_count": 80,
   "metadata": {
    "colab": {
     "base_uri": "https://localhost:8080/",
     "height": 295
    },
    "colab_type": "code",
    "id": "f51ByX5wSjPa",
    "outputId": "2fce8f60-ebdb-493a-f3a9-6950c7f0bae0"
   },
   "outputs": [
    {
     "data": {
      "text/plain": "<Figure size 432x288 with 1 Axes>",
      "image/png": "[encoded data removed]"
     },
     "metadata": {
      "needs_background": "light"
     },
     "output_type": "display_data"
    }
   ],
   "source": [
    "plt.scatter(ypred, y_test,alpha=0.3)\n",
    "sort_idx=np.argsort(ypred,axis=0)\n",
    "plt.plot(ypred[sort_idx].flatten(), ypred[sort_idx].flatten()+1.96*np.sqrt(sigma_hat_2),linestyle='dashed',c=\"black\")\n",
    "plt.plot(ypred[sort_idx].flatten(), ypred[sort_idx].flatten()-1.96*np.sqrt(sigma_hat_2),linestyle='dashed',c=\"black\")\n",
    "plt.plot(ypred, ypred, c=\"black\")\n",
    "plt.title('Comparison on the testset')\n",
    "plt.xlabel('predicted average of caught fish')\n",
    "plt.ylabel('observed number of caught fish')\n",
    "plt.xlim(-5,15)\n",
    "plt.ylim(-5,15)\n",
    "plt.show()"
   ]
  },
  {
   "cell_type": "markdown",
   "metadata": {
    "colab_type": "text",
    "id": "XXsavhRVU4BJ"
   },
   "source": [
    "### Poisson\n",
    "\n",
    "This data is count data. Count data has only positive values and also the distribution is discrete. You cannot catch 0.5 fish and that the CPD has probability on negative number of fish is fishy too. A Gaussian as a CPD is therefore not ideal. Now use a Poissonian as CPD. If we assume a Poissonian then the probability to catch $k$ fish is given by \n",
    "$$\n",
    "  p(k) = \\exp(-\\mu) \\frac{\\mu^k}{k!}\n",
    "$$\n",
    "\n",
    "and the NLL is thus by:\n",
    "\n",
    "$$\n",
    " log(p(k)) = -\\mu  + k \\cdot \\log(\\mu) - log(k!)\n",
    "$$\n",
    "\n",
    "with $\\mu$ being the expectation. In our case the average number of fish expected.\n",
    "\n",
    "In the case of the probabilistic interpretation of the linear regression, $y_i$ for a given $x_i$ is distributed like a Gaussian. The paramter $\\mu_i$ from $N(\\mu_i,\\sigma^2)$ has been determined from $x_i$ via $\\mu_i= \\beta^T \\cdot x_i$. Nown in the Poissonian, $\\mu_i$ needs to be positive. We therefore pipe $\\beta^T \\cdot x_i$ through an exponential first to make it positive and can so determine $\\mu_i=exp(\\beta^T \\cdot x_i)$.\n",
    "\n",
    "Use a gradient descent approach to find the solution for the parameters. Calculate the RMSE and the NLL on the test set.\n",
    "\n",
    "Hint: On the trainingset the NLL for the parameter values (1,1,1,1,1) should be approx 1508 and the gradient "
   ]
  },
  {
   "cell_type": "code",
   "execution_count": 81,
   "metadata": {
    "colab": {
     "base_uri": "https://localhost:8080/",
     "height": 34
    },
    "colab_type": "code",
    "id": "HL_GpshBU4BJ",
    "outputId": "1560dedc-f3e6-4455-f474-b90e0c150657"
   },
   "outputs": [
    {
     "data": {
      "text/plain": "1507.9856602262082"
     },
     "execution_count": 81,
     "metadata": {},
     "output_type": "execute_result"
    }
   ],
   "source": [
    "def NLL(y_train, Xd, w):\n",
    "    mu = np.exp(np.matmul(Xd,w))\n",
    "    ret = np.zeros_like(mu)\n",
    "    for i in range(ret.shape[0]):\n",
    "        ret[i] = mu[i] - y_train[i]*np.log(mu[i]) + np.log(1.0*np.math.factorial(y_train[i].astype(int)))\n",
    "    return np.mean(ret)\n",
    "w = np.ones(5)\n",
    "NLL(y_train, Xd,w)"
   ]
  },
  {
   "cell_type": "code",
   "execution_count": 82,
   "metadata": {
    "colab": {
     "base_uri": "https://localhost:8080/",
     "height": 34
    },
    "colab_type": "code",
    "id": "LwpfoYG-U4BL",
    "outputId": "3cf4dd06-24bf-417e-dbb3-679193216af5"
   },
   "outputs": [
    {
     "data": {
      "text/plain": "array([-1518.61, -1403.99, -1171.02, -5701.91, -3258.7 ])"
     },
     "execution_count": 82,
     "metadata": {},
     "output_type": "execute_result"
    }
   ],
   "source": [
    "def gradNLL(y_train, Xd, w):\n",
    "    mu = np.exp(np.matmul(Xd,w))\n",
    "    #print(mu.shape)\n",
    "    ret = np.zeros_like(Xd)\n",
    "    for i in range(Xd.shape[0]):\n",
    "        mux = Xd[i] * mu[i]\n",
    "        ret[i] = -mux + y_train[i] *Xd[i]\n",
    "    return np.mean(ret, axis=0)\n",
    "\n",
    "NLL(y_train, Xd,np.ones(5))\n",
    "np.round(gradNLL(y_train, Xd,np.ones(5)),2)\n",
    "#1518.61, 1403.99, 1171.02, 5701.91, 3258.7"
   ]
  },
  {
   "cell_type": "code",
   "execution_count": 83,
   "metadata": {
    "colab": {
     "base_uri": "https://localhost:8080/",
     "height": 68
    },
    "colab_type": "code",
    "id": "DjXqvYyqU4BN",
    "outputId": "5184b8fa-b50a-436c-c8a1-8c831306fc26"
   },
   "outputs": [
    {
     "name": "stderr",
     "output_type": "stream",
     "text": [
      "100%|██████████| 10000/10000 [00:12<00:00, 805.65it/s]\n"
     ]
    },
    {
     "data": {
      "text/plain": "(array([-1.74007527,  0.56500613,  0.66091814,  0.93220074, -1.62023821]),\n 3.3806067025761606)"
     },
     "execution_count": 83,
     "metadata": {},
     "output_type": "execute_result"
    }
   ],
   "source": [
    "from tqdm import tqdm \n",
    "w = np.ones(5)\n",
    "hist = []\n",
    "for i in tqdm(range(10000)):\n",
    "    if (i % 10 == 0):\n",
    "        hist.append(NLL(y_train, Xd,w))\n",
    "    w = w + 0.001 * gradNLL(y_train, Xd,w)\n",
    "w, NLL(y_train, Xd,w)"
   ]
  },
  {
   "cell_type": "code",
   "execution_count": 84,
   "metadata": {
    "colab": {
     "base_uri": "https://localhost:8080/",
     "height": 286
    },
    "colab_type": "code",
    "id": "tRV1sLkQU4BO",
    "outputId": "88b17695-3df7-49c9-ce6b-87f30da200ed"
   },
   "outputs": [
    {
     "data": {
      "text/plain": "(0.0, 5.0)"
     },
     "execution_count": 84,
     "metadata": {},
     "output_type": "execute_result"
    },
    {
     "data": {
      "text/plain": "<Figure size 432x288 with 1 Axes>",
      "image/png": "[encoded data removed]"
     },
     "metadata": {
      "needs_background": "light"
     },
     "output_type": "display_data"
    }
   ],
   "source": [
    "plt.plot(hist)\n",
    "plt.ylim(0,5)"
   ]
  },
  {
   "cell_type": "code",
   "execution_count": 85,
   "metadata": {
    "colab": {
     "base_uri": "https://localhost:8080/",
     "height": 34
    },
    "colab_type": "code",
    "id": "j-HhXc7GU4BQ",
    "outputId": "d2743421-6e15-4202-9b28-a02fb7d3d842"
   },
   "outputs": [
    {
     "data": {
      "text/plain": "(7.389176645536159, 2.8768358338221574)"
     },
     "execution_count": 85,
     "metadata": {},
     "output_type": "execute_result"
    }
   ],
   "source": [
    "mupred = np.exp(np.matmul(Xdt, w))\n",
    "np.sqrt(np.mean((mupred - y_test)**2)), NLL(y_test, Xdt,w)"
   ]
  },
  {
   "cell_type": "markdown",
   "metadata": {
    "colab_type": "text",
    "id": "rtumKjuJEVKE"
   },
   "source": [
    "## A) Poisson Regression using a NN build with Keras\n",
    "\n",
    "Redo the analysis from above using Keras. You may (but don't have to) use tfp."
   ]
  },
  {
   "cell_type": "code",
   "execution_count": 102,
   "outputs": [],
   "source": [
    "import tensorflow.keras as keras\n",
    "from tensorflow.keras.optimizers import SGD\n",
    "import tensorflow as tf\n",
    "import tensorflow_probability as tfp\n",
    "from tensorflow.keras.models import Sequential\n",
    "from tensorflow.keras.models import Model\n",
    "from tensorflow.keras.layers import Dense, Input\n",
    "from tensorflow.keras.optimizers import Adam\n",
    "\n",
    "tfd = tfp.distributions\n",
    "tfb = tfp.bijectors"
   ],
   "metadata": {
    "collapsed": false,
    "pycharm": {
     "name": "#%%\n"
    }
   }
  },
  {
   "cell_type": "code",
   "execution_count": 104,
   "metadata": {
    "colab": {},
    "colab_type": "code",
    "id": "z4hUQh2aHFje"
   },
   "outputs": [
    {
     "ename": "ValueError",
     "evalue": "Expected a symbolic Tensor for the metric value, received: tf.Tensor(0.0, shape=(), dtype=float32)",
     "output_type": "error",
     "traceback": [
      "\u001B[1;31m---------------------------------------------------------------------------\u001B[0m",
      "\u001B[1;31mValueError\u001B[0m                                Traceback (most recent call last)",
      "Input \u001B[1;32mIn [104]\u001B[0m, in \u001B[0;36m<module>\u001B[1;34m\u001B[0m\n\u001B[0;32m      3\u001B[0m p_y \u001B[38;5;241m=\u001B[39m tfp\u001B[38;5;241m.\u001B[39mlayers\u001B[38;5;241m.\u001B[39mDistributionLambda(tfd\u001B[38;5;241m.\u001B[39mPoisson)(rate)\n\u001B[0;32m      5\u001B[0m model_p \u001B[38;5;241m=\u001B[39m Model(inputs\u001B[38;5;241m=\u001B[39minputs, outputs\u001B[38;5;241m=\u001B[39mp_y)\n\u001B[1;32m----> 7\u001B[0m \u001B[43mmodel_p\u001B[49m\u001B[38;5;241;43m.\u001B[39;49m\u001B[43madd_metric\u001B[49m\u001B[43m(\u001B[49m\u001B[43mtf\u001B[49m\u001B[38;5;241;43m.\u001B[39;49m\u001B[43mkeras\u001B[49m\u001B[38;5;241;43m.\u001B[39;49m\u001B[43mmetrics\u001B[49m\u001B[38;5;241;43m.\u001B[39;49m\u001B[43mMean\u001B[49m\u001B[43m(\u001B[49m\u001B[43m)\u001B[49m\u001B[43m(\u001B[49m\u001B[43mp_y\u001B[49m\u001B[43m)\u001B[49m\u001B[43m,\u001B[49m\u001B[43m \u001B[49m\u001B[43mname\u001B[49m\u001B[38;5;241;43m=\u001B[39;49m\u001B[38;5;124;43m'\u001B[39;49m\u001B[38;5;124;43mmetric_1\u001B[39;49m\u001B[38;5;124;43m'\u001B[39;49m\u001B[43m)\u001B[49m\n\u001B[0;32m      9\u001B[0m \u001B[38;5;28;01mdef\u001B[39;00m \u001B[38;5;21mNLL2\u001B[39m(y_true, y_hat):\n\u001B[0;32m     10\u001B[0m   \u001B[38;5;28;01mreturn\u001B[39;00m \u001B[38;5;241m-\u001B[39my_hat\u001B[38;5;241m.\u001B[39mlog_prob(y_true)\n",
      "File \u001B[1;32m~\\AppData\\Local\\Programs\\Python\\Python39\\lib\\site-packages\\keras\\engine\\base_layer.py:1701\u001B[0m, in \u001B[0;36mLayer.add_metric\u001B[1;34m(self, value, name, **kwargs)\u001B[0m\n\u001B[0;32m   1698\u001B[0m   name \u001B[38;5;241m=\u001B[39m value\u001B[38;5;241m.\u001B[39m_metric_obj\u001B[38;5;241m.\u001B[39mname\n\u001B[0;32m   1700\u001B[0m \u001B[38;5;28;01mif\u001B[39;00m \u001B[38;5;129;01mnot\u001B[39;00m in_call_context \u001B[38;5;129;01mand\u001B[39;00m \u001B[38;5;129;01mnot\u001B[39;00m is_symbolic:\n\u001B[1;32m-> 1701\u001B[0m   \u001B[38;5;28;01mraise\u001B[39;00m \u001B[38;5;167;01mValueError\u001B[39;00m(\u001B[38;5;124m'\u001B[39m\u001B[38;5;124mExpected a symbolic Tensor for the metric value, \u001B[39m\u001B[38;5;124m'\u001B[39m\n\u001B[0;32m   1702\u001B[0m                    \u001B[38;5;124m'\u001B[39m\u001B[38;5;124mreceived: \u001B[39m\u001B[38;5;124m'\u001B[39m \u001B[38;5;241m+\u001B[39m \u001B[38;5;28mstr\u001B[39m(value))\n\u001B[0;32m   1704\u001B[0m \u001B[38;5;66;03m# If a metric was added in a Layer's `call` or `build`.\u001B[39;00m\n\u001B[0;32m   1705\u001B[0m \u001B[38;5;28;01mif\u001B[39;00m in_call_context \u001B[38;5;129;01mor\u001B[39;00m \u001B[38;5;129;01mnot\u001B[39;00m \u001B[38;5;28mgetattr\u001B[39m(\u001B[38;5;28mself\u001B[39m, \u001B[38;5;124m'\u001B[39m\u001B[38;5;124m_is_graph_network\u001B[39m\u001B[38;5;124m'\u001B[39m, \u001B[38;5;28;01mFalse\u001B[39;00m):\n\u001B[0;32m   1706\u001B[0m   \u001B[38;5;66;03m# TF Function path should take the eager path.\u001B[39;00m\n\u001B[0;32m   1707\u001B[0m \n\u001B[0;32m   1708\u001B[0m   \u001B[38;5;66;03m# If the given metric is available in `metrics` list we just update state\u001B[39;00m\n\u001B[0;32m   1709\u001B[0m   \u001B[38;5;66;03m# on it, otherwise we create a new metric instance and\u001B[39;00m\n\u001B[0;32m   1710\u001B[0m   \u001B[38;5;66;03m# add it to the `metrics` list.\u001B[39;00m\n",
      "\u001B[1;31mValueError\u001B[0m: Expected a symbolic Tensor for the metric value, received: tf.Tensor(0.0, shape=(), dtype=float32)"
     ]
    }
   ],
   "source": [
    "inputs = Input(shape=(X_train.shape[1],))\n",
    "rate = Dense(1, activation=tf.exp)(inputs)\n",
    "p_y = tfp.layers.DistributionLambda(tfd.Poisson)(rate)\n",
    "\n",
    "model_p = Model(inputs=inputs, outputs=p_y)\n",
    "\n",
    "def NLL2(y_true, y_hat):\n",
    "  return -y_hat.log_prob(y_true)\n",
    "\n",
    "model_p.compile(Adam(learning_rate=0.01), loss=NLL2)\n",
    "model_p.summary()"
   ]
  },
  {
   "cell_type": "code",
   "execution_count": 101,
   "metadata": {},
   "outputs": [
    {
     "name": "stdout",
     "output_type": "stream",
     "text": [
      "(200, 4)\n",
      "Epoch 1/50\n",
      "7/7 [==============================] - 0s 5ms/step - loss: 4.1356 - val_loss: 3.9671\n",
      "Epoch 2/50\n",
      "7/7 [==============================] - 0s 3ms/step - loss: 4.1121 - val_loss: 3.9562\n",
      "Epoch 3/50\n",
      "7/7 [==============================] - 0s 3ms/step - loss: 4.1149 - val_loss: 3.9423\n",
      "Epoch 4/50\n",
      "7/7 [==============================] - 0s 3ms/step - loss: 4.0938 - val_loss: 3.9293\n",
      "Epoch 5/50\n",
      "7/7 [==============================] - 0s 3ms/step - loss: 4.0839 - val_loss: 3.9155\n",
      "Epoch 6/50\n",
      "7/7 [==============================] - 0s 3ms/step - loss: 4.0790 - val_loss: 3.9048\n",
      "Epoch 7/50\n",
      "7/7 [==============================] - 0s 3ms/step - loss: 4.0770 - val_loss: 3.8923\n",
      "Epoch 8/50\n",
      "7/7 [==============================] - 0s 3ms/step - loss: 4.0648 - val_loss: 3.8797\n",
      "Epoch 9/50\n",
      "7/7 [==============================] - 0s 3ms/step - loss: 4.0610 - val_loss: 3.8707\n",
      "Epoch 10/50\n",
      "7/7 [==============================] - 0s 3ms/step - loss: 4.0476 - val_loss: 3.8557\n",
      "Epoch 11/50\n",
      "7/7 [==============================] - 0s 3ms/step - loss: 4.0437 - val_loss: 3.8488\n",
      "Epoch 12/50\n",
      "7/7 [==============================] - 0s 3ms/step - loss: 4.0240 - val_loss: 3.8371\n",
      "Epoch 13/50\n",
      "7/7 [==============================] - 0s 3ms/step - loss: 4.0201 - val_loss: 3.8243\n",
      "Epoch 14/50\n",
      "7/7 [==============================] - 0s 3ms/step - loss: 4.0159 - val_loss: 3.8195\n",
      "Epoch 15/50\n",
      "7/7 [==============================] - 0s 3ms/step - loss: 4.0032 - val_loss: 3.8174\n",
      "Epoch 16/50\n",
      "7/7 [==============================] - 0s 3ms/step - loss: 3.9852 - val_loss: 3.8020\n",
      "Epoch 17/50\n",
      "7/7 [==============================] - 0s 3ms/step - loss: 3.9898 - val_loss: 3.7863\n",
      "Epoch 18/50\n",
      "7/7 [==============================] - 0s 3ms/step - loss: 3.9890 - val_loss: 3.8033\n",
      "Epoch 19/50\n",
      "7/7 [==============================] - 0s 3ms/step - loss: 3.9883 - val_loss: 3.7897\n",
      "Epoch 20/50\n",
      "7/7 [==============================] - 0s 3ms/step - loss: 3.9785 - val_loss: 3.7632\n",
      "Epoch 21/50\n",
      "7/7 [==============================] - 0s 3ms/step - loss: 3.9808 - val_loss: 3.7287\n",
      "Epoch 22/50\n",
      "7/7 [==============================] - 0s 3ms/step - loss: 3.9331 - val_loss: 3.7142\n",
      "Epoch 23/50\n",
      "7/7 [==============================] - 0s 3ms/step - loss: 3.9185 - val_loss: 3.7024\n",
      "Epoch 24/50\n",
      "7/7 [==============================] - 0s 3ms/step - loss: 3.9295 - val_loss: 3.6984\n",
      "Epoch 25/50\n",
      "7/7 [==============================] - 0s 3ms/step - loss: 3.9323 - val_loss: 3.6888\n",
      "Epoch 26/50\n",
      "7/7 [==============================] - 0s 3ms/step - loss: 3.8746 - val_loss: 3.6910\n",
      "Epoch 27/50\n",
      "7/7 [==============================] - 0s 3ms/step - loss: 3.9179 - val_loss: 3.6862\n",
      "Epoch 28/50\n",
      "7/7 [==============================] - 0s 3ms/step - loss: 3.9181 - val_loss: 3.6697\n",
      "Epoch 29/50\n",
      "7/7 [==============================] - 0s 3ms/step - loss: 3.9016 - val_loss: 3.6524\n",
      "Epoch 30/50\n",
      "7/7 [==============================] - 0s 3ms/step - loss: 3.8891 - val_loss: 3.6427\n",
      "Epoch 31/50\n",
      "7/7 [==============================] - 0s 3ms/step - loss: 3.8977 - val_loss: 3.6320\n",
      "Epoch 32/50\n",
      "7/7 [==============================] - 0s 3ms/step - loss: 3.8761 - val_loss: 3.6544\n",
      "Epoch 33/50\n",
      "7/7 [==============================] - 0s 3ms/step - loss: 3.9121 - val_loss: 3.6441\n",
      "Epoch 34/50\n",
      "7/7 [==============================] - 0s 3ms/step - loss: 3.8782 - val_loss: 3.6135\n",
      "Epoch 35/50\n",
      "7/7 [==============================] - 0s 3ms/step - loss: 3.8508 - val_loss: 3.5925\n",
      "Epoch 36/50\n",
      "7/7 [==============================] - 0s 3ms/step - loss: 3.8483 - val_loss: 3.5861\n",
      "Epoch 37/50\n",
      "7/7 [==============================] - 0s 3ms/step - loss: 3.8504 - val_loss: 3.5827\n",
      "Epoch 38/50\n",
      "7/7 [==============================] - 0s 3ms/step - loss: 3.8424 - val_loss: 3.5759\n",
      "Epoch 39/50\n",
      "7/7 [==============================] - 0s 3ms/step - loss: 3.8368 - val_loss: 3.5709\n",
      "Epoch 40/50\n",
      "7/7 [==============================] - 0s 3ms/step - loss: 3.8375 - val_loss: 3.5613\n",
      "Epoch 41/50\n",
      "7/7 [==============================] - 0s 3ms/step - loss: 3.8369 - val_loss: 3.5542\n",
      "Epoch 42/50\n",
      "7/7 [==============================] - 0s 3ms/step - loss: 3.8346 - val_loss: 3.5554\n",
      "Epoch 43/50\n",
      "7/7 [==============================] - 0s 3ms/step - loss: 3.8208 - val_loss: 3.5518\n",
      "Epoch 44/50\n",
      "7/7 [==============================] - 0s 3ms/step - loss: 3.8134 - val_loss: 3.5489\n",
      "Epoch 45/50\n",
      "7/7 [==============================] - 0s 3ms/step - loss: 3.8190 - val_loss: 3.5477\n",
      "Epoch 46/50\n",
      "7/7 [==============================] - 0s 3ms/step - loss: 3.8151 - val_loss: 3.5402\n",
      "Epoch 47/50\n",
      "7/7 [==============================] - 0s 3ms/step - loss: 3.7947 - val_loss: 3.5490\n",
      "Epoch 48/50\n",
      "7/7 [==============================] - 0s 3ms/step - loss: 3.8117 - val_loss: 3.5646\n",
      "Epoch 49/50\n",
      "7/7 [==============================] - 0s 3ms/step - loss: 3.8316 - val_loss: 3.5505\n",
      "Epoch 50/50\n",
      "7/7 [==============================] - 0s 3ms/step - loss: 3.8210 - val_loss: 3.5294\n"
     ]
    },
    {
     "ename": "AttributeError",
     "evalue": "'UserRegisteredTypeKerasTensor' object has no attribute 'mean'",
     "output_type": "error",
     "traceback": [
      "\u001B[1;31m---------------------------------------------------------------------------\u001B[0m",
      "\u001B[1;31mAttributeError\u001B[0m                            Traceback (most recent call last)",
      "Input \u001B[1;32mIn [101]\u001B[0m, in \u001B[0;36m<module>\u001B[1;34m\u001B[0m\n\u001B[0;32m      1\u001B[0m \u001B[38;5;28mprint\u001B[39m(X_train\u001B[38;5;241m.\u001B[39mshape)\n\u001B[0;32m      2\u001B[0m hist_p \u001B[38;5;241m=\u001B[39m model_p\u001B[38;5;241m.\u001B[39mfit(x\u001B[38;5;241m=\u001B[39mX_train, y\u001B[38;5;241m=\u001B[39my_train, validation_data\u001B[38;5;241m=\u001B[39m(X_test, y_test), epochs\u001B[38;5;241m=\u001B[39m\u001B[38;5;241m50\u001B[39m, verbose\u001B[38;5;241m=\u001B[39m\u001B[38;5;241m1\u001B[39m)\n\u001B[1;32m----> 4\u001B[0m \u001B[38;5;28mprint\u001B[39m(\u001B[43mp_y\u001B[49m\u001B[38;5;241;43m.\u001B[39;49m\u001B[43mmean\u001B[49m())\n",
      "\u001B[1;31mAttributeError\u001B[0m: 'UserRegisteredTypeKerasTensor' object has no attribute 'mean'"
     ]
    }
   ],
   "source": [
    "print(X_train.shape)\n",
    "hist_p = model_p.fit(x=X_train, y=y_train, validation_data=(X_test, y_test), epochs=50, verbose=1)\n",
    "\n",
    "print(p_y.mean())"
   ]
  },
  {
   "cell_type": "code",
   "execution_count": 95,
   "outputs": [
    {
     "data": {
      "text/plain": "Text(0.5, 0, 'Epochs')"
     },
     "execution_count": 95,
     "metadata": {},
     "output_type": "execute_result"
    },
    {
     "data": {
      "text/plain": "<Figure size 432x288 with 1 Axes>",
      "image/png": "[encoded data removed]"
     },
     "metadata": {
      "needs_background": "light"
     },
     "output_type": "display_data"
    }
   ],
   "source": [
    "plt.plot(hist_p.history['loss'])\n",
    "plt.plot(hist_p.history['val_loss'])\n",
    "plt.legend(['loss', 'val_loss'])\n",
    "plt.xlabel('Epochs')"
   ],
   "metadata": {
    "collapsed": false,
    "pycharm": {
     "name": "#%%\n"
    }
   }
  },
  {
   "cell_type": "code",
   "execution_count": 97,
   "outputs": [
    {
     "ename": "AttributeError",
     "evalue": "'UserRegisteredTypeKerasTensor' object has no attribute 'mean'",
     "output_type": "error",
     "traceback": [
      "\u001B[1;31m---------------------------------------------------------------------------\u001B[0m",
      "\u001B[1;31mAttributeError\u001B[0m                            Traceback (most recent call last)",
      "Input \u001B[1;32mIn [97]\u001B[0m, in \u001B[0;36m<module>\u001B[1;34m\u001B[0m\n\u001B[0;32m      1\u001B[0m mupred \u001B[38;5;241m=\u001B[39m np\u001B[38;5;241m.\u001B[39mexp(np\u001B[38;5;241m.\u001B[39mmatmul(Xdt, w))\n\u001B[0;32m      2\u001B[0m np\u001B[38;5;241m.\u001B[39msqrt(np\u001B[38;5;241m.\u001B[39mmean((mupred \u001B[38;5;241m-\u001B[39m y_test)\u001B[38;5;241m*\u001B[39m\u001B[38;5;241m*\u001B[39m\u001B[38;5;241m2\u001B[39m)), NLL(y_test, Xdt,w)\n\u001B[1;32m----> 4\u001B[0m model \u001B[38;5;241m=\u001B[39m Model(inputs\u001B[38;5;241m=\u001B[39minputs, outputs\u001B[38;5;241m=\u001B[39m\u001B[43mp_y\u001B[49m\u001B[38;5;241;43m.\u001B[39;49m\u001B[43mmean\u001B[49m()) \n\u001B[0;32m      5\u001B[0m y_hat_test \u001B[38;5;241m=\u001B[39m model\u001B[38;5;241m.\u001B[39mpredict(X_test)\u001B[38;5;241m.\u001B[39mflatten()\n\u001B[0;32m      8\u001B[0m NLL_train \u001B[38;5;241m=\u001B[39m model_p\u001B[38;5;241m.\u001B[39mevaluate(X_train, y_train,verbose\u001B[38;5;241m=\u001B[39m\u001B[38;5;241m0\u001B[39m) \n",
      "\u001B[1;31mAttributeError\u001B[0m: 'UserRegisteredTypeKerasTensor' object has no attribute 'mean'"
     ]
    }
   ],
   "source": [
    "mupred = np.exp(np.matmul(Xdt, w))\n",
    "np.sqrt(np.mean((mupred - y_test)**2)), NLL(y_test, Xdt,w)\n",
    "\n",
    "\n",
    "\n",
    "\n",
    "model = Model(inputs=inputs, outputs=p_y.mean())\n",
    "y_hat_test = model.predict(X_test).flatten()\n",
    "\n",
    "NLL_train = model_p.evaluate(X_train, y_train,verbose=0)\n",
    "NLL_test = model_p.evaluate(X_test, y_test,verbose=0)\n",
    "\n",
    "print('NLL on training:', NLL_train)\n",
    "print('NLL on test:', NLL_test)"
   ],
   "metadata": {
    "collapsed": false,
    "pycharm": {
     "name": "#%%\n"
    }
   }
  }
 ],
 "metadata": {
  "colab": {
   "collapsed_sections": [],
   "name": "Fish_Poisson_Keras.ipynb",
   "provenance": [],
   "toc_visible": true
  },
  "kernelspec": {
   "display_name": "Python 3",
   "language": "python",
   "name": "python3"
  },
  "language_info": {
   "codemirror_mode": {
    "name": "ipython",
    "version": 3
   },
   "file_extension": ".py",
   "mimetype": "text/x-python",
   "name": "python",
   "nbconvert_exporter": "python",
   "pygments_lexer": "ipython3",
   "version": "3.6.8"
  }
 },
 "nbformat": 4,
 "nbformat_minor": 1
}